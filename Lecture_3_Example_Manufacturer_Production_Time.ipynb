{
 "cells": [
  {
   "cell_type": "markdown",
   "metadata": {},
   "source": [
    "### Statistical Modelling. Lecture 3 Example\n",
    "A model for manufacturer production time (continued)"
   ]
  },
  {
   "cell_type": "markdown",
   "metadata": {},
   "source": [
    "A manufacturer wants to investigate the time it takes (in minutes) to produce individual orders of different sizes. Data from 20 randomly selected orders is given in [https://raw.githubusercontent.com/uqglmn/sm/main/production.csv](https://raw.githubusercontent.com/uqglmn/sm/main/production.csv). The relation between the run time and run size is expected to be linear."
   ]
  },
  {
   "cell_type": "markdown",
   "metadata": {},
   "source": [
    "#### Task 1\n",
    "\n",
    "Read the data from the file and inspect the result. Then create two vectors, $x$ and $y$, for predictor (Run Size) and response (Run Time) variables."
   ]
  },
  {
   "cell_type": "code",
   "execution_count": 1,
   "metadata": {},
   "outputs": [
    {
     "data": {
      "text/html": [
       "<table class=\"dataframe\">\n",
       "<caption>A data.frame: 6 × 2</caption>\n",
       "<thead>\n",
       "\t<tr><th></th><th scope=col>RunTime</th><th scope=col>RunSize</th></tr>\n",
       "\t<tr><th></th><th scope=col>&lt;int&gt;</th><th scope=col>&lt;int&gt;</th></tr>\n",
       "</thead>\n",
       "<tbody>\n",
       "\t<tr><th scope=row>1</th><td>195</td><td>175</td></tr>\n",
       "\t<tr><th scope=row>2</th><td>215</td><td>189</td></tr>\n",
       "\t<tr><th scope=row>3</th><td>243</td><td>344</td></tr>\n",
       "\t<tr><th scope=row>4</th><td>162</td><td> 88</td></tr>\n",
       "\t<tr><th scope=row>5</th><td>185</td><td>114</td></tr>\n",
       "\t<tr><th scope=row>6</th><td>231</td><td>338</td></tr>\n",
       "</tbody>\n",
       "</table>\n"
      ],
      "text/latex": [
       "A data.frame: 6 × 2\n",
       "\\begin{tabular}{r|ll}\n",
       "  & RunTime & RunSize\\\\\n",
       "  & <int> & <int>\\\\\n",
       "\\hline\n",
       "\t1 & 195 & 175\\\\\n",
       "\t2 & 215 & 189\\\\\n",
       "\t3 & 243 & 344\\\\\n",
       "\t4 & 162 &  88\\\\\n",
       "\t5 & 185 & 114\\\\\n",
       "\t6 & 231 & 338\\\\\n",
       "\\end{tabular}\n"
      ],
      "text/markdown": [
       "\n",
       "A data.frame: 6 × 2\n",
       "\n",
       "| <!--/--> | RunTime &lt;int&gt; | RunSize &lt;int&gt; |\n",
       "|---|---|---|\n",
       "| 1 | 195 | 175 |\n",
       "| 2 | 215 | 189 |\n",
       "| 3 | 243 | 344 |\n",
       "| 4 | 162 |  88 |\n",
       "| 5 | 185 | 114 |\n",
       "| 6 | 231 | 338 |\n",
       "\n"
      ],
      "text/plain": [
       "  RunTime RunSize\n",
       "1 195     175    \n",
       "2 215     189    \n",
       "3 243     344    \n",
       "4 162      88    \n",
       "5 185     114    \n",
       "6 231     338    "
      ]
     },
     "metadata": {},
     "output_type": "display_data"
    }
   ],
   "source": [
    "data = read.csv(\"https://raw.githubusercontent.com/uqglmn/sm/main/production.csv\", row.names=\"Case\")  # read data into a dataframe\n",
    "head(data)  # inspect dataframe"
   ]
  },
  {
   "cell_type": "code",
   "execution_count": 2,
   "metadata": {},
   "outputs": [],
   "source": [
    "x = data$RunSize    # predictor\n",
    "y = data$RunTime    # response\n",
    "n = length(y)       # the number of observations"
   ]
  },
  {
   "cell_type": "markdown",
   "metadata": {},
   "source": [
    "#### Task 2\n",
    "\n",
    "Fit a simple linear regression model to the data. You will need to use the following formulas:\n",
    "$$\n",
    "\\hat\\beta_1 = \\frac{s_{xy}}{s_{xx}} , \\qquad \\hat\\beta_0 = \\bar y - \\hat\\beta_1 \\bar x\n",
    "$$\n",
    "where\n",
    "$$\n",
    "s_{xx} = \\sum_{i=1}^n (x_i - \\bar x)^2 , \\qquad s_{xy} = \\sum_{i=1}^n (x_i - \\bar x)(y_i - \\bar y)\n",
    "$$ \n",
    "Then plot the data and the model."
   ]
  },
  {
   "cell_type": "code",
   "execution_count": 3,
   "metadata": {},
   "outputs": [
    {
     "data": {
      "text/html": [
       "'sxx = 191473.75, sxy = 49638.25'"
      ],
      "text/latex": [
       "'sxx = 191473.75, sxy = 49638.25'"
      ],
      "text/markdown": [
       "'sxx = 191473.75, sxy = 49638.25'"
      ],
      "text/plain": [
       "[1] \"sxx = 191473.75, sxy = 49638.25\""
      ]
     },
     "metadata": {},
     "output_type": "display_data"
    }
   ],
   "source": [
    "sxx = sum( (x - mean(x))**2 )\n",
    "sxy = sum( (x - mean(x))*(y - mean(y)) )\n",
    "sprintf(\"sxx = %.2f, sxy = %.2f\", sxx, sxy) "
   ]
  },
  {
   "cell_type": "code",
   "execution_count": 4,
   "metadata": {},
   "outputs": [
    {
     "data": {
      "text/html": [
       "'intercept = 149.75, slope = 0.26'"
      ],
      "text/latex": [
       "'intercept = 149.75, slope = 0.26'"
      ],
      "text/markdown": [
       "'intercept = 149.75, slope = 0.26'"
      ],
      "text/plain": [
       "[1] \"intercept = 149.75, slope = 0.26\""
      ]
     },
     "metadata": {},
     "output_type": "display_data"
    }
   ],
   "source": [
    "b1hat = sxy/sxx\n",
    "b0hat = mean(y) - b1hat*mean(x)\n",
    "sprintf(\"intercept = %.2f, slope = %.2f\", b0hat, b1hat)"
   ]
  },
  {
   "cell_type": "code",
   "execution_count": 5,
   "metadata": {},
   "outputs": [
    {
     "data": {
      "image/png": "[encoded data removed]",
      "text/plain": [
       "Plot with title “Manufacturer data”"
      ]
     },
     "metadata": {
      "image/png": {
       "height": 360,
       "width": 360
      }
     },
     "output_type": "display_data"
    }
   ],
   "source": [
    "options(repr.plot.width=6, repr.plot.height=6)\n",
    "\n",
    "plot(x=x, y=y,                     # scatterplot y versus x\n",
    "     main=\"Manufacturer data\",     # set main title (optional) \n",
    "     font.main = 1, cex.main=1,    # title font options (optional)\n",
    "     xlab=\"Run Size\",              # set x-label (optional)\n",
    "     ylab=\"Run Time\"               # set y-label (optional)\n",
    "    )\n",
    "\n",
    "abline(a=b0hat, b=b1hat)      # add a line with intercept a and slope b"
   ]
  },
  {
   "cell_type": "markdown",
   "metadata": {},
   "source": [
    "#### Task 3\n",
    "\n",
    "Find a $95\\%$ confidence interval for the slope of the regression model using\n",
    "$$ \n",
    "{\\rm CI(\\beta_1)} = \\big[ \\hat\\beta_1 - t_{\\alpha/2,\\, n-2}\\cdot {\\rm se}(\\hat\\beta_1), \\hat\\beta_1 + t_{\\alpha/2,\\, n-2}\\cdot {\\rm se}(\\hat\\beta_1) \\big]\n",
    "$$\n",
    "where\n",
    "$$\n",
    "{\\rm se}(\\hat\\beta_1) = \\sqrt{\\hat\\sigma^2/s_{xx}} ,\\qquad \\hat\\sigma^2 = \\frac{1}{n-2}\\sum_{i=1}^n (y_i - \\hat y_i)^2\n",
    "$$\n",
    "Use ``qt(1-0.05/2, n-2)`` to get the critical t-value, $t_{\\alpha/2,\\, n-2}$.\n",
    "\n",
    "**Question.** Is 0.25 a plausible value for $\\beta_1$? Give a reason to support your answer.\n",
    "\n"
   ]
  },
  {
   "cell_type": "code",
   "execution_count": 6,
   "metadata": {},
   "outputs": [
    {
     "data": {
      "text/html": [
       "'A 95% CI for the slope is [0.181, 0.337]'"
      ],
      "text/latex": [
       "'A 95\\% CI for the slope is {[}0.181, 0.337{]}'"
      ],
      "text/markdown": [
       "'A 95% CI for the slope is [0.181, 0.337]'"
      ],
      "text/plain": [
       "[1] \"A 95% CI for the slope is [0.181, 0.337]\""
      ]
     },
     "metadata": {},
     "output_type": "display_data"
    }
   ],
   "source": [
    "yhat      = b0hat + b1hat * x          # find fitted values from the regression line\n",
    "sigma2hat = sum( (y-yhat)**2 ) / (n-2) # estimated variance hat-sigma-squared\n",
    "seb1      = sqrt( sigma2hat/sxx )      # estimated standard error of beta-1\n",
    "tcrit     = qt(1-0.05/2, n-2)          # critical t-value for 100% - 5%/2 = 97.5%\n",
    "CImin     = b1hat - tcrit*seb1         # lower bound of the confidence interval\n",
    "CImax     = b1hat + tcrit*seb1         # upper bound of the confidecne interval\n",
    "\n",
    "sprintf(\"A 95%% CI for the slope is [%.3f, %.3f]\", CImin, CImax)"
   ]
  },
  {
   "cell_type": "markdown",
   "metadata": {},
   "source": [
    "**Answer**. The value $0.25$ falls into the 95% CI for $\\beta_1$, thus it is a plausible value."
   ]
  },
  {
   "cell_type": "markdown",
   "metadata": {},
   "source": [
    "#### Task 4\n",
    "\n",
    "Compute the total sum of squares, $SS_T$, the regression sum of squares, $SS_R$, and the residual sum of squares, $SS_E$:\n",
    "$$\n",
    "SS_T = \\sum_{i=1}^n(y_i-\\bar y)^2 , \\qquad\n",
    "SS_R = \\sum_{i=1}^n(\\hat y_i-\\bar y)^2 , \\qquad\n",
    "SS_E = \\sum_{i=1}^n(y_i-\\hat y_i)^2\n",
    "$$\n",
    "where $\\hat y_i = \\hat\\beta_0 + \\hat\\beta_1 x_i$ are fitted values. Then verify that\n",
    "$$\n",
    "SS_T = SS_R + SS_E\n",
    "$$\n",
    "\n",
    "Hint. Use function ``all.equal()`` to compare floating point numerals."
   ]
  },
  {
   "cell_type": "code",
   "execution_count": 7,
   "metadata": {},
   "outputs": [
    {
     "data": {
      "text/html": [
       "TRUE"
      ],
      "text/latex": [
       "TRUE"
      ],
      "text/markdown": [
       "TRUE"
      ],
      "text/plain": [
       "[1] TRUE"
      ]
     },
     "metadata": {},
     "output_type": "display_data"
    }
   ],
   "source": [
    "SST = sum( (y-mean(y))**2 )     # total sum of squares\n",
    "SSR = sum( (yhat-mean(y))**2 )  # regression sum of squares\n",
    "SSE = sum( (y-yhat)**2 )        # residual (error) sum of squares\n",
    "\n",
    "all.equal(SST,SSR+SSE)          # verify a.o.v. identity"
   ]
  },
  {
   "cell_type": "markdown",
   "metadata": {},
   "source": [
    "#### Task 5\n",
    "\n",
    "Construct the analysis of variance table and test the signifiance of regression assuming $\\alpha=5\\%$. The critical $F$-value $F_{1-\\alpha, 1, n-1}$ can be obtained using ``qf(1-0.05, 1, n-1)``. You need to fill-in the table below.\n",
    "\n",
    "| Source of Variation |  d.o.f. |   SS   |   MS   |   F   |\n",
    "|:--------------------|--------:|-------:|-------:|------:|\n",
    "| Regression          | $\\nu_R$ | $SS_R$ | $MS_R$ | $F$   |\n",
    "| Residual            | $\\nu_E$ | $SS_E$ | $MS_E$ |       |\n",
    "| Total               | $\\nu_T$ | $SS_T$ |        |       |\n",
    "\n",
    "**Question.** Is regression significant?"
   ]
  },
  {
   "cell_type": "code",
   "execution_count": 8,
   "metadata": {},
   "outputs": [
    {
     "data": {
      "text/html": [
       "<table class=\"dataframe\">\n",
       "<caption>A data.frame: 3 × 5</caption>\n",
       "<thead>\n",
       "\t<tr><th scope=col>Source</th><th scope=col>dof</th><th scope=col>SS</th><th scope=col>MS</th><th scope=col>F</th></tr>\n",
       "\t<tr><th scope=col>&lt;chr&gt;</th><th scope=col>&lt;dbl&gt;</th><th scope=col>&lt;dbl&gt;</th><th scope=col>&lt;dbl&gt;</th><th scope=col>&lt;dbl&gt;</th></tr>\n",
       "</thead>\n",
       "<tbody>\n",
       "\t<tr><td>Regression</td><td> 1</td><td>12868.37</td><td>12868.37</td><td>48.72</td></tr>\n",
       "\t<tr><td>Residual  </td><td>18</td><td> 4754.58</td><td>  264.14</td><td>   NA</td></tr>\n",
       "\t<tr><td>Total     </td><td>19</td><td>17622.95</td><td>      NA</td><td>   NA</td></tr>\n",
       "</tbody>\n",
       "</table>\n"
      ],
      "text/latex": [
       "A data.frame: 3 × 5\n",
       "\\begin{tabular}{lllll}\n",
       " Source & dof & SS & MS & F\\\\\n",
       " <chr> & <dbl> & <dbl> & <dbl> & <dbl>\\\\\n",
       "\\hline\n",
       "\t Regression &  1 & 12868.37 & 12868.37 & 48.72\\\\\n",
       "\t Residual   & 18 &  4754.58 &   264.14 &    NA\\\\\n",
       "\t Total      & 19 & 17622.95 &       NA &    NA\\\\\n",
       "\\end{tabular}\n"
      ],
      "text/markdown": [
       "\n",
       "A data.frame: 3 × 5\n",
       "\n",
       "| Source &lt;chr&gt; | dof &lt;dbl&gt; | SS &lt;dbl&gt; | MS &lt;dbl&gt; | F &lt;dbl&gt; |\n",
       "|---|---|---|---|---|\n",
       "| Regression |  1 | 12868.37 | 12868.37 | 48.72 |\n",
       "| Residual   | 18 |  4754.58 |   264.14 |    NA |\n",
       "| Total      | 19 | 17622.95 |       NA |    NA |\n",
       "\n"
      ],
      "text/plain": [
       "  Source     dof SS       MS       F    \n",
       "1 Regression  1  12868.37 12868.37 48.72\n",
       "2 Residual   18   4754.58   264.14    NA\n",
       "3 Total      19  17622.95       NA    NA"
      ]
     },
     "metadata": {},
     "output_type": "display_data"
    }
   ],
   "source": [
    "nu.R = 1    # regression degrees of freedom\n",
    "nu.E = n-2  # residual degrees of freedom\n",
    "nu.T = n-1  # total degrees of freedom\n",
    "\n",
    "MSR  = SSR/nu.R  # mean regression sum of squares\n",
    "MSE  = SSE/nu.E  # mean residual (error) sum of squares\n",
    "F    = MSR/MSE   # F-value\n",
    "\n",
    "# AoV table\n",
    "table = data.frame(\n",
    "    Source = c(\"Regression\",\"Residual\",\"Total\"),\n",
    "    dof = c(nu.R, nu.E, nu.T),\n",
    "    SS  = round(c(SSR,SSE,SST),2),\n",
    "    MS  = round(c(MSR,MSE,NA),2),\n",
    "    F   = round(c(F,NA,NA),2)   \n",
    ")\n",
    "\n",
    "table"
   ]
  },
  {
   "cell_type": "code",
   "execution_count": 9,
   "metadata": {},
   "outputs": [
    {
     "data": {
      "text/html": [
       "'The calculated F-value is 48.72. The critical F-value is 4.41'"
      ],
      "text/latex": [
       "'The calculated F-value is 48.72. The critical F-value is 4.41'"
      ],
      "text/markdown": [
       "'The calculated F-value is 48.72. The critical F-value is 4.41'"
      ],
      "text/plain": [
       "[1] \"The calculated F-value is 48.72. The critical F-value is 4.41\""
      ]
     },
     "metadata": {},
     "output_type": "display_data"
    }
   ],
   "source": [
    "Fcrit = qf(0.95, nu.R, nu.E)     # critical F-value for 0.95 percentile\n",
    "\n",
    "sprintf(\"The calculated F-value is %.2f. The critical F-value is %.2f\", F, Fcrit)"
   ]
  },
  {
   "cell_type": "markdown",
   "metadata": {},
   "source": [
    "**Answer.** The calculated value is $F_{cal} > F_{crit}$, hence the regression is significant."
   ]
  },
  {
   "cell_type": "markdown",
   "metadata": {},
   "source": [
    "### Built-in statistical functions\n",
    "\n",
    "The are built-in statistical functions in R that can do all the hard work for us. \n",
    "We can verify our results using these functions."
   ]
  },
  {
   "cell_type": "code",
   "execution_count": 10,
   "metadata": {},
   "outputs": [
    {
     "data": {
      "text/plain": [
       "\n",
       "Call:\n",
       "lm(formula = RunTime ~ RunSize, data = data)\n",
       "\n",
       "Residuals:\n",
       "    Min      1Q  Median      3Q     Max \n",
       "-28.597 -11.079   3.329   8.302  29.627 \n",
       "\n",
       "Coefficients:\n",
       "             Estimate Std. Error t value Pr(>|t|)    \n",
       "(Intercept) 149.74770    8.32815   17.98 6.00e-13 ***\n",
       "RunSize       0.25924    0.03714    6.98 1.61e-06 ***\n",
       "---\n",
       "Signif. codes:  0 ‘***’ 0.001 ‘**’ 0.01 ‘*’ 0.05 ‘.’ 0.1 ‘ ’ 1\n",
       "\n",
       "Residual standard error: 16.25 on 18 degrees of freedom\n",
       "Multiple R-squared:  0.7302,\tAdjusted R-squared:  0.7152 \n",
       "F-statistic: 48.72 on 1 and 18 DF,  p-value: 1.615e-06\n"
      ]
     },
     "metadata": {},
     "output_type": "display_data"
    }
   ],
   "source": [
    "# fit a simple linear regression model\n",
    "ProductionTimeModel = lm( RunTime ~ RunSize, data = data ) \n",
    "summary(ProductionTimeModel)"
   ]
  },
  {
   "cell_type": "code",
   "execution_count": 11,
   "metadata": {},
   "outputs": [
    {
     "data": {
      "text/html": [
       "<table class=\"dataframe\">\n",
       "<caption>A matrix: 2 × 2 of type dbl</caption>\n",
       "<thead>\n",
       "\t<tr><th></th><th scope=col>2.5 %</th><th scope=col>97.5 %</th></tr>\n",
       "</thead>\n",
       "<tbody>\n",
       "\t<tr><th scope=row>(Intercept)</th><td>132.251</td><td>167.244</td></tr>\n",
       "\t<tr><th scope=row>RunSize</th><td>  0.181</td><td>  0.337</td></tr>\n",
       "</tbody>\n",
       "</table>\n"
      ],
      "text/latex": [
       "A matrix: 2 × 2 of type dbl\n",
       "\\begin{tabular}{r|ll}\n",
       "  & 2.5 \\% & 97.5 \\%\\\\\n",
       "\\hline\n",
       "\t(Intercept) & 132.251 & 167.244\\\\\n",
       "\tRunSize &   0.181 &   0.337\\\\\n",
       "\\end{tabular}\n"
      ],
      "text/markdown": [
       "\n",
       "A matrix: 2 × 2 of type dbl\n",
       "\n",
       "| <!--/--> | 2.5 % | 97.5 % |\n",
       "|---|---|---|\n",
       "| (Intercept) | 132.251 | 167.244 |\n",
       "| RunSize |   0.181 |   0.337 |\n",
       "\n"
      ],
      "text/plain": [
       "            2.5 %   97.5 % \n",
       "(Intercept) 132.251 167.244\n",
       "RunSize       0.181   0.337"
      ]
     },
     "metadata": {},
     "output_type": "display_data"
    }
   ],
   "source": [
    "# 95% confidence interval \n",
    "round(confint(ProductionTimeModel, level=0.95),3)"
   ]
  },
  {
   "cell_type": "code",
   "execution_count": 12,
   "metadata": {},
   "outputs": [
    {
     "data": {
      "text/html": [
       "<table class=\"dataframe\">\n",
       "<caption>A anova: 2 × 5</caption>\n",
       "<thead>\n",
       "\t<tr><th></th><th scope=col>Df</th><th scope=col>Sum Sq</th><th scope=col>Mean Sq</th><th scope=col>F value</th><th scope=col>Pr(&gt;F)</th></tr>\n",
       "\t<tr><th></th><th scope=col>&lt;dbl&gt;</th><th scope=col>&lt;dbl&gt;</th><th scope=col>&lt;dbl&gt;</th><th scope=col>&lt;dbl&gt;</th><th scope=col>&lt;dbl&gt;</th></tr>\n",
       "</thead>\n",
       "<tbody>\n",
       "\t<tr><th scope=row>RunSize</th><td> 1</td><td>12868.37</td><td>12868.37</td><td>48.72</td><td> 0</td></tr>\n",
       "\t<tr><th scope=row>Residuals</th><td>18</td><td> 4754.58</td><td>  264.14</td><td>   NA</td><td>NA</td></tr>\n",
       "</tbody>\n",
       "</table>\n"
      ],
      "text/latex": [
       "A anova: 2 × 5\n",
       "\\begin{tabular}{r|lllll}\n",
       "  & Df & Sum Sq & Mean Sq & F value & Pr(>F)\\\\\n",
       "  & <dbl> & <dbl> & <dbl> & <dbl> & <dbl>\\\\\n",
       "\\hline\n",
       "\tRunSize &  1 & 12868.37 & 12868.37 & 48.72 &  0\\\\\n",
       "\tResiduals & 18 &  4754.58 &   264.14 &    NA & NA\\\\\n",
       "\\end{tabular}\n"
      ],
      "text/markdown": [
       "\n",
       "A anova: 2 × 5\n",
       "\n",
       "| <!--/--> | Df &lt;dbl&gt; | Sum Sq &lt;dbl&gt; | Mean Sq &lt;dbl&gt; | F value &lt;dbl&gt; | Pr(&gt;F) &lt;dbl&gt; |\n",
       "|---|---|---|---|---|---|\n",
       "| RunSize |  1 | 12868.37 | 12868.37 | 48.72 |  0 |\n",
       "| Residuals | 18 |  4754.58 |   264.14 |    NA | NA |\n",
       "\n"
      ],
      "text/plain": [
       "          Df Sum Sq   Mean Sq  F value Pr(>F)\n",
       "RunSize    1 12868.37 12868.37 48.72    0    \n",
       "Residuals 18  4754.58   264.14    NA   NA    "
      ]
     },
     "metadata": {},
     "output_type": "display_data"
    }
   ],
   "source": [
    "# analysis of variance table\n",
    "round(anova(ProductionTimeModel),2)"
   ]
  },
  {
   "cell_type": "markdown",
   "metadata": {},
   "source": [
    "---"
   ]
  }
 ],
 "metadata": {
  "kernelspec": {
   "display_name": "R",
   "language": "R",
   "name": "ir"
  },
  "language_info": {
   "codemirror_mode": "r",
   "file_extension": ".r",
   "mimetype": "text/x-r-source",
   "name": "R",
   "pygments_lexer": "r",
   "version": "4.3.1"
  }
 },
 "nbformat": 4,
 "nbformat_minor": 4
}
