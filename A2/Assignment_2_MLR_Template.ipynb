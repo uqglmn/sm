{
 "cells": [
  {
   "cell_type": "markdown",
   "id": "continent-montana",
   "metadata": {},
   "source": [
    "# Assignment 2 - Multiple Linear Regression\n",
    "\n",
    "5PAM1033 - Statistical Modelling\n",
    "\n",
    "Name Surname Student ID"
   ]
  },
  {
   "cell_type": "markdown",
   "id": "alternative-township",
   "metadata": {},
   "source": [
    "### 1. Data preparation"
   ]
  },
  {
   "cell_type": "markdown",
   "id": "05c8edd2",
   "metadata": {},
   "source": [
    "Prepare data for multiple linear regression analysis:\n",
    "\n",
    "- Conduct residual analysis and find suitable transformations of data, if needed. The transformations you may need are log, square, and reciprocal (1 mark).\n",
    "\n",
    "- Compute standardised residuals, leverages, and Cook's distances. Then find (and remove) outliers and bad leverage cases, if there are any (1 mark).\n",
    "\n",
    "- Briefly explain the regression diagnostics you did and the transformations you made, if any (1 mark).\n",
    "\n",
    "You can use all built-in statistical functions to complete this part."
   ]
  },
  {
   "cell_type": "code",
   "execution_count": null,
   "id": "51b23225",
   "metadata": {},
   "outputs": [],
   "source": []
  },
  {
   "cell_type": "markdown",
   "id": "hydraulic-nelson",
   "metadata": {},
   "source": [
    "### 2. Model selection"
   ]
  },
  {
   "cell_type": "markdown",
   "id": "87c50853",
   "metadata": {},
   "source": [
    "Find the best model for predicting the response variable:\n",
    "\n",
    "- Split the data into the training (80%) and test (20%) sets. \n",
    "- Use backwards elemination method, adjusted $R^2$, AIC, BIC, estimated and predicted standard error criterions to find the best model (3 marks).\n",
    "\t\t\n",
    "\n",
    "You can use all built-in statistical functions to complete this part.  "
   ]
  },
  {
   "cell_type": "code",
   "execution_count": null,
   "id": "f2c66b2b",
   "metadata": {},
   "outputs": [],
   "source": []
  },
  {
   "cell_type": "markdown",
   "id": "worse-heritage",
   "metadata": {},
   "source": [
    "### 3. Matrix approach"
   ]
  },
  {
   "cell_type": "markdown",
   "id": "af8446e2",
   "metadata": {},
   "source": [
    "Use formulas derived in lectures (in the matrix form) to:\n",
    "\n",
    "- Draw the analysis of variance table for significance of regression for your full model (2 marks).\n",
    "\n",
    "- Draw the analysis of variance table for the extra sums of squares comparison of your full and your best models (2 marks).\n",
    "\n",
    "All necessary quantities must be computed without using any built-in statistical functions. Then use built-in statistical functions to verify your results."
   ]
  },
  {
   "cell_type": "code",
   "execution_count": null,
   "id": "6eb060a7",
   "metadata": {},
   "outputs": [],
   "source": []
  },
  {
   "cell_type": "markdown",
   "id": "narrow-contamination",
   "metadata": {},
   "source": [
    "### Memo"
   ]
  },
  {
   "cell_type": "markdown",
   "id": "suspended-disposition",
   "metadata": {},
   "source": [
    "- 10% of  marks are allocated for presentation quality of your work.\n",
    "- Don't forget to verify your work. Restart the kernel and re-run the whole notebook.\n",
    "- Make a pdf copy of this notebook and submit together with the notebook."
   ]
  },
  {
   "cell_type": "markdown",
   "id": "2795f6b2",
   "metadata": {},
   "source": [
    "---"
   ]
  }
 ],
 "metadata": {
  "kernelspec": {
   "display_name": "R",
   "language": "R",
   "name": "ir"
  },
  "language_info": {
   "codemirror_mode": "r",
   "file_extension": ".r",
   "mimetype": "text/x-r-source",
   "name": "R",
   "pygments_lexer": "r",
   "version": "4.2.0"
  }
 },
 "nbformat": 4,
 "nbformat_minor": 5
}
