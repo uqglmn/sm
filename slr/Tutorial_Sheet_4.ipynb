{
 "cells": [
  {
   "cell_type": "markdown",
   "metadata": {},
   "source": [
    "## Statistical Modelling. Tutorial Sheet 4\n",
    "Regression diagnostics and transformations"
   ]
  },
  {
   "cell_type": "markdown",
   "metadata": {},
   "source": [
    "---"
   ]
  },
  {
   "cell_type": "code",
   "execution_count": 1,
   "metadata": {},
   "outputs": [],
   "source": [
    "# load custom function: regression_diagnostics(x, y, scale=1) \n",
    "source(\"https://raw.githubusercontent.com/uqglmn/sm/main/slr/diagnostics.R\")"
   ]
  },
  {
   "cell_type": "markdown",
   "metadata": {},
   "source": [
    "---"
   ]
  },
  {
   "cell_type": "markdown",
   "metadata": {},
   "source": [
    "### Exercise 1\n",
    "\n",
    "Generate a random data set with normally distributed random errors:"
   ]
  },
  {
   "cell_type": "code",
   "execution_count": 2,
   "metadata": {},
   "outputs": [],
   "source": [
    "set.seed(3) \n",
    "n   = 150                        # numbers of cases\n",
    "x   = runif(n, min=10, max=100)  # predictor\n",
    "err = rnorm(n, mean=0, sd=1)     # random errors\n",
    "y   = ( 10 + x + err )^(1/2)     # responses: y^2 = 10 + x + error"
   ]
  },
  {
   "cell_type": "markdown",
   "metadata": {},
   "source": [
    "**1.1.** Plot a scatter diagram. Does it seem likely that a straight-line model will be adequate?"
   ]
  },
  {
   "cell_type": "code",
   "execution_count": 3,
   "metadata": {},
   "outputs": [],
   "source": [
    "# write your code here\n",
    "\n"
   ]
  },
  {
   "cell_type": "markdown",
   "metadata": {},
   "source": [
    "**1.2.** Fit the straight-line model. Compute the summary statistics and the residual plots. What are your conclusions regarding model adequacy?"
   ]
  },
  {
   "cell_type": "code",
   "execution_count": 4,
   "metadata": {},
   "outputs": [],
   "source": [
    "# write your code here\n",
    "\n",
    " "
   ]
  },
  {
   "cell_type": "markdown",
   "metadata": {},
   "source": [
    "**1.3.** Use the Box-Cox method to find a suitable power transformation of the response variable, $y \\to y^\\lambda$. \n",
    "\n",
    "You need to load the ``MASS`` library first:\n",
    "```R\n",
    "> # install.packages(\"MASS\") if needed\n",
    "> library(MASS)\n",
    "> boxcox(y~x)\n",
    "```\n",
    "Then choose appropriate minimum and maximum values of $\\lambda$ to zoom in the plot\n",
    "```R\n",
    "> boxcox(y~x, lambda = seq(min, max, step))\n",
    "```\n",
    "\n",
    "Then repeat Step 1.2."
   ]
  },
  {
   "cell_type": "markdown",
   "metadata": {},
   "source": [
    "*Hint: In Boxcox analysis, zoom to `lambda=seq(1, 3, 0.1)`. The x-range is now sufficient for the BoxCox method to have a small error, i.e. the 95% confidence interval is very narrow.*"
   ]
  },
  {
   "cell_type": "code",
   "execution_count": 5,
   "metadata": {},
   "outputs": [],
   "source": [
    "library(MASS)"
   ]
  },
  {
   "cell_type": "code",
   "execution_count": 6,
   "metadata": {},
   "outputs": [],
   "source": [
    "# write your code here\n",
    "\n"
   ]
  },
  {
   "cell_type": "markdown",
   "metadata": {},
   "source": [
    "**2.4.** Modify the generating function of the random set to e.g.\n",
    "```R\n",
    "> y = ( 10 + x + err )^(1/3) \n",
    "```\n",
    "increase the $x$-range, and repeat the steps above."
   ]
  },
  {
   "cell_type": "code",
   "execution_count": 7,
   "metadata": {},
   "outputs": [],
   "source": [
    "# write your code here - generate new random data\n",
    "\n"
   ]
  },
  {
   "cell_type": "code",
   "execution_count": 8,
   "metadata": {},
   "outputs": [],
   "source": [
    "# write your code here - conduct regression diagnotics\n",
    "\n"
   ]
  },
  {
   "cell_type": "code",
   "execution_count": 9,
   "metadata": {},
   "outputs": [],
   "source": [
    "# write your code here - BoxCox analysis\n",
    "\n"
   ]
  },
  {
   "cell_type": "code",
   "execution_count": 10,
   "metadata": {},
   "outputs": [],
   "source": [
    "# write your code here - transfrom the data and conduct regression diagnotics\n",
    "\n"
   ]
  },
  {
   "cell_type": "markdown",
   "metadata": {},
   "source": [
    "---"
   ]
  },
  {
   "cell_type": "markdown",
   "metadata": {},
   "source": [
    "### Exercise 2\n",
    "\n",
    "The data shown below present the average number of surviving bacteria in a canned food product and the minutes of exposure to $150^\\circ$C heat."
   ]
  },
  {
   "cell_type": "code",
   "execution_count": 11,
   "metadata": {},
   "outputs": [
    {
     "data": {
      "text/html": [
       "<table class=\"dataframe\">\n",
       "<caption>A matrix: 2 × 12 of type dbl</caption>\n",
       "<tbody>\n",
       "\t<tr><th scope=row>time</th><td>  1</td><td>  2</td><td> 3</td><td> 4</td><td> 5</td><td> 6</td><td> 7</td><td> 8</td><td> 9</td><td>10</td><td>11</td><td>12</td></tr>\n",
       "\t<tr><th scope=row>bacteria</th><td>175</td><td>108</td><td>95</td><td>82</td><td>71</td><td>50</td><td>49</td><td>31</td><td>28</td><td>17</td><td> 6</td><td>11</td></tr>\n",
       "</tbody>\n",
       "</table>\n"
      ],
      "text/latex": [
       "A matrix: 2 × 12 of type dbl\n",
       "\\begin{tabular}{r|llllllllllll}\n",
       "\ttime &   1 &   2 &  3 &  4 &  5 &  6 &  7 &  8 &  9 & 10 & 11 & 12\\\\\n",
       "\tbacteria & 175 & 108 & 95 & 82 & 71 & 50 & 49 & 31 & 28 & 17 &  6 & 11\\\\\n",
       "\\end{tabular}\n"
      ],
      "text/markdown": [
       "\n",
       "A matrix: 2 × 12 of type dbl\n",
       "\n",
       "| time |   1 |   2 |  3 |  4 |  5 |  6 |  7 |  8 |  9 | 10 | 11 | 12 |\n",
       "| bacteria | 175 | 108 | 95 | 82 | 71 | 50 | 49 | 31 | 28 | 17 |  6 | 11 |\n",
       "\n"
      ],
      "text/plain": [
       "         [,1] [,2] [,3] [,4] [,5] [,6] [,7] [,8] [,9] [,10] [,11] [,12]\n",
       "time       1    2   3    4    5    6    7    8    9   10    11    12   \n",
       "bacteria 175  108  95   82   71   50   49   31   28   17     6    11   "
      ]
     },
     "metadata": {},
     "output_type": "display_data"
    }
   ],
   "source": [
    "bacteria = c(175, 108, 95, 82, 71, 50, 49, 31, 28, 17, 6, 11)\n",
    "time     = c(1:12)\n",
    "df       = data.frame(time,bacteria)\n",
    "t(df)"
   ]
  },
  {
   "cell_type": "markdown",
   "metadata": {},
   "source": [
    "**2.1.** Plot a scatter diagram of bacteria versus time. Does it seem likely that a straight-line model will\n",
    "be adequate?"
   ]
  },
  {
   "cell_type": "code",
   "execution_count": 12,
   "metadata": {},
   "outputs": [],
   "source": [
    "# write your code here\n",
    "\n"
   ]
  },
  {
   "cell_type": "markdown",
   "metadata": {},
   "source": [
    "**2.2.** Fit the straight-line model. Compute the summary statistics and the residual plots. What are your conclusions regarding model adequacy?"
   ]
  },
  {
   "cell_type": "code",
   "execution_count": 13,
   "metadata": {},
   "outputs": [],
   "source": [
    "# write your code here\n",
    "\n"
   ]
  },
  {
   "cell_type": "markdown",
   "metadata": {},
   "source": [
    "**2.3.** Identify an appropriate transformed model for these data. Fit this model to the data and conduct the usual tests of model adequacy. <br><br> *Hint. The number of survining bacteria decreases exponentially in time.*"
   ]
  },
  {
   "cell_type": "code",
   "execution_count": 14,
   "metadata": {},
   "outputs": [],
   "source": [
    "# write your code here\n",
    "\n"
   ]
  },
  {
   "cell_type": "markdown",
   "metadata": {},
   "source": [
    "---"
   ]
  },
  {
   "cell_type": "markdown",
   "metadata": {},
   "source": [
    "### Exercise 3\n",
    "\n",
    "A glass bottle manufacturing company has recorded data on the average number of defects per 10,000 bottles due to stones (small pieces of rock embedded in the bottle wall) and the number of weeks since the last furnace\n",
    "overhaul. The data are shown below."
   ]
  },
  {
   "cell_type": "code",
   "execution_count": 15,
   "metadata": {},
   "outputs": [
    {
     "data": {
      "text/html": [
       "<table class=\"dataframe\">\n",
       "<caption>A matrix: 2 × 14 of type dbl</caption>\n",
       "<tbody>\n",
       "\t<tr><th scope=row>weeks</th><td> 4</td><td> 5.0</td><td> 6.0</td><td> 7.0</td><td> 8</td><td> 9.0</td><td>10.0</td><td>11.0</td><td>12.0</td><td>13.0</td><td>14.0</td><td>15.0</td><td>16.0</td><td> 17.0</td></tr>\n",
       "\t<tr><th scope=row>defects</th><td>13</td><td>16.1</td><td>14.5</td><td>17.8</td><td>22</td><td>27.4</td><td>16.8</td><td>34.2</td><td>65.6</td><td>49.2</td><td>66.2</td><td>81.2</td><td>87.4</td><td>114.5</td></tr>\n",
       "</tbody>\n",
       "</table>\n"
      ],
      "text/latex": [
       "A matrix: 2 × 14 of type dbl\n",
       "\\begin{tabular}{r|llllllllllllll}\n",
       "\tweeks &  4 &  5.0 &  6.0 &  7.0 &  8 &  9.0 & 10.0 & 11.0 & 12.0 & 13.0 & 14.0 & 15.0 & 16.0 &  17.0\\\\\n",
       "\tdefects & 13 & 16.1 & 14.5 & 17.8 & 22 & 27.4 & 16.8 & 34.2 & 65.6 & 49.2 & 66.2 & 81.2 & 87.4 & 114.5\\\\\n",
       "\\end{tabular}\n"
      ],
      "text/markdown": [
       "\n",
       "A matrix: 2 × 14 of type dbl\n",
       "\n",
       "| weeks |  4 |  5.0 |  6.0 |  7.0 |  8 |  9.0 | 10.0 | 11.0 | 12.0 | 13.0 | 14.0 | 15.0 | 16.0 |  17.0 |\n",
       "| defects | 13 | 16.1 | 14.5 | 17.8 | 22 | 27.4 | 16.8 | 34.2 | 65.6 | 49.2 | 66.2 | 81.2 | 87.4 | 114.5 |\n",
       "\n"
      ],
      "text/plain": [
       "        [,1] [,2] [,3] [,4] [,5] [,6] [,7] [,8] [,9] [,10] [,11] [,12] [,13]\n",
       "weeks    4    5.0  6.0  7.0  8    9.0 10.0 11.0 12.0 13.0  14.0  15.0  16.0 \n",
       "defects 13   16.1 14.5 17.8 22   27.4 16.8 34.2 65.6 49.2  66.2  81.2  87.4 \n",
       "        [,14]\n",
       "weeks    17.0\n",
       "defects 114.5"
      ]
     },
     "metadata": {},
     "output_type": "display_data"
    }
   ],
   "source": [
    "defects = c(13, 16.1, 14.5, 17.8, 22, 27.4, 16.8, 34.2, 65.6, 49.2, 66.2, 81.2, 87.4, 114.5)\n",
    "weeks   = c(4, 5, 6, 7, 8, 9, 10, 11, 12, 13, 14, 15, 16, 17)\n",
    "df      = data.frame(weeks,defects)\n",
    "t(df)"
   ]
  },
  {
   "cell_type": "markdown",
   "metadata": {},
   "source": [
    "**3.1.** Fit a straight-line regression model to the data and perform the standard tests for model adequacy."
   ]
  },
  {
   "cell_type": "code",
   "execution_count": 16,
   "metadata": {},
   "outputs": [],
   "source": [
    "# write your code here\n",
    "\n"
   ]
  },
  {
   "cell_type": "markdown",
   "metadata": {},
   "source": [
    "**3.2.** Suggest an appropriate transformation to eliminate the problems encountered. Fit the transformed model and check for adequacy. <br><br> *Hint. Defects tend to accumulate exponentially.*"
   ]
  },
  {
   "cell_type": "code",
   "execution_count": 17,
   "metadata": {},
   "outputs": [],
   "source": [
    "# write your code here\n",
    "\n"
   ]
  },
  {
   "cell_type": "markdown",
   "metadata": {},
   "source": [
    "---"
   ]
  },
  {
   "cell_type": "markdown",
   "metadata": {},
   "source": [
    "### Exercise 4\n",
    "\n",
    "Perform a thorough influence analysis of the following data sets and discuss your results. You need to clearly indicate outliers, good and bad leverage points, and influential observations. You can use built-in functions. Then repeat the key steps manually. You will need to use the following formulas:\n",
    "\n",
    "- Standardised residuals:\n",
    "$$\n",
    "r_i = \\frac{e_i}{\\sqrt{\\hat\\sigma^2(1-h_{ii})}} \\qquad \\hat\\sigma^2 = \\frac{1}{n-2}\\sum_{i=1}^n e_i^2 \\qquad e_i = y_i - \\hat y_i\n",
    "$$\n",
    "\n",
    " A popular rule to classify the $i$th point as an outlier is if $|r_i|>2$ for small- and moderate-size data sets  and if $|r_i|>4$ for large-size data sets. \n",
    " \n",
    "\n",
    "- Leverage of the $i$th case:\n",
    "$$\n",
    "h_{ii} = \\frac1n + \\frac{(x_i - \\bar x)^2}{s_{xx}} \n",
    "$$\n",
    "\n",
    " A popular rule to classify the $i$th point as a leverage point in a simple linear regression model is if\n",
    "<br>\n",
    "$$\n",
    "h_{ii} > 2 \\times \\text{average}(h_{ii}) = 2 \\times \\frac2n = \\frac4n\n",
    "$$\n",
    "<br> \n",
    "  A leverage point is a bad leverage point if it is also an outlier. Otherwise, it is a good leverage point.\n",
    "\n",
    "\n",
    "- Cook's distance:\n",
    "$$\n",
    "D_i = \\frac{r_i^2}{2}\\cdot \\frac{h_{ii}}{1-h_{ii}}\n",
    "$$\n",
    "\n",
    " A recommend rough cut-off for noteworthy values of $D_i$ for simple linear regression is $4/(n-2)$."
   ]
  },
  {
   "cell_type": "markdown",
   "metadata": {},
   "source": [
    "**4.1.** Property valuation data, $y=$ Sale price of the house/1000 (US dollars) and $x=$ Taxes (local, school, county)/1000 (US dollars), given given in [https://raw.githubusercontent.com/uqglmn/sm/main/property.csv](https://raw.githubusercontent.com/uqglmn/sm/main/property.csv).\n",
    "\n",
    "*Hint. Repeat the same analysis as in Example 4 using function ``regression_diagnostics()``. There is a single outlier in this data set, but it is not influential, thus removing it does not improve the final model much. No transformations needed.*"
   ]
  },
  {
   "cell_type": "code",
   "execution_count": 18,
   "metadata": {},
   "outputs": [],
   "source": [
    "# write your code here\n",
    "\n"
   ]
  },
  {
   "cell_type": "markdown",
   "metadata": {},
   "source": [
    "**4.2.** Perform a thorough influence analysis of the tube-flow reactor data, $y= \\text{NbOCl}_3$ concetration (g-mol/l) and $x=\\text{COCl}_2$ concentration (g-mol/l), given in [https://raw.githubusercontent.com/uqglmn/sm/main/flow.csv](https://raw.githubusercontent.com/uqglmn/sm/main/flow.csv).\n",
    "\n",
    "*Hint. There are two influential cases. Compare the values of $R^2$ for the data with and without these two cases. No transformations needed.*"
   ]
  },
  {
   "cell_type": "code",
   "execution_count": 19,
   "metadata": {},
   "outputs": [],
   "source": [
    "# write your code here\n",
    "\n"
   ]
  },
  {
   "cell_type": "markdown",
   "metadata": {},
   "source": [
    "**4.3.** Perform a thorough influence analysis of the Belle Ayr liquefaction runs, $y=\\text{CO}_2$ and $x=$ time (min), given in [https://raw.githubusercontent.com/uqglmn/sm/main/liquefaction.csv](https://raw.githubusercontent.com/uqglmn/sm/main/liquefaction.csv).\n",
    "\n",
    "*Hint. Inspect the residual plots. This data set also decribes a chemical process. Log-log transformations are needed.*"
   ]
  },
  {
   "cell_type": "code",
   "execution_count": 20,
   "metadata": {},
   "outputs": [],
   "source": [
    "# write your code here\n",
    "\n"
   ]
  },
  {
   "cell_type": "markdown",
   "metadata": {},
   "source": [
    "---"
   ]
  },
  {
   "cell_type": "markdown",
   "metadata": {},
   "source": [
    "### Exercise 5\n",
    "\n",
    "The data file [https://raw.githubusercontent.com/uqglmn/sm/main/airfares.txt](https://raw.githubusercontent.com/uqglmn/sm/main/airfares.txt) on the book web site gives the one-way airfare (in US dollars) and distance (in miles) from city A to 17 other cities in the US. Interest centers on modeling airfare as a function of distance. The first model fit to the data was\n",
    "\n",
    "$$\n",
    "\\text{Fare} = \\beta_0 + \\beta_1 \\text{Distance} + e\n",
    "$$"
   ]
  },
  {
   "cell_type": "code",
   "execution_count": 21,
   "metadata": {},
   "outputs": [
    {
     "data": {
      "text/html": [
       "<table class=\"dataframe\">\n",
       "<caption>A data.frame: 6 × 3</caption>\n",
       "<thead>\n",
       "\t<tr><th></th><th scope=col>City</th><th scope=col>Fare</th><th scope=col>Distance</th></tr>\n",
       "\t<tr><th></th><th scope=col>&lt;int&gt;</th><th scope=col>&lt;int&gt;</th><th scope=col>&lt;int&gt;</th></tr>\n",
       "</thead>\n",
       "<tbody>\n",
       "\t<tr><th scope=row>1</th><td>1</td><td>360</td><td>1463</td></tr>\n",
       "\t<tr><th scope=row>2</th><td>2</td><td>360</td><td>1448</td></tr>\n",
       "\t<tr><th scope=row>3</th><td>3</td><td>207</td><td> 681</td></tr>\n",
       "\t<tr><th scope=row>4</th><td>4</td><td>111</td><td> 270</td></tr>\n",
       "\t<tr><th scope=row>5</th><td>5</td><td> 93</td><td> 190</td></tr>\n",
       "\t<tr><th scope=row>6</th><td>6</td><td>141</td><td> 393</td></tr>\n",
       "</tbody>\n",
       "</table>\n"
      ],
      "text/latex": [
       "A data.frame: 6 × 3\n",
       "\\begin{tabular}{r|lll}\n",
       "  & City & Fare & Distance\\\\\n",
       "  & <int> & <int> & <int>\\\\\n",
       "\\hline\n",
       "\t1 & 1 & 360 & 1463\\\\\n",
       "\t2 & 2 & 360 & 1448\\\\\n",
       "\t3 & 3 & 207 &  681\\\\\n",
       "\t4 & 4 & 111 &  270\\\\\n",
       "\t5 & 5 &  93 &  190\\\\\n",
       "\t6 & 6 & 141 &  393\\\\\n",
       "\\end{tabular}\n"
      ],
      "text/markdown": [
       "\n",
       "A data.frame: 6 × 3\n",
       "\n",
       "| <!--/--> | City &lt;int&gt; | Fare &lt;int&gt; | Distance &lt;int&gt; |\n",
       "|---|---|---|---|\n",
       "| 1 | 1 | 360 | 1463 |\n",
       "| 2 | 2 | 360 | 1448 |\n",
       "| 3 | 3 | 207 |  681 |\n",
       "| 4 | 4 | 111 |  270 |\n",
       "| 5 | 5 |  93 |  190 |\n",
       "| 6 | 6 | 141 |  393 |\n",
       "\n"
      ],
      "text/plain": [
       "  City Fare Distance\n",
       "1 1    360  1463    \n",
       "2 2    360  1448    \n",
       "3 3    207   681    \n",
       "4 4    111   270    \n",
       "5 5     93   190    \n",
       "6 6    141   393    "
      ]
     },
     "metadata": {},
     "output_type": "display_data"
    }
   ],
   "source": [
    "data = read.table(\"https://raw.githubusercontent.com/uqglmn/sm/main/airfares.txt\", header=TRUE)\n",
    "head(data)"
   ]
  },
  {
   "cell_type": "markdown",
   "metadata": {},
   "source": [
    "**5.1.** Based on the output for the model above, a business analyst concluded the following: <br><br> _The regression coefficient of the predictor variable, Distance is highly statistically significant and the model explains 99.4% of the variability in the Y-variable, Fare. Thus the model is a highly effective model for both understanding the effects of Distance on Fare and for predicting future values of Fare given the value of the predictor variable, Distance._\n",
    "\n",
    "Provide a detailed critique of this conclusion."
   ]
  },
  {
   "cell_type": "code",
   "execution_count": 22,
   "metadata": {},
   "outputs": [],
   "source": [
    "# write your code here\n",
    "\n"
   ]
  },
  {
   "cell_type": "markdown",
   "metadata": {},
   "source": [
    "**5.2.** Does the ordinary straight line regression model seem to fit the data well? If not, carefully describe how the model can be improved."
   ]
  },
  {
   "cell_type": "code",
   "execution_count": 23,
   "metadata": {},
   "outputs": [],
   "source": [
    "# write your code here\n",
    "\n"
   ]
  },
  {
   "cell_type": "markdown",
   "metadata": {},
   "source": [
    "---"
   ]
  },
  {
   "cell_type": "markdown",
   "metadata": {},
   "source": [
    "### Exercise 6\n",
    "\n",
    "The price of advertising (and hence revenue from advertising) is different from one consumer magazine to another. Publishers of consumer magazines argue that magazines that reach more readers create more value for the advertiser.\n",
    "Thus, circulation is an important factor that affects revenue from advertising. In this exercise, we are going to investigate the effect of circulation on gross advertising revenue. The data are for the top 70 US magazines ranked in terms of total gross advertising revenue in 2006. In particular we will develop regression models to predict gross advertising revenue per advertising page in 2006 (in thousands of dollars) from circulation (in millions). The data were obtained from http://adage.com and are given in the file [https://raw.githubusercontent.com/uqglmn/sm/main/AdRevenue.csv](https://raw.githubusercontent.com/uqglmn/sm/main/AdRevenue.csv)."
   ]
  },
  {
   "cell_type": "markdown",
   "metadata": {},
   "source": [
    "**6.1.** (a) Develop a simple linear regression model based on least squares that predicts **advertising revenue** per page from **circulation** (i.e., feel free to transform either the predictor or the response variable or both variables). Ensure that you provide justification for your choice of model.\n",
    "\n",
    "(b) Find a 95% prediction interval for the advertising revenue per page for magazines with the following circulations:\n",
    "\n",
    " - (i) 0.5 million\n",
    " - (ii) 20 million\n",
    "\n",
    "(c) Describe any weaknesses in your model."
   ]
  },
  {
   "cell_type": "code",
   "execution_count": 24,
   "metadata": {},
   "outputs": [],
   "source": [
    "# write your code here\n",
    "\n"
   ]
  },
  {
   "cell_type": "markdown",
   "metadata": {},
   "source": [
    "**6.2.** (a) Develop a polynomial regression model based on least squares that directly predicts the effect on advertising revenue per page of an increase in circulation of 1 million people (i.e., do not transform either the predictor nor theresponse variable). Ensure that you provide detailed justification for your choice of model. (Hint: Consider polynomial models of order up to 3 using ``lm(y~x+I(x^2)+I(x^3)``.)\n",
    "\n",
    "(b) Find a 95% prediction interval for the advertising page cost for magazines\n",
    "with the following circulations:\n",
    "\n",
    "  - (i) 0.5 million\n",
    "\n",
    "  - (ii) 20 million\n",
    "\n",
    "(c) Describe any weaknesses in your model."
   ]
  },
  {
   "cell_type": "code",
   "execution_count": 25,
   "metadata": {},
   "outputs": [],
   "source": [
    "# write your code here\n",
    "\n"
   ]
  },
  {
   "cell_type": "markdown",
   "metadata": {},
   "source": [
    "**7.3.** (a) Compare the model in Part 7.1 with that in Part 7.2. Decide which provides a better model. Give reasons to justify your choice.\n",
    "\n",
    "(b) Compare the prediction intervals in Part 7.1 with those in Part 7.2. In each case, decide which interval you would recommend. Give reasons to justify each choice."
   ]
  },
  {
   "cell_type": "code",
   "execution_count": 26,
   "metadata": {},
   "outputs": [],
   "source": [
    "# write your code here\n",
    "\n"
   ]
  },
  {
   "cell_type": "markdown",
   "metadata": {},
   "source": [
    "---"
   ]
  },
  {
   "cell_type": "markdown",
   "metadata": {},
   "source": [
    "### Exercise 7\n",
    "\n",
    "Canadian port on the Great Lakes wishes to estimate the relationship between the volume of a ship's cargo and the time required to load and unload this cargo. It is envisaged that this relationship will be used for planning purposes as well as for making comparisons with the productivity of other ports. Records of the tonnage loaded and unloaded as well as the time spent in port by 31 liquid-carrying vessels that used the port over the most recent summer are available. The data are available in the file [https://raw.githubusercontent.com/uqglmn/sm/main/glakes.txt](https://raw.githubusercontent.com/uqglmn/sm/main/glakes.txt). The first model to fit the data is\n",
    "\n",
    "$$\n",
    "\\text{Time} = \\beta_0 + \\beta_1 \\text{Tonnage} + \\varepsilon\n",
    "$$\n",
    "\n",
    "The second model to fit the data is\n",
    "\n",
    "$$\n",
    "\\log(\\text{Time}) = \\beta_0 + \\beta_1 \\text{Tonnage}^{1/4} + \\varepsilon\n",
    "$$\n",
    "\n",
    "The R code in this case is ``lm(log(Time) ~ I(Tonnage^(1/4)))``"
   ]
  },
  {
   "cell_type": "markdown",
   "metadata": {},
   "source": [
    "**7.1.** Does the straight line regression model above seem to fit the data well? If not, list any weaknesses apparent in the model."
   ]
  },
  {
   "cell_type": "code",
   "execution_count": 27,
   "metadata": {},
   "outputs": [],
   "source": [
    "# write your code here\n",
    "\n"
   ]
  },
  {
   "cell_type": "markdown",
   "metadata": {},
   "source": [
    "**7.2.** Suppose that the first model was used to calculate a prediction interval for Time when Tonnage = 10,000. Would the interval be too short, too long or about right (i.e., valid)? Give a reason to support your answer."
   ]
  },
  {
   "cell_type": "code",
   "execution_count": 28,
   "metadata": {},
   "outputs": [],
   "source": [
    "# write your code here\n",
    "\n"
   ]
  },
  {
   "cell_type": "markdown",
   "metadata": {},
   "source": [
    "**7.3.** Is the second model an improvement over the first model in terms of predicting Time? If so, please describe all the ways in which it is an improvement."
   ]
  },
  {
   "cell_type": "code",
   "execution_count": 29,
   "metadata": {},
   "outputs": [],
   "source": [
    "# write your code here\n",
    "\n"
   ]
  },
  {
   "cell_type": "markdown",
   "metadata": {},
   "source": [
    "**7.4.** List any weaknesses apparent in the second model."
   ]
  },
  {
   "cell_type": "code",
   "execution_count": 30,
   "metadata": {},
   "outputs": [],
   "source": [
    "# write your code here\n",
    "\n"
   ]
  },
  {
   "cell_type": "markdown",
   "metadata": {},
   "source": [
    "---"
   ]
  },
  {
   "cell_type": "markdown",
   "metadata": {},
   "source": [
    "### Exercise 8\n",
    "\n",
    "An analyst for the auto industry has asked for your help in modeling data on the prices of new cars. Interest centers on modeling suggested retail price as a function of the cost to the dealer for 234 new cars. The data set, which is in the file [https://raw.githubusercontent.com/uqglmn/sm/main/cars04.csv](https://raw.githubusercontent.com/uqglmn/sm/main/cars04.csv), is a subset of the data from\n",
    "http://www.amstat.org/publications/jse/datasets/04cars.txt\n",
    "\n",
    "**8.1.** The first model fit to the data was\n",
    "\n",
    "$$\n",
    "\\text{Suggested retail price} = \\beta_0 + \\beta_1 \\text{Dealer Cost} + \\varepsilon\n",
    "$$\n",
    "\n",
    "Based on the output for this model the analyst concluded the following:\n",
    "\n",
    "*Since the model explains just more than 99.8% of the variability in Suggested Retail Price and the coefficient of Dealer Cost has a t-value greater than 412, this model is a highly effective model for producing prediction intervals for Suggested Retail Price.*\n",
    "\n",
    "- (a) Provide a detailed critique of this conclusion.\n",
    "\n",
    "- (b) Carefully describe all the shortcomings evident in the model. For each shortcoming, describe the steps needed to overcome the shortcoming."
   ]
  },
  {
   "cell_type": "code",
   "execution_count": 31,
   "metadata": {},
   "outputs": [],
   "source": [
    "# write your code here\n",
    "\n"
   ]
  },
  {
   "cell_type": "markdown",
   "metadata": {},
   "source": [
    "**8.2.** The second model fitted to the data was\n",
    "\n",
    "$$\n",
    "\\log(\\text{Suggested retail price}) = \\beta_0 + \\beta_1 \\log(\\text{Dealer Cost}) + \\varepsilon\n",
    "$$\n",
    "\n",
    "- (a) Is this model an improvement over the previous model in terms of predicting Suggested Retail Price? If so, please describe all the ways in which it is an improvement.\n",
    "\n",
    "- (b) Interpret the estimated coefficient of log(Dealer Cost) in the second model.\n",
    "\n",
    "- (c) List any weaknesses apparent in model"
   ]
  },
  {
   "cell_type": "code",
   "execution_count": 32,
   "metadata": {},
   "outputs": [],
   "source": [
    "# write your code here\n",
    "\n"
   ]
  },
  {
   "cell_type": "markdown",
   "metadata": {},
   "source": [
    "---"
   ]
  }
 ],
 "metadata": {
  "kernelspec": {
   "display_name": "R",
   "language": "R",
   "name": "ir"
  },
  "language_info": {
   "codemirror_mode": "r",
   "file_extension": ".r",
   "mimetype": "text/x-r-source",
   "name": "R",
   "pygments_lexer": "r",
   "version": "4.3.1"
  }
 },
 "nbformat": 4,
 "nbformat_minor": 4
}
