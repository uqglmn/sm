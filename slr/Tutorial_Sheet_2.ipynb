{
 "cells": [
  {
   "cell_type": "markdown",
   "metadata": {},
   "source": [
    "## Statistical Modelling. Tutorial Sheet 2\n",
    "The simple linear regression model"
   ]
  },
  {
   "cell_type": "markdown",
   "metadata": {},
   "source": [
    "---"
   ]
  },
  {
   "cell_type": "markdown",
   "metadata": {},
   "source": [
    "### Exercise 1\n",
    "The web site www.playbill.com provides weekly reports on the box office ticket sales for plays on Broadway in New York. We shall consider the data for the week October 11–17, 2004 (referred to below as the current week). The data are in the form of the gross box office results for the current week and the gross box office results for the previous week (i.e., October 3–10, 2004). The data is available at [https://raw.githubusercontent.com/uqglmn/sm/main/playbill.csv](https://raw.githubusercontent.com/uqglmn/sm/main/playbill.csv)."
   ]
  },
  {
   "cell_type": "markdown",
   "metadata": {},
   "source": [
    "**1.1.** Read the data from the file using ``data = read.csv(\"https://raw.githubusercontent.com/uqglmn/sm/main/playbill.csv\")`` and inspect the result using ``head(data)``. Then create two vectors, $x$ and $y$, for predictor (LastWeek) and response (CurrentWeek) variables, and plot $y$ against $x$."
   ]
  },
  {
   "cell_type": "code",
   "execution_count": 1,
   "metadata": {},
   "outputs": [
    {
     "data": {
      "text/html": [
       "<table class=\"dataframe\">\n",
       "<caption>A data.frame: 6 × 3</caption>\n",
       "<thead>\n",
       "\t<tr><th></th><th scope=col>Production</th><th scope=col>CurrentWeek</th><th scope=col>LastWeek</th></tr>\n",
       "\t<tr><th></th><th scope=col>&lt;chr&gt;</th><th scope=col>&lt;int&gt;</th><th scope=col>&lt;int&gt;</th></tr>\n",
       "</thead>\n",
       "<tbody>\n",
       "\t<tr><th scope=row>1</th><td>42nd Street     </td><td>684966</td><td>695437</td></tr>\n",
       "\t<tr><th scope=row>2</th><td>Avenue Q        </td><td>502367</td><td>498969</td></tr>\n",
       "\t<tr><th scope=row>3</th><td>Beauty and Beast</td><td>594474</td><td>598576</td></tr>\n",
       "\t<tr><th scope=row>4</th><td>Bombay Dreams   </td><td>529298</td><td>528994</td></tr>\n",
       "\t<tr><th scope=row>5</th><td>Chicago         </td><td>570254</td><td>562964</td></tr>\n",
       "\t<tr><th scope=row>6</th><td>Dracula         </td><td>319959</td><td>282778</td></tr>\n",
       "</tbody>\n",
       "</table>\n"
      ],
      "text/latex": [
       "A data.frame: 6 × 3\n",
       "\\begin{tabular}{r|lll}\n",
       "  & Production & CurrentWeek & LastWeek\\\\\n",
       "  & <chr> & <int> & <int>\\\\\n",
       "\\hline\n",
       "\t1 & 42nd Street      & 684966 & 695437\\\\\n",
       "\t2 & Avenue Q         & 502367 & 498969\\\\\n",
       "\t3 & Beauty and Beast & 594474 & 598576\\\\\n",
       "\t4 & Bombay Dreams    & 529298 & 528994\\\\\n",
       "\t5 & Chicago          & 570254 & 562964\\\\\n",
       "\t6 & Dracula          & 319959 & 282778\\\\\n",
       "\\end{tabular}\n"
      ],
      "text/markdown": [
       "\n",
       "A data.frame: 6 × 3\n",
       "\n",
       "| <!--/--> | Production &lt;chr&gt; | CurrentWeek &lt;int&gt; | LastWeek &lt;int&gt; |\n",
       "|---|---|---|---|\n",
       "| 1 | 42nd Street      | 684966 | 695437 |\n",
       "| 2 | Avenue Q         | 502367 | 498969 |\n",
       "| 3 | Beauty and Beast | 594474 | 598576 |\n",
       "| 4 | Bombay Dreams    | 529298 | 528994 |\n",
       "| 5 | Chicago          | 570254 | 562964 |\n",
       "| 6 | Dracula          | 319959 | 282778 |\n",
       "\n"
      ],
      "text/plain": [
       "  Production       CurrentWeek LastWeek\n",
       "1 42nd Street      684966      695437  \n",
       "2 Avenue Q         502367      498969  \n",
       "3 Beauty and Beast 594474      598576  \n",
       "4 Bombay Dreams    529298      528994  \n",
       "5 Chicago          570254      562964  \n",
       "6 Dracula          319959      282778  "
      ]
     },
     "metadata": {},
     "output_type": "display_data"
    }
   ],
   "source": [
    "data = read.csv(\"https://raw.githubusercontent.com/uqglmn/sm/main/playbill.csv\") # read data into a dataframe\n",
    "head(data) # inspect the dataframe - it has 3 columns: Production, CurrentWeek and LastWeek"
   ]
  },
  {
   "cell_type": "code",
   "execution_count": 2,
   "metadata": {},
   "outputs": [],
   "source": [
    "# Write your solution here\n",
    "\n"
   ]
  },
  {
   "cell_type": "markdown",
   "metadata": {},
   "source": [
    "**1.2.** Fit a simple linear regression model to the data. Then draw a scatter plot of the data and the fitted regression line. You will need to use the following formulas:\n",
    "$$\\hat\\beta_1 = \\frac{s_{xy}}{s_{xx}} , \\qquad \\hat\\beta_0 = \\bar y - \\hat\\beta_1 \\bar x$$\n",
    "where\n",
    "$$ s_{xx} = \\sum_{i=1}^n (x_i - \\bar x)^2 , \\qquad s_{xy} = \\sum_{i=1}^n (x_i - \\bar x)(y_i - \\bar y) $$ "
   ]
  },
  {
   "cell_type": "code",
   "execution_count": 3,
   "metadata": {},
   "outputs": [],
   "source": [
    "# Write your solution here\n",
    "\n"
   ]
  },
  {
   "cell_type": "markdown",
   "metadata": {},
   "source": [
    "**1.3.** Assuming $\\alpha=5\\%$, test the null hypothesis $H_0 : \\beta_1 = 0$ against the two-sided alternative $H_1 : \\beta_1 \\ne 0$.\n",
    "Interpret your result. The test statistic is\n",
    "\n",
    "$$\n",
    "T = \\frac{\\hat\\beta_1}{{\\rm se}(\\hat\\beta_1)} \\sim t_{n-2}\n",
    "$$\n",
    "where\n",
    "$$\n",
    "{\\rm se}(\\hat\\beta_1) = \\sqrt{\\hat\\sigma^2/s_{xx}} , \\qquad \\hat\\sigma^2 = \\frac{1}{n-2}\\sum_{i=1}^n (y_i - \\hat y_i)^2\n",
    "$$"
   ]
  },
  {
   "cell_type": "code",
   "execution_count": 4,
   "metadata": {},
   "outputs": [],
   "source": [
    "# Write your solution here\n",
    "\n"
   ]
  },
  {
   "cell_type": "markdown",
   "metadata": {},
   "source": [
    "**1.4.** Assuming $\\alpha=5\\%$, test the null hypothesis $H_0 : \\beta_0 = 5000$ against the two-sided alternative $H_0 : \\beta_0 \\ne 5000$.\n",
    "Interpret your result. The test statistic is\n",
    "\n",
    "$$\n",
    "T = \\frac{\\hat\\beta_0 - \\beta^*_0}{{\\rm se}(\\hat\\beta_0)} \\sim t_{n-2}\n",
    "$$\n",
    "where\n",
    "$$\n",
    "{\\rm se}(\\hat\\beta_0) = \\sqrt{\\hat\\sigma^2(1/n + \\bar x^2 / s_{xx})}\n",
    "$$"
   ]
  },
  {
   "cell_type": "code",
   "execution_count": 5,
   "metadata": {},
   "outputs": [],
   "source": [
    "# Write your solution here\n",
    "\n"
   ]
  },
  {
   "cell_type": "markdown",
   "metadata": {},
   "source": [
    "#### Built-in statistical functions\n",
    "\n",
    "Verify your results using built-in statistical functions."
   ]
  },
  {
   "cell_type": "code",
   "execution_count": 6,
   "metadata": {},
   "outputs": [],
   "source": [
    "# Write your solution here\n",
    "\n"
   ]
  },
  {
   "cell_type": "markdown",
   "metadata": {},
   "source": [
    "---"
   ]
  },
  {
   "cell_type": "markdown",
   "metadata": {},
   "source": [
    "### Exercise 2\n",
    "\n",
    "A story by James R. Hagerty entitled With Buyers Sidelined, Home Prices Slide published in the Thursday October 25, 2007 edition of the Wall Street Journal contained data on so-called fundamental housing indicators in major real estate markets across the US. The author argues that... prices are generally falling and overdue loan payments are piling up. Thus, we shall consider data presented in the article on\n",
    "\n",
    "- Y = Percentage change in average price from July 2006 to July 2007 (based on the S&P/Case-Shiller national housing index); and\n",
    "\n",
    "- X = Percentage of mortgage loans 30 days or more overdue in latest quarter (based on data from Equifax and Moody’s).\n",
    "    \n",
    "The data is in the file [https://raw.githubusercontent.com/uqglmn/sm/main/indicators.csv](https://raw.githubusercontent.com/uqglmn/sm/main/indicators.csv). You need to complete the following tasks:"
   ]
  },
  {
   "cell_type": "code",
   "execution_count": 7,
   "metadata": {},
   "outputs": [
    {
     "data": {
      "text/html": [
       "<table class=\"dataframe\">\n",
       "<caption>A data.frame: 6 × 3</caption>\n",
       "<thead>\n",
       "\t<tr><th></th><th scope=col>MetroArea</th><th scope=col>PriceChange</th><th scope=col>LoanPaymentsOverdue</th></tr>\n",
       "\t<tr><th></th><th scope=col>&lt;chr&gt;</th><th scope=col>&lt;dbl&gt;</th><th scope=col>&lt;dbl&gt;</th></tr>\n",
       "</thead>\n",
       "<tbody>\n",
       "\t<tr><th scope=row>1</th><td>Atlanta</td><td> 1.2</td><td>4.55</td></tr>\n",
       "\t<tr><th scope=row>2</th><td>Boston </td><td>-3.4</td><td>3.31</td></tr>\n",
       "\t<tr><th scope=row>3</th><td>Chicago</td><td>-0.9</td><td>2.99</td></tr>\n",
       "\t<tr><th scope=row>4</th><td>Dallas </td><td> 0.8</td><td>4.26</td></tr>\n",
       "\t<tr><th scope=row>5</th><td>Denver </td><td>-0.7</td><td>3.56</td></tr>\n",
       "\t<tr><th scope=row>6</th><td>Detroit</td><td>-9.7</td><td>4.71</td></tr>\n",
       "</tbody>\n",
       "</table>\n"
      ],
      "text/latex": [
       "A data.frame: 6 × 3\n",
       "\\begin{tabular}{r|lll}\n",
       "  & MetroArea & PriceChange & LoanPaymentsOverdue\\\\\n",
       "  & <chr> & <dbl> & <dbl>\\\\\n",
       "\\hline\n",
       "\t1 & Atlanta &  1.2 & 4.55\\\\\n",
       "\t2 & Boston  & -3.4 & 3.31\\\\\n",
       "\t3 & Chicago & -0.9 & 2.99\\\\\n",
       "\t4 & Dallas  &  0.8 & 4.26\\\\\n",
       "\t5 & Denver  & -0.7 & 3.56\\\\\n",
       "\t6 & Detroit & -9.7 & 4.71\\\\\n",
       "\\end{tabular}\n"
      ],
      "text/markdown": [
       "\n",
       "A data.frame: 6 × 3\n",
       "\n",
       "| <!--/--> | MetroArea &lt;chr&gt; | PriceChange &lt;dbl&gt; | LoanPaymentsOverdue &lt;dbl&gt; |\n",
       "|---|---|---|---|\n",
       "| 1 | Atlanta |  1.2 | 4.55 |\n",
       "| 2 | Boston  | -3.4 | 3.31 |\n",
       "| 3 | Chicago | -0.9 | 2.99 |\n",
       "| 4 | Dallas  |  0.8 | 4.26 |\n",
       "| 5 | Denver  | -0.7 | 3.56 |\n",
       "| 6 | Detroit | -9.7 | 4.71 |\n",
       "\n"
      ],
      "text/plain": [
       "  MetroArea PriceChange LoanPaymentsOverdue\n",
       "1 Atlanta    1.2        4.55               \n",
       "2 Boston    -3.4        3.31               \n",
       "3 Chicago   -0.9        2.99               \n",
       "4 Dallas     0.8        4.26               \n",
       "5 Denver    -0.7        3.56               \n",
       "6 Detroit   -9.7        4.71               "
      ]
     },
     "metadata": {},
     "output_type": "display_data"
    }
   ],
   "source": [
    "data = read.csv(\"https://raw.githubusercontent.com/uqglmn/sm/main/indicators.csv\")\n",
    "head(data)"
   ]
  },
  {
   "cell_type": "markdown",
   "metadata": {},
   "source": [
    "**2.1.** Fit a simple linear regression model to the data. Then draw a scatter plot of the data and the fitted regression line."
   ]
  },
  {
   "cell_type": "code",
   "execution_count": 8,
   "metadata": {},
   "outputs": [],
   "source": [
    "# Write your solution here\n",
    "\n"
   ]
  },
  {
   "cell_type": "markdown",
   "metadata": {},
   "source": [
    "**2.2.** Assuming $\\alpha=5\\%$, test the null hypothesis $H_0 : \\beta_1 = 2.3$ against the one-sided alternative $H_1 : \\beta_1 < -2.3$.\n",
    "Note that the critical $t$-value in this case is the 5th percentile. Interpret your result."
   ]
  },
  {
   "cell_type": "code",
   "execution_count": 9,
   "metadata": {},
   "outputs": [],
   "source": [
    "# Write your solution here\n",
    "\n"
   ]
  },
  {
   "cell_type": "markdown",
   "metadata": {},
   "source": [
    "**2.3.** Assuming $\\alpha=5\\%$, test the null hypothesis $H_0 : \\beta_0 = 5$ against the one-sided alternative $H_1 : \\beta_0 > 5$.\n",
    "Note that the critical $t$-value in this case is the 95th percentile. Interpret your result."
   ]
  },
  {
   "cell_type": "code",
   "execution_count": 10,
   "metadata": {},
   "outputs": [],
   "source": [
    "# Write your solution here\n",
    "\n"
   ]
  },
  {
   "cell_type": "markdown",
   "metadata": {},
   "source": [
    "#### Built-in statistical functions\n",
    "\n",
    "Verify your results using built-in statistical functions."
   ]
  },
  {
   "cell_type": "code",
   "execution_count": 11,
   "metadata": {},
   "outputs": [],
   "source": [
    "# Write your solution here\n",
    "\n"
   ]
  },
  {
   "cell_type": "markdown",
   "metadata": {},
   "source": [
    "---"
   ]
  },
  {
   "cell_type": "markdown",
   "metadata": {},
   "source": [
    "### Exercise 3 \n",
    "Prove the following equalities: \n",
    "$$\n",
    "\\begin{gathered}\n",
    "s_{xx} = \\sum_{i=1}^n (x_i - \\bar x)^2 = \\sum_{i=1}^n x_i^2 - \\frac1n \\bigg(\\sum_{i=1}^n x_i\\bigg)^2 \\\\\n",
    "s_{xy} = \\sum_{i=1}^n (x_i - \\bar x)(y_i - \\bar y) = \\sum_{i=1}^n x_i y_i - \\frac1n \\sum_{i=1}^n x_i \\sum_{i=1}^n y_i\n",
    "\\end{gathered}\n",
    "$$\n",
    "This exercise should be done by hand.\n",
    "\n",
    "*Hint: Open the squares and compute the sums. Here recall that $\\bar x = \\frac1n \\sum_{i=1}^n x_i$ and $\\bar y = \\frac1n \\sum_{i=1}^n y_i$.*"
   ]
  },
  {
   "cell_type": "markdown",
   "metadata": {},
   "source": [
    "---"
   ]
  },
  {
   "cell_type": "markdown",
   "metadata": {},
   "source": [
    "### Exercise 4\n",
    "Consider the no-intercept model\n",
    "$$\n",
    "Y_i = \\beta x_i + \\varepsilon_i \\quad\\text{with}\\quad \\varepsilon_i \\overset{ind}{\\sim} N(0, \\sigma^2)\\quad\\text{for}\\quad i=1,\\dots,n.\n",
    "$$\n",
    "\n",
    "1. Show that the least squares estimate of $\\beta$ is given by $$\\hat\\beta = \\frac{\\sum_{i=1}^n x_i y_i}{\\sum_{i=1}^n x_i^2}$$\n",
    "\n",
    "2. Show that\n",
    "\n",
    "    - ${\\rm E}(\\hat\\beta) = \\beta$\n",
    "\n",
    "    - ${\\rm Var}(\\hat\\beta) = \\sigma^2/\\sum_{i=1}^n x_i^2$\n",
    "\n",
    "    - $\\hat\\beta \\sim N\\Big( \\beta, \\sigma^2/\\sum_{i=1}^n x_i^2\\Big)$\n",
    "\n",
    "This exercise should be done by hand.\n",
    "\n",
    "*Hint: This a simplified version of the SLR model. You need to follow the same steps as in Sections 1.2 and 1.3 of the Lecture notes.*"
   ]
  },
  {
   "cell_type": "markdown",
   "metadata": {},
   "source": [
    "---"
   ]
  }
 ],
 "metadata": {
  "kernelspec": {
   "display_name": "R",
   "language": "R",
   "name": "ir"
  },
  "language_info": {
   "codemirror_mode": "r",
   "file_extension": ".r",
   "mimetype": "text/x-r-source",
   "name": "R",
   "pygments_lexer": "r",
   "version": "4.3.1"
  }
 },
 "nbformat": 4,
 "nbformat_minor": 4
}
