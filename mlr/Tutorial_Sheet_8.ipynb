{
 "cells": [
  {
   "cell_type": "markdown",
   "id": "blind-middle",
   "metadata": {},
   "source": [
    "## Tutorial Sheet 8\n",
    "\n",
    "**Multiple Linear Regression**\n",
    "\n",
    "Diagnostics and Model Building\n",
    "\n",
    "In each exercise, find the best linear regression model for the response variable ``y``"
   ]
  },
  {
   "cell_type": "markdown",
   "id": "suspected-orchestra",
   "metadata": {},
   "source": [
    "---"
   ]
  },
  {
   "cell_type": "markdown",
   "id": "straight-details",
   "metadata": {},
   "source": [
    "### Exercise 1\n",
    "\n",
    "An experiment has been set up to determine the influence of five factors:\n",
    "\n",
    "- ``x1`` — acid bath temperature\n",
    "- ``x2`` — cascade acid concentration\n",
    "- ``x3`` — water temperature\n",
    "- ``x4`` — sulfi de concentration\n",
    "- ``x5`` — amount of chlorine bleach\n",
    "\n",
    "on an appropriate measure of the whiteness of rayon (``y``). The engineers conducting this experiment wish to minimize this measure. The experimental results are given in [https://raw.githubusercontent.com/uqglmn/sm/main/mlr/whiteness.csv](https://raw.githubusercontent.com/uqglmn/sm/main/mlr/whiteness.csv). Determine a best model for predicting the whiteness of rayon.\n"
   ]
  },
  {
   "cell_type": "markdown",
   "id": "4d852e81",
   "metadata": {},
   "source": [
    "**1.1.** Read and visually inspect the data. Fit a model based on observations. Conduct residual analysis and decide if any transformations are needed."
   ]
  },
  {
   "cell_type": "code",
   "execution_count": 1,
   "id": "f1801ff1",
   "metadata": {},
   "outputs": [
    {
     "name": "stdout",
     "output_type": "stream",
     "text": [
      "'data.frame':\t26 obs. of  6 variables:\n",
      " $ x1: int  35 35 35 35 35 35 35 35 55 55 ...\n",
      " $ x2: num  0.3 0.3 0.3 0.3 0.7 0.7 0.7 0.7 0.3 0.3 ...\n",
      " $ x3: int  82 82 88 88 82 82 88 88 82 82 ...\n",
      " $ x4: num  0.2 0.3 0.2 0.3 0.2 0.3 0.2 0.3 0.2 0.3 ...\n",
      " $ x5: num  0.3 0.5 0.5 0.3 0.5 0.3 0.3 0.5 0.5 0.3 ...\n",
      " $ y : num  76.5 76 79.9 83.5 89.5 84.2 85.7 99.5 89.4 97.5 ...\n"
     ]
    }
   ],
   "source": [
    "data = read.csv(\"https://raw.githubusercontent.com/uqglmn/sm/main/mlr/whiteness.csv\")\n",
    "str(data)"
   ]
  },
  {
   "cell_type": "code",
   "execution_count": 2,
   "id": "2975e961",
   "metadata": {},
   "outputs": [],
   "source": [
    "# write your code here\n"
   ]
  },
  {
   "cell_type": "markdown",
   "id": "b4c7a92e",
   "metadata": {},
   "source": [
    "**1.2.** Use backward elimination method to find the best model for the data."
   ]
  },
  {
   "cell_type": "code",
   "execution_count": 3,
   "id": "4e04ce69",
   "metadata": {},
   "outputs": [],
   "source": [
    "# write your code here\n"
   ]
  },
  {
   "cell_type": "markdown",
   "id": "20863af7",
   "metadata": {},
   "source": [
    "**1.3.** Use ``stepAIC(your_full_model)`` function from the ``MASS`` library to find the best model for the data. Compare ``steapAIC()`` answer with your results from the previous step."
   ]
  },
  {
   "cell_type": "code",
   "execution_count": 4,
   "id": "04d6950f",
   "metadata": {},
   "outputs": [],
   "source": [
    "# install.packages(\"MASS\")\n",
    "library(MASS)\n"
   ]
  },
  {
   "cell_type": "code",
   "execution_count": 5,
   "id": "82517326",
   "metadata": {},
   "outputs": [],
   "source": [
    "# write your code here\n"
   ]
  },
  {
   "cell_type": "markdown",
   "id": "e91e1e80",
   "metadata": {},
   "source": [
    "**1.4.** Compute variance inflation factors for the full model and for your best model. Is multicollinearity present in your best model.?"
   ]
  },
  {
   "cell_type": "code",
   "execution_count": 6,
   "id": "bb35aa5b",
   "metadata": {},
   "outputs": [],
   "source": [
    "# write your code here\n"
   ]
  },
  {
   "cell_type": "markdown",
   "id": "electric-tiffany",
   "metadata": {},
   "source": [
    "---"
   ]
  },
  {
   "cell_type": "markdown",
   "id": "damaged-answer",
   "metadata": {},
   "source": [
    "### Exercise 2\n",
    "\n",
    "Consider the house price data given in [https://raw.githubusercontent.com/uqglmn/sm/main/mlr/house.csv](https://raw.githubusercontent.com/uqglmn/sm/main/mlr/house.csv):\n",
    "\n",
    "- ``y`` — Sale price of the house/1000\n",
    "- ``x1`` — Taxes (local, school, county)/1000\n",
    "- ``x2`` — Number of baths\n",
    "- ``x3`` — Lot size (sq ft × 1000)\n",
    "- ``x4`` — Living space (sq ft × 1000)\n",
    "- ``x5`` — Number of garage stalls\n",
    "- ``x6`` — Number of rooms\n",
    "- ``x7`` — Number of bedrooms\n",
    "- ``x8`` — Age of the home (years)\n",
    "- ``x9`` — Number of fireplaces"
   ]
  },
  {
   "cell_type": "markdown",
   "id": "591ee5fa",
   "metadata": {},
   "source": [
    "**2.1.** Read and visually inspect the data. Fit a model based on observations. Conduct residual analysis and decide if any transformations are needed."
   ]
  },
  {
   "cell_type": "code",
   "execution_count": 7,
   "id": "eb76549f",
   "metadata": {},
   "outputs": [
    {
     "name": "stdout",
     "output_type": "stream",
     "text": [
      "'data.frame':\t24 obs. of  10 variables:\n",
      " $ y : num  29.5 27.9 25.9 29.9 29.9 30.9 28.9 35.9 31.5 31 ...\n",
      " $ x1: num  5.02 4.54 4.56 5.06 3.89 ...\n",
      " $ x2: num  1 1 1 1 1 1 1 1 1 1 ...\n",
      " $ x3: num  3.53 2.27 4.05 4.46 4.46 ...\n",
      " $ x4: num  1.5 1.175 1.232 1.121 0.988 ...\n",
      " $ x5: num  2 1 1 1 1 1 0 2 1 1 ...\n",
      " $ x6: int  7 6 6 6 6 7 6 6 6 5 ...\n",
      " $ x7: int  4 3 3 3 3 3 3 3 3 2 ...\n",
      " $ x8: int  62 40 54 42 56 51 32 32 30 30 ...\n",
      " $ x9: int  0 0 0 0 0 1 0 0 0 0 ...\n"
     ]
    }
   ],
   "source": [
    "data = read.csv(\"https://raw.githubusercontent.com/uqglmn/sm/main/mlr/house.csv\")\n",
    "str(data)"
   ]
  },
  {
   "cell_type": "code",
   "execution_count": 8,
   "id": "4b9e38f4",
   "metadata": {},
   "outputs": [],
   "source": [
    "# write your code here\n"
   ]
  },
  {
   "cell_type": "markdown",
   "id": "bf31753d",
   "metadata": {},
   "source": [
    "**2.2.** Use backward elimination method to find the best model for the data."
   ]
  },
  {
   "cell_type": "code",
   "execution_count": 9,
   "id": "0ef446cb",
   "metadata": {},
   "outputs": [],
   "source": [
    "# write your code here\n"
   ]
  },
  {
   "cell_type": "markdown",
   "id": "75fd3fd3",
   "metadata": {},
   "source": [
    "**2.3.** Use ``stepAIC(your_full_model)`` function from the ``MASS`` library to find the best model for the data. Compare ``steapAIC()`` answer with your results from the previous step."
   ]
  },
  {
   "cell_type": "code",
   "execution_count": 10,
   "id": "9d4641db",
   "metadata": {},
   "outputs": [],
   "source": [
    "# write your code here\n"
   ]
  },
  {
   "cell_type": "markdown",
   "id": "0fb5ec95",
   "metadata": {},
   "source": [
    "**2.4.** Compute variance inflation factors for the full model and for your best model. Is multicollinearity present in your best model?"
   ]
  },
  {
   "cell_type": "code",
   "execution_count": 11,
   "id": "8bcf3acf",
   "metadata": {},
   "outputs": [],
   "source": [
    "# write your code here\n"
   ]
  },
  {
   "cell_type": "markdown",
   "id": "secret-capital",
   "metadata": {},
   "source": [
    "---"
   ]
  },
  {
   "cell_type": "markdown",
   "id": "theoretical-release",
   "metadata": {},
   "source": [
    "### Exercise 3\n",
    "\n",
    "Belle Ayr Liquefaction runs data given in [https://raw.githubusercontent.com/uqglmn/sm/main/mlr/belle.csv](https://raw.githubusercontent.com/uqglmn/sm/main/mlr/belle.csv):\n",
    "\n",
    "- ``y`` — CO2\n",
    "- ``x1`` — Space time, min.\n",
    "- ``x2`` — Temperature, ° C\n",
    "- ``x3`` — Percent solvation\n",
    "- ``x4`` — Oil yield (g/100 g MAF)\n",
    "- ``x5`` — Coal total\n",
    "- ``x6`` — Solvent total\n",
    "- ``x7`` — Hydrogen consumption"
   ]
  },
  {
   "cell_type": "markdown",
   "id": "2004b254",
   "metadata": {},
   "source": [
    "**3.1.** Read and visually inspect the data. Fit a model based on observations. Conduct residual analysis and decide if any transformations are needed."
   ]
  },
  {
   "cell_type": "code",
   "execution_count": 12,
   "id": "f873c97e",
   "metadata": {},
   "outputs": [
    {
     "name": "stdout",
     "output_type": "stream",
     "text": [
      "'data.frame':\t27 obs. of  8 variables:\n",
      " $ y : num  36.98 13.74 10.08 8.53 36.42 ...\n",
      " $ x1: num  5.1 26.4 23.8 46.4 7 12.6 18.9 30.2 53.8 5.6 ...\n",
      " $ x2: int  400 400 400 400 450 450 450 450 450 400 ...\n",
      " $ x3: num  51.4 72.3 71.4 79.2 80.5 ...\n",
      " $ x4: num  4.24 30.87 33.01 44.61 33.84 ...\n",
      " $ x5: num  1485 290 321 165 1097 ...\n",
      " $ x6: num  2227 435 481 247 1646 ...\n",
      " $ x7: num  2.06 1.33 0.97 0.62 0.22 0.76 1.71 3.93 1.97 5.08 ...\n"
     ]
    }
   ],
   "source": [
    "data = read.csv(\"https://raw.githubusercontent.com/uqglmn/sm/main/mlr/belle.csv\")\n",
    "str(data)"
   ]
  },
  {
   "cell_type": "code",
   "execution_count": 13,
   "id": "ac2d7a47",
   "metadata": {},
   "outputs": [],
   "source": [
    "# write your code here\n"
   ]
  },
  {
   "cell_type": "markdown",
   "id": "b844b2d5",
   "metadata": {},
   "source": [
    "**3.2.** Use backward elimination method to find the best model for the data."
   ]
  },
  {
   "cell_type": "code",
   "execution_count": 14,
   "id": "6462bf76",
   "metadata": {},
   "outputs": [],
   "source": [
    "# write your code here\n"
   ]
  },
  {
   "cell_type": "markdown",
   "id": "849b4bf0",
   "metadata": {},
   "source": [
    "**3.3.** Use ``stepAIC(your_full_model)`` function from the ``MASS`` library to find the best model for the data. Compare ``steapAIC()`` answer with your results from the previous step."
   ]
  },
  {
   "cell_type": "code",
   "execution_count": 15,
   "id": "062f6054",
   "metadata": {},
   "outputs": [],
   "source": [
    "# write your code here\n"
   ]
  },
  {
   "cell_type": "markdown",
   "id": "207265c7",
   "metadata": {},
   "source": [
    "**3.4.** Compute variance inflation factors for the full model and for your best model. Is multicollinearity present in your best model?"
   ]
  },
  {
   "cell_type": "code",
   "execution_count": 16,
   "id": "a5ae7076",
   "metadata": {},
   "outputs": [],
   "source": [
    "# write your code here\n"
   ]
  },
  {
   "cell_type": "markdown",
   "id": "dimensional-competition",
   "metadata": {},
   "source": [
    "---"
   ]
  },
  {
   "cell_type": "markdown",
   "id": "arabic-vertex",
   "metadata": {},
   "source": [
    "### Exercise 4\n",
    "\n",
    "Jet turbine engine thrust data given in [https://raw.githubusercontent.com/uqglmn/sm/main/mlr/jet.csv](https://raw.githubusercontent.com/uqglmn/sm/main/mlr/jet.csv):\n",
    "\n",
    "- ``y`` — Thrust\n",
    "- ``x1`` — Primary speed of rotation\n",
    "- ``x2`` — Secondary speed of rotation\n",
    "- ``x3`` — Fuel fl ow rate\n",
    "- ``x4`` — Pressure\n",
    "- ``x5`` — Exhaust temperature\n",
    "- ``x6`` — Ambient temperature at time of test"
   ]
  },
  {
   "cell_type": "markdown",
   "id": "89ea42d9",
   "metadata": {},
   "source": [
    "**4.1.** Read and visually inspect the data. Fit a model based on observations. Conduct residual analysis and decide if any transformations are needed."
   ]
  },
  {
   "cell_type": "code",
   "execution_count": 17,
   "id": "77025d54",
   "metadata": {},
   "outputs": [
    {
     "name": "stdout",
     "output_type": "stream",
     "text": [
      "'data.frame':\t40 obs. of  7 variables:\n",
      " $ y : int  4540 4315 4095 3650 3200 4833 4617 4340 3820 3368 ...\n",
      " $ x1: int  2140 2016 1905 1675 1474 2239 2120 1990 1702 1487 ...\n",
      " $ x2: int  20640 20280 19860 18980 18100 20740 20305 19961 18916 18012 ...\n",
      " $ x3: int  30250 30010 29780 29330 28960 30083 29831 29604 29088 28675 ...\n",
      " $ x4: int  205 195 184 164 144 216 206 196 171 149 ...\n",
      " $ x5: int  1732 1697 1662 1598 1541 1709 1669 1640 1572 1522 ...\n",
      " $ x6: int  99 100 97 97 97 87 87 87 85 85 ...\n"
     ]
    }
   ],
   "source": [
    "data = read.csv(\"https://raw.githubusercontent.com/uqglmn/sm/main/mlr/jet.csv\")\n",
    "str(data)"
   ]
  },
  {
   "cell_type": "code",
   "execution_count": 18,
   "id": "f65f0610",
   "metadata": {},
   "outputs": [],
   "source": [
    "# write your code here\n"
   ]
  },
  {
   "cell_type": "markdown",
   "id": "6deff9b9",
   "metadata": {},
   "source": [
    "**4.2.** Use backward elimination method to find the best model for the data."
   ]
  },
  {
   "cell_type": "code",
   "execution_count": 19,
   "id": "2941e02a",
   "metadata": {},
   "outputs": [],
   "source": [
    "# write your code here\n"
   ]
  },
  {
   "cell_type": "markdown",
   "id": "761344a0",
   "metadata": {},
   "source": [
    "**4.3.** Use ``stepAIC(your_full_model)`` function from the ``MASS`` library to find the best model for the data. Compare ``steapAIC()`` answer with your results from the previous step."
   ]
  },
  {
   "cell_type": "code",
   "execution_count": 20,
   "id": "2eae19d8",
   "metadata": {},
   "outputs": [],
   "source": [
    "# write your code here\n"
   ]
  },
  {
   "cell_type": "markdown",
   "id": "c3094d43",
   "metadata": {},
   "source": [
    "**4.4.** Compute variance inflation factors for the full model and for your best model. Is multicollinearity present in your best model?"
   ]
  },
  {
   "cell_type": "code",
   "execution_count": 21,
   "id": "6d7e963c",
   "metadata": {},
   "outputs": [],
   "source": [
    "# write your code here\n"
   ]
  },
  {
   "cell_type": "markdown",
   "id": "national-cliff",
   "metadata": {},
   "source": [
    "---"
   ]
  },
  {
   "cell_type": "markdown",
   "id": "neutral-complement",
   "metadata": {},
   "source": [
    "### Exercise 5\n",
    "\n",
    "Tube-Flow reactor data data given in [https://raw.githubusercontent.com/uqglmn/sm/main/mlr/reactor.csv](https://raw.githubusercontent.com/uqglmn/sm/main/mlr/reactor.csv):\n",
    "\n",
    "- ``y`` — NbOCl3 concentration (g-mol/l)\n",
    "- ``x1`` — COCl2 concentration (g-mol/l)\n",
    "- ``x2`` — Space time (sec)\n",
    "- ``x3`` — Molar density (g-mol/l)\n",
    "- ``x4`` — Mole fraction CO2"
   ]
  },
  {
   "cell_type": "markdown",
   "id": "c221a933",
   "metadata": {},
   "source": [
    "**5.1.** Read and visually inspect the data. Fit a model based on observations. Conduct residual analysis and decide if any transformations are needed."
   ]
  },
  {
   "cell_type": "code",
   "execution_count": 22,
   "id": "4bf9c24f",
   "metadata": {},
   "outputs": [
    {
     "name": "stdout",
     "output_type": "stream",
     "text": [
      "'data.frame':\t28 obs. of  5 variables:\n",
      " $ y : num  0.00045 0.00045 0.000473 0.000507 0.000457 ...\n",
      " $ x1: num  0.0105 0.011 0.0106 0.0116 0.0121 0.0123 0.0122 0.0122 0.0123 0.0122 ...\n",
      " $ x2: num  90.9 84.6 88.9 488.7 454.4 ...\n",
      " $ x3: num  0.0164 0.0165 0.0164 0.0187 0.0187 0.0187 0.0186 0.0187 0.0192 0.0192 ...\n",
      " $ x4: num  0.0177 0.0172 0.0157 0.0082 0.007 0.0065 0.0071 0.0062 0.0153 0.0129 ...\n"
     ]
    }
   ],
   "source": [
    "data = read.csv(\"https://raw.githubusercontent.com/uqglmn/sm/main/mlr/reactor.csv\")\n",
    "str(data)"
   ]
  },
  {
   "cell_type": "code",
   "execution_count": 23,
   "id": "92b0da2f",
   "metadata": {},
   "outputs": [],
   "source": [
    "# write your code here\n"
   ]
  },
  {
   "cell_type": "markdown",
   "id": "997a5501",
   "metadata": {},
   "source": [
    "**5.2.** Use backward elimination method to find the best model for the data."
   ]
  },
  {
   "cell_type": "code",
   "execution_count": 24,
   "id": "160cea07",
   "metadata": {},
   "outputs": [],
   "source": [
    "# write your code here\n"
   ]
  },
  {
   "cell_type": "markdown",
   "id": "45a8a1ca",
   "metadata": {},
   "source": [
    "**5.3.** Use ``stepAIC(your_full_model)`` function from the ``MASS`` library to find the best model for the data. Compare ``steapAIC()`` answer with your results from the previous step."
   ]
  },
  {
   "cell_type": "code",
   "execution_count": 25,
   "id": "0b427ef7",
   "metadata": {},
   "outputs": [],
   "source": [
    "# write your code here\n"
   ]
  },
  {
   "cell_type": "markdown",
   "id": "cb0bbadb",
   "metadata": {},
   "source": [
    "**5.4.** Compute variance inflation factors for the full model and for your best model. Is multicollinearity present in your best model?"
   ]
  },
  {
   "cell_type": "code",
   "execution_count": 26,
   "id": "c3f9d9fd",
   "metadata": {},
   "outputs": [],
   "source": [
    "# write your code here\n"
   ]
  },
  {
   "cell_type": "markdown",
   "id": "hundred-dialogue",
   "metadata": {},
   "source": [
    "---"
   ]
  },
  {
   "cell_type": "markdown",
   "id": "duplicate-reflection",
   "metadata": {},
   "source": [
    "### Exercise 6\n",
    "\n",
    "Air pollution and mortality data (from 1978) given in [https://raw.githubusercontent.com/uqglmn/sm/main/mlr/pollution.csv](https://raw.githubusercontent.com/uqglmn/sm/main/mlr/pollution.csv):\n",
    "\n",
    "- ``Mort`` — total age-adjusted mortality from all causes, in deaths per 100,000 population\n",
    "- ``Precip`` — the mean annual precipitation (in inches)\n",
    "- ``Educ`` — the median number of school years completed for persons of age 25 years or older\n",
    "- ``Nonwhite`` — the percentage of the 1960 population that is nonwhite\n",
    "- ``Nox`` — the relative pollution potential of oxides of nitrogen\n",
    "- ``SO2`` — the relative pollution potential of sulfur dioxide\n",
    "\n",
    "The response variable is ``Mort``."
   ]
  },
  {
   "cell_type": "markdown",
   "id": "3b3f9144",
   "metadata": {},
   "source": [
    "**6.1.** Read and visually inspect the data. Fit a model based on observations. Conduct residual analysis and decide if any transformations are needed."
   ]
  },
  {
   "cell_type": "code",
   "execution_count": 27,
   "id": "e2de275b",
   "metadata": {},
   "outputs": [
    {
     "name": "stdout",
     "output_type": "stream",
     "text": [
      "'data.frame':\t60 obs. of  7 variables:\n",
      " $ City    : chr  \"San Jose, CA\" \"Wichita, KS\" \"San Diego, CA\" \"Lancaster, PA\" ...\n",
      " $ MORT    : num  791 824 840 844 858 ...\n",
      " $ PRECIP  : int  13 28 10 43 25 35 60 11 31 15 ...\n",
      " $ EDUC    : num  12.2 12.1 12.1 9.5 12.1 11.8 11.5 12.1 10.9 12.2 ...\n",
      " $ NONWHITE: num  3 7.5 5.9 2.9 3 14.8 11.5 7.8 5.1 4.7 ...\n",
      " $ NOX     : int  32 2 66 7 11 1 1 319 3 8 ...\n",
      " $ SO2     : int  3 1 20 32 26 1 1 130 10 28 ...\n"
     ]
    }
   ],
   "source": [
    "data = read.csv(\"https://raw.githubusercontent.com/uqglmn/sm/main/mlr/pollution.csv\")\n",
    "str(data)"
   ]
  },
  {
   "cell_type": "code",
   "execution_count": 28,
   "id": "8138bae2",
   "metadata": {},
   "outputs": [],
   "source": [
    "# write your code here\n"
   ]
  },
  {
   "cell_type": "markdown",
   "id": "e28586b0",
   "metadata": {},
   "source": [
    "**6.2.** Use backward elimination method to find the best model for the data."
   ]
  },
  {
   "cell_type": "code",
   "execution_count": 29,
   "id": "8886a7fe",
   "metadata": {},
   "outputs": [],
   "source": [
    "# write your code here\n"
   ]
  },
  {
   "cell_type": "markdown",
   "id": "a02542e2",
   "metadata": {},
   "source": [
    "**6.3.** Use ``stepAIC(your_full_model)`` function from the ``MASS`` library to find the best model for the data. Compare ``steapAIC()`` answer with your results from the previous step."
   ]
  },
  {
   "cell_type": "code",
   "execution_count": 30,
   "id": "6d92482b",
   "metadata": {},
   "outputs": [],
   "source": [
    "# write your code here\n"
   ]
  },
  {
   "cell_type": "markdown",
   "id": "a3f60ca7",
   "metadata": {},
   "source": [
    "**6.4.** Compute variance inflation factors for the full model and for your best model. Is multicollinearity present in your best model?"
   ]
  },
  {
   "cell_type": "code",
   "execution_count": 31,
   "id": "c2d77499",
   "metadata": {},
   "outputs": [],
   "source": [
    "# write your code here\n"
   ]
  },
  {
   "cell_type": "markdown",
   "id": "cordless-thirty",
   "metadata": {},
   "source": [
    "---"
   ]
  }
 ],
 "metadata": {
  "kernelspec": {
   "display_name": "R",
   "language": "R",
   "name": "ir"
  },
  "language_info": {
   "codemirror_mode": "r",
   "file_extension": ".r",
   "mimetype": "text/x-r-source",
   "name": "R",
   "pygments_lexer": "r",
   "version": "4.3.1"
  }
 },
 "nbformat": 4,
 "nbformat_minor": 5
}
