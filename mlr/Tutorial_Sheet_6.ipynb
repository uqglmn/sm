{
 "cells": [
  {
   "cell_type": "markdown",
   "id": "blind-middle",
   "metadata": {},
   "source": [
    "## Statistical Modelling. Tutorial Sheet 6\n",
    "Multiple Linear Regression\n",
    "\n",
    "Exercises 1 and 2 should be done using matrix approach"
   ]
  },
  {
   "cell_type": "markdown",
   "id": "conscious-republic",
   "metadata": {},
   "source": [
    "---"
   ]
  },
  {
   "cell_type": "markdown",
   "id": "straight-details",
   "metadata": {},
   "source": [
    "### Exercise 1\n",
    "\n",
    "Consider the National Football League data in [https://raw.githubusercontent.com/uqglmn/sm/main/mlr/nfl.csv](\"https://raw.githubusercontent.com/uqglmn/sm/main/mlr/nfl.csv\"). It is expected that the number of games won ($y$) is linearly related to the team's passing yardage ($x_1$), the percentage of rushing plays ($x_2$), and the opponents' yards rushing ($x_3$)."
   ]
  },
  {
   "cell_type": "markdown",
   "id": "endless-genius",
   "metadata": {},
   "source": [
    "**1.1.** Read and visually inspect the data."
   ]
  },
  {
   "cell_type": "code",
   "execution_count": 1,
   "id": "7f38bba8",
   "metadata": {},
   "outputs": [],
   "source": [
    "# write your code here\n"
   ]
  },
  {
   "cell_type": "markdown",
   "id": "nutritional-battle",
   "metadata": {},
   "source": [
    "**1.2.** Fit a multiple linear regression model relating $y$ to $x_1$, $x_2$, and $x_3$."
   ]
  },
  {
   "cell_type": "code",
   "execution_count": 2,
   "id": "10f1eeb9",
   "metadata": {},
   "outputs": [],
   "source": [
    "# write your code here\n"
   ]
  },
  {
   "cell_type": "markdown",
   "id": "vertical-ghana",
   "metadata": {},
   "source": [
    "**1.3.** Find a 95\\% CI on $\\beta_2$ and $\\beta_3$."
   ]
  },
  {
   "cell_type": "code",
   "execution_count": 3,
   "id": "448623ae",
   "metadata": {},
   "outputs": [],
   "source": [
    "# write your code here\n"
   ]
  },
  {
   "cell_type": "markdown",
   "id": "liked-basket",
   "metadata": {},
   "source": [
    "**1.4.** Find a 95% CI on the mean number of games won by a team when $x_1 = 2300$, $x_2 = 56$ and $x_3 = 2100$."
   ]
  },
  {
   "cell_type": "code",
   "execution_count": 4,
   "id": "c97640cf",
   "metadata": {},
   "outputs": [],
   "source": [
    "# write your code here\n"
   ]
  },
  {
   "cell_type": "markdown",
   "id": "pending-basket",
   "metadata": {},
   "source": [
    "**1.5.** Fit a multiple linear regression model relating $y$ to $x_2$ and $x_3$ only."
   ]
  },
  {
   "cell_type": "code",
   "execution_count": 5,
   "id": "1e3aac8b",
   "metadata": {},
   "outputs": [],
   "source": [
    "# write your code here\n"
   ]
  },
  {
   "cell_type": "markdown",
   "id": "useful-caribbean",
   "metadata": {},
   "source": [
    "**1.6.** Find a 95\\% CI on $\\beta_2$ and $\\beta_3$."
   ]
  },
  {
   "cell_type": "code",
   "execution_count": 6,
   "id": "4f6b0972",
   "metadata": {},
   "outputs": [],
   "source": [
    "# write your code here\n"
   ]
  },
  {
   "cell_type": "markdown",
   "id": "color-looking",
   "metadata": {},
   "source": [
    "**1.7.** Find a 95% CI on the mean number of games won by a team when $x_2 = 56$ and $x_3 = 2100$."
   ]
  },
  {
   "cell_type": "code",
   "execution_count": 7,
   "id": "d1d74e2e",
   "metadata": {},
   "outputs": [],
   "source": [
    "# write your code here\n"
   ]
  },
  {
   "cell_type": "markdown",
   "id": "cooperative-lecture",
   "metadata": {},
   "source": [
    "**1.8.** Compare the CI lengths in 1.3. and 1.4. against those in 1.6. and 1.7. What conclusions can you draw from this comparisons about the consequences of omitting an important predictor from a model?"
   ]
  },
  {
   "cell_type": "code",
   "execution_count": 8,
   "id": "4712273c",
   "metadata": {},
   "outputs": [],
   "source": [
    "# write your code here\n"
   ]
  },
  {
   "cell_type": "markdown",
   "id": "super-storage",
   "metadata": {},
   "source": [
    "**1.9.** Verify your results using built-in statistical functions."
   ]
  },
  {
   "cell_type": "code",
   "execution_count": 9,
   "id": "54796f7c",
   "metadata": {},
   "outputs": [],
   "source": [
    "# write your code here\n"
   ]
  },
  {
   "cell_type": "markdown",
   "id": "handed-plain",
   "metadata": {},
   "source": [
    "---"
   ]
  },
  {
   "cell_type": "markdown",
   "id": "thirty-insurance",
   "metadata": {},
   "source": [
    "### Exercise 2\n",
    "\n",
    "Consider the gasoline mileage data in [https://raw.githubusercontent.com/uqglmn/sm/main/mlr/gasoline.csv](\"https://raw.githubusercontent.com/uqglmn/sm/main/mlr/gasoline.csv\"). It is expected that gasoline mileage in miles per gallon ($y$) is linearly related to the engine displacement in cubic inches ($x_1$) and the number of carburetor barrels ($x_2$)."
   ]
  },
  {
   "cell_type": "markdown",
   "id": "short-production",
   "metadata": {},
   "source": [
    "**2.1.** Read and visually inspect the data."
   ]
  },
  {
   "cell_type": "code",
   "execution_count": 10,
   "id": "268ccd6c",
   "metadata": {},
   "outputs": [],
   "source": [
    "# write your code here\n"
   ]
  },
  {
   "cell_type": "markdown",
   "id": "operating-lying",
   "metadata": {},
   "source": [
    "**2.2.** Fit a multiple linear regression model relating $y$ to $x_1$ and $x_2$."
   ]
  },
  {
   "cell_type": "code",
   "execution_count": 11,
   "id": "edf4a80d",
   "metadata": {},
   "outputs": [],
   "source": [
    "# write your code here\n"
   ]
  },
  {
   "cell_type": "markdown",
   "id": "consolidated-authority",
   "metadata": {},
   "source": [
    "**2.3.** Find a 95% CI on $\\beta_1$ and $\\beta_2$."
   ]
  },
  {
   "cell_type": "code",
   "execution_count": 12,
   "id": "3eae46a9",
   "metadata": {},
   "outputs": [],
   "source": [
    "# write your code here\n"
   ]
  },
  {
   "cell_type": "markdown",
   "id": "developing-mongolia",
   "metadata": {},
   "source": [
    "**2.4.** Find the mean gasoline mileage together with its 95% CI when $x_1 = 275\\text{ in.}^3$ and $x_2 = 2$\n",
    "barrels."
   ]
  },
  {
   "cell_type": "code",
   "execution_count": 13,
   "id": "ac970aa9",
   "metadata": {},
   "outputs": [],
   "source": [
    "# write your code here\n"
   ]
  },
  {
   "cell_type": "markdown",
   "id": "classical-picking",
   "metadata": {},
   "source": [
    "**2.5.** Find a 95% PI for a new observation on gasoline mileage when $x_1 = 275\\text{ in.}^3$ and $x_2 = 2$ barrels."
   ]
  },
  {
   "cell_type": "code",
   "execution_count": 14,
   "id": "1953cbd6",
   "metadata": {},
   "outputs": [],
   "source": [
    "# write your code here\n"
   ]
  },
  {
   "cell_type": "markdown",
   "id": "taken-private",
   "metadata": {},
   "source": [
    "**2.6.** Verify your results using built-in statistical functions."
   ]
  },
  {
   "cell_type": "code",
   "execution_count": 15,
   "id": "d9c907ac",
   "metadata": {},
   "outputs": [],
   "source": [
    "# write your code here\n"
   ]
  },
  {
   "cell_type": "markdown",
   "id": "affecting-bishop",
   "metadata": {},
   "source": [
    "---"
   ]
  },
  {
   "cell_type": "markdown",
   "id": "spanish-fifth",
   "metadata": {},
   "source": [
    "### Exercise 3\n",
    "\n",
    "Consider a multiple linear regression model $\\vec y = X\\vec \\beta + \\vec \\varepsilon$. Show that the least squares estimate $\\hat{\\vec \\beta} = (X^T X)^{-1} X^T \\vec y$ can be written as\n",
    "\n",
    "$$\n",
    "\\hat{\\vec \\beta} = \\vec \\beta + R\\,\\vec \\varepsilon, \\quad\\text{where}\\quad R = (X^T X)^{-1} X^T \n",
    "$$\n",
    "\n",
    "This exercise should be done by hand."
   ]
  },
  {
   "cell_type": "markdown",
   "id": "french-childhood",
   "metadata": {},
   "source": [
    "---"
   ]
  },
  {
   "cell_type": "markdown",
   "id": "classified-collar",
   "metadata": {},
   "source": [
    "### Exercise 4\n",
    "\n",
    "Which of the following models are linear? If the model is non-linear, indicate the non-linear term. Certain non-linear model can be linearised. Indicate which of the non-linear model are linearisable and write their linear analogues: \n",
    "\n",
    "1. $y = \\beta_0 + \\beta_1 x_1 + \\beta_2 x_2 + \\beta_{12} x_1 x_2 + \\varepsilon$\n",
    "\n",
    "\n",
    "2. $y = \\log(\\beta_1 x_1) + \\log(\\beta_2 x_2) + \\varepsilon$\n",
    "\n",
    "\n",
    "3. $y = \\beta_0 + \\beta_1 \\exp(x_1) + \\beta_2 \\log(x_2) + \\varepsilon$\n",
    "\n",
    "\n",
    "4. $y = \\beta_0 + \\beta_1 x_1 + \\beta_2 x_2 + \\beta_1 \\beta_2 x_1 x_2 + \\beta_3 x_3 + \\varepsilon$\n",
    "\n",
    "\n",
    "5. $y = \\beta_0 + \\beta_1/x_1 + x_2/\\beta_2 + \\varepsilon$\n",
    "\n",
    "\n",
    "6. $y = \\beta_0 \\exp(\\beta_1 x_1)\\,\\varepsilon$\n",
    "\n",
    "\n",
    "7. $y = \\dfrac{1}{\\beta_0 + \\beta_1(x_1 - \\bar x_1) + \\varepsilon}$\n",
    "\n",
    "\n",
    "This exercise should be done by hand."
   ]
  },
  {
   "cell_type": "markdown",
   "id": "american-allocation",
   "metadata": {},
   "source": [
    "---"
   ]
  }
 ],
 "metadata": {
  "kernelspec": {
   "display_name": "R",
   "language": "R",
   "name": "ir"
  },
  "language_info": {
   "codemirror_mode": "r",
   "file_extension": ".r",
   "mimetype": "text/x-r-source",
   "name": "R",
   "pygments_lexer": "r",
   "version": "4.3.1"
  }
 },
 "nbformat": 4,
 "nbformat_minor": 5
}
