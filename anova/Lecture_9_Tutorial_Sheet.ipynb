{
 "cells": [
  {
   "cell_type": "markdown",
   "id": "gorgeous-beauty",
   "metadata": {},
   "source": [
    "## Lecture 9 Tutorial Sheet\n",
    "\n",
    "**One-Way ANOVA: analysis of completely randomised single-factor experiments**"
   ]
  },
  {
   "cell_type": "markdown",
   "id": "neural-modern",
   "metadata": {},
   "source": [
    "---"
   ]
  },
  {
   "cell_type": "markdown",
   "id": "involved-edition",
   "metadata": {},
   "source": [
    "### Exercise 1\n",
    "\n",
    "The tensile strength of Portland cement is being studied. Four different mixing techniques can be used economically. A completely randomized experiment was conducted and the following data were collected, for four different mixing techniques:"
   ]
  },
  {
   "cell_type": "code",
   "execution_count": 1,
   "id": "stuck-growing",
   "metadata": {},
   "outputs": [
    {
     "data": {
      "text/html": [
       "<table class=\"dataframe\">\n",
       "<caption>A matrix: 4 × 4 of type dbl</caption>\n",
       "<tbody>\n",
       "\t<tr><th scope=row>x1</th><td>3129</td><td>3000</td><td>2865</td><td>2890</td></tr>\n",
       "\t<tr><th scope=row>x2</th><td>3200</td><td>3300</td><td>2975</td><td>3150</td></tr>\n",
       "\t<tr><th scope=row>x3</th><td>2800</td><td>2900</td><td>2985</td><td>3050</td></tr>\n",
       "\t<tr><th scope=row>x4</th><td>2600</td><td>2700</td><td>2600</td><td>2765</td></tr>\n",
       "</tbody>\n",
       "</table>\n"
      ],
      "text/latex": [
       "A matrix: 4 × 4 of type dbl\n",
       "\\begin{tabular}{r|llll}\n",
       "\tx1 & 3129 & 3000 & 2865 & 2890\\\\\n",
       "\tx2 & 3200 & 3300 & 2975 & 3150\\\\\n",
       "\tx3 & 2800 & 2900 & 2985 & 3050\\\\\n",
       "\tx4 & 2600 & 2700 & 2600 & 2765\\\\\n",
       "\\end{tabular}\n"
      ],
      "text/markdown": [
       "\n",
       "A matrix: 4 × 4 of type dbl\n",
       "\n",
       "| x1 | 3129 | 3000 | 2865 | 2890 |\n",
       "| x2 | 3200 | 3300 | 2975 | 3150 |\n",
       "| x3 | 2800 | 2900 | 2985 | 3050 |\n",
       "| x4 | 2600 | 2700 | 2600 | 2765 |\n",
       "\n"
      ],
      "text/plain": [
       "   [,1] [,2] [,3] [,4]\n",
       "x1 3129 3000 2865 2890\n",
       "x2 3200 3300 2975 3150\n",
       "x3 2800 2900 2985 3050\n",
       "x4 2600 2700 2600 2765"
      ]
     },
     "metadata": {},
     "output_type": "display_data"
    }
   ],
   "source": [
    "data = data.frame(x1 = c(3129, 3000, 2865, 2890),\n",
    "                  x2 = c(3200, 3300, 2975, 3150),\n",
    "                  x3 = c(2800, 2900, 2985, 3050),\n",
    "                  x4 = c(2600, 2700, 2600, 2765))\n",
    "t(data)"
   ]
  },
  {
   "cell_type": "markdown",
   "id": "neither-senior",
   "metadata": {},
   "source": [
    "**1.1.** Visually compare the mean tensile strengths for the four mixing techniques. What are your conclusions?"
   ]
  },
  {
   "cell_type": "code",
   "execution_count": 2,
   "id": "curious-doubt",
   "metadata": {},
   "outputs": [],
   "source": [
    "# write your code here"
   ]
  },
  {
   "cell_type": "markdown",
   "id": "average-pointer",
   "metadata": {},
   "source": [
    "**1.2.** Test the hypothesis that mixing techniques affect the strength of the cement. Use $\\alpha = 0.05$."
   ]
  },
  {
   "cell_type": "code",
   "execution_count": 3,
   "id": "thorough-environment",
   "metadata": {},
   "outputs": [],
   "source": [
    "# write your code here"
   ]
  },
  {
   "cell_type": "markdown",
   "id": "lightweight-breath",
   "metadata": {},
   "source": [
    "**1.3.** Conduct residual analysis. Comment on the plots."
   ]
  },
  {
   "cell_type": "code",
   "execution_count": 4,
   "id": "informative-making",
   "metadata": {},
   "outputs": [],
   "source": [
    "# write your code here"
   ]
  },
  {
   "cell_type": "markdown",
   "id": "union-technique",
   "metadata": {},
   "source": [
    "**1.4.** Suggest three meaningful linear orthogonal single degree of freedom contrasts for follow-up comparisons and carry out the corresponding significance tests. Explain in a few words the tests implied by the contrasts. Use $\\alpha = 0.05$."
   ]
  },
  {
   "cell_type": "code",
   "execution_count": 5,
   "id": "north-tenant",
   "metadata": {},
   "outputs": [],
   "source": [
    "# write your code here"
   ]
  },
  {
   "cell_type": "markdown",
   "id": "straight-convert",
   "metadata": {},
   "source": [
    "---"
   ]
  },
  {
   "cell_type": "markdown",
   "id": "saved-tobago",
   "metadata": {},
   "source": [
    "### Exercise 2\n",
    "\n",
    "A product developer is investigating the tensile strength of a new synthetic fiber that will be used to make cloth\n",
    "for men's shirts. Strength is usually affected by the percentage of cotton used in the blend of materials for the fiber. The engineer conducts a completely randomized experiment with five levels of cotton content, 15%, 20%, 25%, 30%, and 35%, and replicates the experiment five times. The data is given below:"
   ]
  },
  {
   "cell_type": "code",
   "execution_count": 6,
   "id": "stable-engineer",
   "metadata": {},
   "outputs": [
    {
     "data": {
      "text/html": [
       "<table class=\"dataframe\">\n",
       "<caption>A matrix: 5 × 5 of type dbl</caption>\n",
       "<tbody>\n",
       "\t<tr><th scope=row>w15</th><td> 7</td><td> 7</td><td>15</td><td>11</td><td> 9</td></tr>\n",
       "\t<tr><th scope=row>w20</th><td>12</td><td>17</td><td>12</td><td>18</td><td>18</td></tr>\n",
       "\t<tr><th scope=row>w25</th><td>14</td><td>19</td><td>19</td><td>18</td><td>18</td></tr>\n",
       "\t<tr><th scope=row>w30</th><td>19</td><td>25</td><td>22</td><td>19</td><td>23</td></tr>\n",
       "\t<tr><th scope=row>w35</th><td> 7</td><td>10</td><td>11</td><td>15</td><td>11</td></tr>\n",
       "</tbody>\n",
       "</table>\n"
      ],
      "text/latex": [
       "A matrix: 5 × 5 of type dbl\n",
       "\\begin{tabular}{r|lllll}\n",
       "\tw15 &  7 &  7 & 15 & 11 &  9\\\\\n",
       "\tw20 & 12 & 17 & 12 & 18 & 18\\\\\n",
       "\tw25 & 14 & 19 & 19 & 18 & 18\\\\\n",
       "\tw30 & 19 & 25 & 22 & 19 & 23\\\\\n",
       "\tw35 &  7 & 10 & 11 & 15 & 11\\\\\n",
       "\\end{tabular}\n"
      ],
      "text/markdown": [
       "\n",
       "A matrix: 5 × 5 of type dbl\n",
       "\n",
       "| w15 |  7 |  7 | 15 | 11 |  9 |\n",
       "| w20 | 12 | 17 | 12 | 18 | 18 |\n",
       "| w25 | 14 | 19 | 19 | 18 | 18 |\n",
       "| w30 | 19 | 25 | 22 | 19 | 23 |\n",
       "| w35 |  7 | 10 | 11 | 15 | 11 |\n",
       "\n"
      ],
      "text/plain": [
       "    [,1] [,2] [,3] [,4] [,5]\n",
       "w15  7    7   15   11    9  \n",
       "w20 12   17   12   18   18  \n",
       "w25 14   19   19   18   18  \n",
       "w30 19   25   22   19   23  \n",
       "w35  7   10   11   15   11  "
      ]
     },
     "metadata": {},
     "output_type": "display_data"
    }
   ],
   "source": [
    "data = data.frame(w15 = c( 7, 7,15,11,9),\n",
    "                  w20 = c(12,17,12,18,18),\n",
    "                  w25 = c(14,19,19,18,18),\n",
    "                  w30 = c(19,25,22,19,23),\n",
    "                  w35 = c( 7,10,11,15,11))\n",
    "t(data)"
   ]
  },
  {
   "cell_type": "markdown",
   "id": "sorted-rabbit",
   "metadata": {},
   "source": [
    "**2.1.** Visually compare the mean tensile strengths for the four five levels. What are your conclusions?"
   ]
  },
  {
   "cell_type": "code",
   "execution_count": 7,
   "id": "c4030e9e",
   "metadata": {},
   "outputs": [],
   "source": [
    "# write your code here"
   ]
  },
  {
   "cell_type": "markdown",
   "id": "common-permission",
   "metadata": {},
   "source": [
    "**2.2.** Is there evidence to support the claim that cotton content affects the mean tensile strength? Use $\\alpha = 0.05$."
   ]
  },
  {
   "cell_type": "code",
   "execution_count": 8,
   "id": "ad874b47",
   "metadata": {},
   "outputs": [],
   "source": [
    "# write your code here"
   ]
  },
  {
   "cell_type": "markdown",
   "id": "approximate-argument",
   "metadata": {},
   "source": [
    "**2.3.** Analyze the residuals from this experiment and comment on model adequacy."
   ]
  },
  {
   "cell_type": "code",
   "execution_count": 9,
   "id": "06ebb7da",
   "metadata": {},
   "outputs": [],
   "source": [
    "# write your code here"
   ]
  },
  {
   "cell_type": "markdown",
   "id": "possible-discharge",
   "metadata": {},
   "source": [
    "**2.4.** Suggest four meaningful linear orthogonal single degree of freedom contrasts for follow-up comparisons and carry out the corresponding significance tests. Explain in a few words the tests implied by the contrasts. Use $\\alpha = 0.05$."
   ]
  },
  {
   "cell_type": "code",
   "execution_count": 10,
   "id": "9808067a",
   "metadata": {},
   "outputs": [],
   "source": [
    "# write your code here"
   ]
  },
  {
   "cell_type": "markdown",
   "id": "miniature-month",
   "metadata": {},
   "source": [
    "---"
   ]
  },
  {
   "cell_type": "markdown",
   "id": "south-merchandise",
   "metadata": {},
   "source": [
    "### Exercise 3\n",
    "\n",
    "A pharmaceutical manufacturer wants to investigate the bioactivity of a new drug. A completely randomized single-factor experiment was conducted with three dosage levels, 20g, 30g, and 40g, and the following results were obtained:"
   ]
  },
  {
   "cell_type": "code",
   "execution_count": 11,
   "id": "cosmetic-wilson",
   "metadata": {},
   "outputs": [
    {
     "data": {
      "text/html": [
       "<table class=\"dataframe\">\n",
       "<caption>A matrix: 3 × 4 of type dbl</caption>\n",
       "<tbody>\n",
       "\t<tr><th scope=row>L20g</th><td>24</td><td>28</td><td>37</td><td>30</td></tr>\n",
       "\t<tr><th scope=row>L30g</th><td>37</td><td>44</td><td>31</td><td>35</td></tr>\n",
       "\t<tr><th scope=row>L40g</th><td>42</td><td>47</td><td>52</td><td>38</td></tr>\n",
       "</tbody>\n",
       "</table>\n"
      ],
      "text/latex": [
       "A matrix: 3 × 4 of type dbl\n",
       "\\begin{tabular}{r|llll}\n",
       "\tL20g & 24 & 28 & 37 & 30\\\\\n",
       "\tL30g & 37 & 44 & 31 & 35\\\\\n",
       "\tL40g & 42 & 47 & 52 & 38\\\\\n",
       "\\end{tabular}\n"
      ],
      "text/markdown": [
       "\n",
       "A matrix: 3 × 4 of type dbl\n",
       "\n",
       "| L20g | 24 | 28 | 37 | 30 |\n",
       "| L30g | 37 | 44 | 31 | 35 |\n",
       "| L40g | 42 | 47 | 52 | 38 |\n",
       "\n"
      ],
      "text/plain": [
       "     [,1] [,2] [,3] [,4]\n",
       "L20g 24   28   37   30  \n",
       "L30g 37   44   31   35  \n",
       "L40g 42   47   52   38  "
      ]
     },
     "metadata": {},
     "output_type": "display_data"
    }
   ],
   "source": [
    "data = data.frame(L20g = c(24,28,37,30),\n",
    "                  L30g = c(37,44,31,35),\n",
    "                  L40g = c(42,47,52,38))\n",
    "t(data)"
   ]
  },
  {
   "cell_type": "markdown",
   "id": "structured-superintendent",
   "metadata": {},
   "source": [
    "**3.1.** Visually compare the mean bioactivity for the three dosage levels. What are your conclusions?"
   ]
  },
  {
   "cell_type": "code",
   "execution_count": 12,
   "id": "1a08b425",
   "metadata": {},
   "outputs": [],
   "source": [
    "# write your code here"
   ]
  },
  {
   "cell_type": "markdown",
   "id": "guided-seller",
   "metadata": {},
   "source": [
    "**3.2.** Is there evidence to indicate that dosage level affects bioactivity? Use $\\alpha = 0.05$."
   ]
  },
  {
   "cell_type": "code",
   "execution_count": 13,
   "id": "971cdec4",
   "metadata": {},
   "outputs": [],
   "source": [
    "# write your code here"
   ]
  },
  {
   "cell_type": "markdown",
   "id": "recreational-surge",
   "metadata": {},
   "source": [
    "**3.3.** Analyze the residuals from this experiment and comment on model adequacy."
   ]
  },
  {
   "cell_type": "code",
   "execution_count": 14,
   "id": "66f5ef4d",
   "metadata": {},
   "outputs": [],
   "source": [
    "# write your code here"
   ]
  },
  {
   "cell_type": "markdown",
   "id": "incomplete-trial",
   "metadata": {},
   "source": [
    "**3.4.** Suggest two meaningful linear orthogonal single degree of freedom contrasts for follow-up comparisons and carry out the corresponding significance tests. Explain in a few words the tests implied by the contrasts. Use $\\alpha = 0.05$."
   ]
  },
  {
   "cell_type": "code",
   "execution_count": 15,
   "id": "7e3a7390",
   "metadata": {},
   "outputs": [],
   "source": [
    "# write your code here"
   ]
  },
  {
   "cell_type": "markdown",
   "id": "flush-eligibility",
   "metadata": {},
   "source": [
    "---"
   ]
  },
  {
   "cell_type": "markdown",
   "id": "vocational-prime",
   "metadata": {},
   "source": [
    "### Exercise 4\n",
    "\n",
    "A rental car company wants to investigate whether the type of car rented affects the length of the rental period. An experiment is run for one week at a particular location, and 10 rental contracts are selected at random for each car type. The following data were collected:"
   ]
  },
  {
   "cell_type": "code",
   "execution_count": 16,
   "id": "unexpected-extension",
   "metadata": {},
   "outputs": [
    {
     "data": {
      "text/html": [
       "<table class=\"dataframe\">\n",
       "<caption>A matrix: 4 × 10 of type dbl</caption>\n",
       "<tbody>\n",
       "\t<tr><th scope=row>Subcompact</th><td>3</td><td>5</td><td>3</td><td>7</td><td> 6</td><td>5</td><td>3</td><td>2</td><td>1</td><td>6</td></tr>\n",
       "\t<tr><th scope=row>Compact</th><td>1</td><td>3</td><td>4</td><td>7</td><td> 5</td><td>6</td><td>3</td><td>2</td><td>1</td><td>7</td></tr>\n",
       "\t<tr><th scope=row>Midsize</th><td>4</td><td>1</td><td>3</td><td>5</td><td> 7</td><td>1</td><td>2</td><td>4</td><td>2</td><td>7</td></tr>\n",
       "\t<tr><th scope=row>Fullsize</th><td>3</td><td>5</td><td>7</td><td>5</td><td>10</td><td>3</td><td>4</td><td>7</td><td>2</td><td>7</td></tr>\n",
       "</tbody>\n",
       "</table>\n"
      ],
      "text/latex": [
       "A matrix: 4 × 10 of type dbl\n",
       "\\begin{tabular}{r|llllllllll}\n",
       "\tSubcompact & 3 & 5 & 3 & 7 &  6 & 5 & 3 & 2 & 1 & 6\\\\\n",
       "\tCompact & 1 & 3 & 4 & 7 &  5 & 6 & 3 & 2 & 1 & 7\\\\\n",
       "\tMidsize & 4 & 1 & 3 & 5 &  7 & 1 & 2 & 4 & 2 & 7\\\\\n",
       "\tFullsize & 3 & 5 & 7 & 5 & 10 & 3 & 4 & 7 & 2 & 7\\\\\n",
       "\\end{tabular}\n"
      ],
      "text/markdown": [
       "\n",
       "A matrix: 4 × 10 of type dbl\n",
       "\n",
       "| Subcompact | 3 | 5 | 3 | 7 |  6 | 5 | 3 | 2 | 1 | 6 |\n",
       "| Compact | 1 | 3 | 4 | 7 |  5 | 6 | 3 | 2 | 1 | 7 |\n",
       "| Midsize | 4 | 1 | 3 | 5 |  7 | 1 | 2 | 4 | 2 | 7 |\n",
       "| Fullsize | 3 | 5 | 7 | 5 | 10 | 3 | 4 | 7 | 2 | 7 |\n",
       "\n"
      ],
      "text/plain": [
       "           [,1] [,2] [,3] [,4] [,5] [,6] [,7] [,8] [,9] [,10]\n",
       "Subcompact 3    5    3    7     6   5    3    2    1    6    \n",
       "Compact    1    3    4    7     5   6    3    2    1    7    \n",
       "Midsize    4    1    3    5     7   1    2    4    2    7    \n",
       "Fullsize   3    5    7    5    10   3    4    7    2    7    "
      ]
     },
     "metadata": {},
     "output_type": "display_data"
    }
   ],
   "source": [
    "data = data.frame(Subcompact = c(3,5,3,7,6,5,3,2,1,6),\n",
    "                  Compact    = c(1,3,4,7,5,6,3,2,1,7),\n",
    "                  Midsize    = c(4,1,3,5,7,1,2,4,2,7),\n",
    "                  Fullsize   = c(3,5,7,5,10,3,4,7,2,7))\n",
    "t(data)"
   ]
  },
  {
   "cell_type": "markdown",
   "id": "absolute-workshop",
   "metadata": {},
   "source": [
    "**4.1.** Visually compare the mean length of the rental period for the four types of the rented cars. What are your conclusions?"
   ]
  },
  {
   "cell_type": "code",
   "execution_count": 17,
   "id": "4b43d078",
   "metadata": {},
   "outputs": [],
   "source": [
    "# write your code here"
   ]
  },
  {
   "cell_type": "markdown",
   "id": "bigger-biology",
   "metadata": {},
   "source": [
    "**4.2.** Is there evidence to support a claim that the type of car rented affects the length of the rental contract? Use $\\alpha = 0.05$. If so, which types of cars are responsible for the difference? "
   ]
  },
  {
   "cell_type": "code",
   "execution_count": 18,
   "id": "0523fcfe",
   "metadata": {},
   "outputs": [],
   "source": [
    "# write your code here"
   ]
  },
  {
   "cell_type": "markdown",
   "id": "colored-exhibition",
   "metadata": {},
   "source": [
    "**4.3.** Notice that the response variable in this experiment is a [count](https://en.wikipedia.org/wiki/Count_data). Should this cause any potential concerns about the validity of the analysis of variance? You will learn how to analyse count data in the *Linear Modelling* module."
   ]
  },
  {
   "cell_type": "code",
   "execution_count": 19,
   "id": "c3e87650",
   "metadata": {},
   "outputs": [],
   "source": [
    "# write your code here"
   ]
  },
  {
   "cell_type": "markdown",
   "id": "detected-yemen",
   "metadata": {},
   "source": [
    "---"
   ]
  },
  {
   "cell_type": "markdown",
   "id": "original-connection",
   "metadata": {},
   "source": [
    "### Exercise 5\n",
    "\n",
    "In heart transplant surgery, the similarity of the donor's tissue type and that of the recipient is of importance because large differences may increase the probability that the transplanted heart is rejected. Table below shows a portion of the survival times (in days) obtained from an observational study of 39 patients following heart transplant surgery. The data are grouped into three categories, according to the degree of mismatch between the donor tissue and the recipient tissue. Investigators would like to determine if the mean survival time changes\n",
    "with the degree of mismatch."
   ]
  },
  {
   "cell_type": "code",
   "execution_count": 20,
   "id": "secondary-radius",
   "metadata": {},
   "outputs": [
    {
     "data": {
      "text/html": [
       "<table class=\"dataframe\">\n",
       "<caption>A matrix: 3 × 13 of type dbl</caption>\n",
       "<tbody>\n",
       "\t<tr><th scope=row>low</th><td>44</td><td>551</td><td> 127</td><td>  1</td><td>297</td><td> 46</td><td> 60</td><td> 65</td><td>12</td><td>1350</td><td>730</td><td> 47</td><td>994</td></tr>\n",
       "\t<tr><th scope=row>medium</th><td>15</td><td>280</td><td>1024</td><td>253</td><td> 66</td><td> 29</td><td>161</td><td>624</td><td>39</td><td>  51</td><td> 68</td><td>836</td><td> 51</td></tr>\n",
       "\t<tr><th scope=row>high</th><td> 3</td><td>136</td><td>  65</td><td> 25</td><td> 64</td><td>322</td><td> 23</td><td> 54</td><td>63</td><td>  50</td><td> 10</td><td> 48</td><td> 26</td></tr>\n",
       "</tbody>\n",
       "</table>\n"
      ],
      "text/latex": [
       "A matrix: 3 × 13 of type dbl\n",
       "\\begin{tabular}{r|lllllllllllll}\n",
       "\tlow & 44 & 551 &  127 &   1 & 297 &  46 &  60 &  65 & 12 & 1350 & 730 &  47 & 994\\\\\n",
       "\tmedium & 15 & 280 & 1024 & 253 &  66 &  29 & 161 & 624 & 39 &   51 &  68 & 836 &  51\\\\\n",
       "\thigh &  3 & 136 &   65 &  25 &  64 & 322 &  23 &  54 & 63 &   50 &  10 &  48 &  26\\\\\n",
       "\\end{tabular}\n"
      ],
      "text/markdown": [
       "\n",
       "A matrix: 3 × 13 of type dbl\n",
       "\n",
       "| low | 44 | 551 |  127 |   1 | 297 |  46 |  60 |  65 | 12 | 1350 | 730 |  47 | 994 |\n",
       "| medium | 15 | 280 | 1024 | 253 |  66 |  29 | 161 | 624 | 39 |   51 |  68 | 836 |  51 |\n",
       "| high |  3 | 136 |   65 |  25 |  64 | 322 |  23 |  54 | 63 |   50 |  10 |  48 |  26 |\n",
       "\n"
      ],
      "text/plain": [
       "       [,1] [,2] [,3] [,4] [,5] [,6] [,7] [,8] [,9] [,10] [,11] [,12] [,13]\n",
       "low    44   551   127   1  297   46   60   65  12   1350  730    47   994  \n",
       "medium 15   280  1024 253   66   29  161  624  39     51   68   836    51  \n",
       "high    3   136    65  25   64  322   23   54  63     50   10    48    26  "
      ]
     },
     "metadata": {},
     "output_type": "display_data"
    }
   ],
   "source": [
    "data = data.frame(low    = c(44,551,127,1,297,46,60,65,12,1350,730,47,994),\n",
    "                  medium = c(15,280,1024,253,66,29,161,624,39,51,68,836,51),\n",
    "                  high   = c(3,136,65,25,64,322,23,54,63,50,10,48,26))\n",
    "t(data)"
   ]
  },
  {
   "cell_type": "markdown",
   "id": "naughty-matter",
   "metadata": {},
   "source": [
    "**5.1.** Visually compare the mean survival time and variances between three degrees of mismatch. What are your conclusions?"
   ]
  },
  {
   "cell_type": "code",
   "execution_count": 21,
   "id": "15c3a3e2",
   "metadata": {},
   "outputs": [],
   "source": [
    "# write your code here"
   ]
  },
  {
   "cell_type": "markdown",
   "id": "chinese-liability",
   "metadata": {},
   "source": [
    "**5.2.** Is there evidence to support a claim that the mean survival time changes with the degree of mismatch? Use $\\alpha = 0.05$."
   ]
  },
  {
   "cell_type": "code",
   "execution_count": 22,
   "id": "cd2130e0",
   "metadata": {},
   "outputs": [],
   "source": [
    "# write your code here"
   ]
  },
  {
   "cell_type": "markdown",
   "id": "respective-douglas",
   "metadata": {},
   "source": [
    "**5.3.** Analyze the residuals and comment on model adequacy. Notice that the data is a [count data](https://en.wikipedia.org/wiki/Count_data). You should clearly see a deviation from the normality assumptions."
   ]
  },
  {
   "cell_type": "code",
   "execution_count": 23,
   "id": "4d889491",
   "metadata": {},
   "outputs": [],
   "source": [
    "# write your code here"
   ]
  },
  {
   "cell_type": "markdown",
   "id": "hindu-enough",
   "metadata": {},
   "source": [
    "**5.4.** Log-transform the response variable and repeat steps 5.2 and 5.3."
   ]
  },
  {
   "cell_type": "code",
   "execution_count": 24,
   "id": "028e10f5",
   "metadata": {},
   "outputs": [],
   "source": [
    "# write your code here"
   ]
  },
  {
   "cell_type": "markdown",
   "id": "muslim-clinton",
   "metadata": {},
   "source": [
    "---"
   ]
  },
  {
   "cell_type": "markdown",
   "id": "sunset-garlic",
   "metadata": {},
   "source": [
    "### Exercise 6\n",
    "\n",
    "Four catalysts that may affect the concentration of one component in a three-component liquid mixture are being investigated. The following concentrations are obtained from a completely randomized experiment:"
   ]
  },
  {
   "cell_type": "code",
   "execution_count": 25,
   "id": "blank-archives",
   "metadata": {},
   "outputs": [
    {
     "data": {
      "text/html": [
       "<table class=\"dataframe\">\n",
       "<caption>A matrix: 4 × 5 of type dbl</caption>\n",
       "<tbody>\n",
       "\t<tr><th scope=row>C1</th><td>58.2</td><td>57.2</td><td>58.4</td><td>55.8</td><td>54.9</td></tr>\n",
       "\t<tr><th scope=row>C2</th><td>56.3</td><td>54.5</td><td>57.0</td><td>55.3</td><td>  NA</td></tr>\n",
       "\t<tr><th scope=row>C3</th><td>50.1</td><td>54.2</td><td>55.4</td><td>  NA</td><td>  NA</td></tr>\n",
       "\t<tr><th scope=row>C4</th><td>52.9</td><td>49.9</td><td>50.0</td><td>51.7</td><td>  NA</td></tr>\n",
       "</tbody>\n",
       "</table>\n"
      ],
      "text/latex": [
       "A matrix: 4 × 5 of type dbl\n",
       "\\begin{tabular}{r|lllll}\n",
       "\tC1 & 58.2 & 57.2 & 58.4 & 55.8 & 54.9\\\\\n",
       "\tC2 & 56.3 & 54.5 & 57.0 & 55.3 &   NA\\\\\n",
       "\tC3 & 50.1 & 54.2 & 55.4 &   NA &   NA\\\\\n",
       "\tC4 & 52.9 & 49.9 & 50.0 & 51.7 &   NA\\\\\n",
       "\\end{tabular}\n"
      ],
      "text/markdown": [
       "\n",
       "A matrix: 4 × 5 of type dbl\n",
       "\n",
       "| C1 | 58.2 | 57.2 | 58.4 | 55.8 | 54.9 |\n",
       "| C2 | 56.3 | 54.5 | 57.0 | 55.3 |   NA |\n",
       "| C3 | 50.1 | 54.2 | 55.4 |   NA |   NA |\n",
       "| C4 | 52.9 | 49.9 | 50.0 | 51.7 |   NA |\n",
       "\n"
      ],
      "text/plain": [
       "   [,1] [,2] [,3] [,4] [,5]\n",
       "C1 58.2 57.2 58.4 55.8 54.9\n",
       "C2 56.3 54.5 57.0 55.3   NA\n",
       "C3 50.1 54.2 55.4   NA   NA\n",
       "C4 52.9 49.9 50.0 51.7   NA"
      ]
     },
     "metadata": {},
     "output_type": "display_data"
    }
   ],
   "source": [
    "data = data.frame(C1 = c(58.2,57.2,58.4,55.8,54.9),\n",
    "                  C2 = c(56.3,54.5,57.0,55.3,NA),\n",
    "                  C3 = c(50.1,54.2,55.4,NA,NA),\n",
    "                  C4 = c(52.9,49.9,50.0,51.7,NA))\n",
    "t(data)"
   ]
  },
  {
   "cell_type": "markdown",
   "id": "requested-mustang",
   "metadata": {},
   "source": [
    "**6.1.** Visually compare the mean affect of each catalyst. What are your conclusions?"
   ]
  },
  {
   "cell_type": "code",
   "execution_count": 26,
   "id": "f5f7dc5e",
   "metadata": {},
   "outputs": [],
   "source": [
    "# write your code here"
   ]
  },
  {
   "cell_type": "markdown",
   "id": "varied-writing",
   "metadata": {},
   "source": [
    "**6.2.** Is there evidence to support a claim that the four catalysts have the same effect on the concentration? Use $\\alpha = 0.05$. \n",
    "\n",
    "**N.B.** Notice that the design of the experiment is not balanced: $n_1 = 5$, $n_2 = 4$, $n_3 = 3$, and $n_4 = 4$. Work out this step by hand first. Then verify your computations using ``R``."
   ]
  },
  {
   "cell_type": "code",
   "execution_count": 27,
   "id": "573d5736",
   "metadata": {},
   "outputs": [],
   "source": [
    "# write your code here"
   ]
  },
  {
   "cell_type": "markdown",
   "id": "occupational-subcommittee",
   "metadata": {},
   "source": [
    "**6.3.** Analyze the residuals from this experiment and comment on model adequacy."
   ]
  },
  {
   "cell_type": "code",
   "execution_count": 28,
   "id": "a08eefa6",
   "metadata": {},
   "outputs": [],
   "source": [
    "# write your code here"
   ]
  },
  {
   "cell_type": "markdown",
   "id": "black-translation",
   "metadata": {},
   "source": [
    "---"
   ]
  },
  {
   "cell_type": "markdown",
   "id": "boolean-consent",
   "metadata": {},
   "source": [
    "### Exercise 7\n",
    "\n",
    "Show that\n",
    "\n",
    "$$\n",
    "SS_T = \\sum_{i=1}^{a} \\sum_{j=1}^{n_i} (y_{ij} - \\bar y_{\\bullet\\bullet})^2 \\qquad \n",
    "SS_B = \\sum_{i=1}^{a} n_i (\\bar y_{i\\bullet} - \\bar y_{\\bullet\\bullet})^2 \\qquad \n",
    "SS_E=\\sum_{i=1}^a \\sum_{j=1}^{n_i} \\left(y_{ij}-\\bar y_{i \\bullet}\\right)^2  \n",
    "$$\n",
    "\n",
    "can be equivalently written as \n",
    "\n",
    "$$\n",
    "SS_T = \\sum_{i=1}^a \\sum_{j=1}^{n_i} y_{ij}^2 - N \\bar y_{\\bullet\\bullet}^2 \\qquad \n",
    "SS_B = \\sum_{i=1}^a n_i\\bar y_{i\\bullet}^2 - N \\bar y_{\\bullet\\bullet}^2 \\qquad\n",
    "SS_E = \\sum_{i=1}^a \\sum_{j=1}^{n_i} y_{ij}^2 - \\sum_{i=1}^a n_i\\bar y_{i\\bullet}^2\n",
    "$$\n",
    "\n",
    "This exercise should be done by hand."
   ]
  },
  {
   "cell_type": "markdown",
   "id": "lonely-mention",
   "metadata": {},
   "source": [
    "---"
   ]
  },
  {
   "cell_type": "markdown",
   "id": "middle-parent",
   "metadata": {},
   "source": [
    "### Exercise 8\n",
    "\n",
    "In a comparison of the cleaning action of four detergents, 20 pieces of white cloth were first soiled with India ink. The cloths were then washed under controlled conditions with 5 pieces washed by each of the detergents. Unfortunately three pieces of cloth were \"lost\" in the course of the experiment. Whiteness readings, made on the 17 remaining pieces of cloth, are shown in the table below:\n",
    "\n",
    "| Detergent A | Detergent B | Detergent C | Detergent D |\n",
    "|----|----|----|----|\n",
    "| 77 | 74 | 73 | 76 |\n",
    "| 81 | 66 | 78 | 85 |\n",
    "| 61 | 58 | 57 | 77 |\n",
    "| 76 |    | 69 | 64 |\n",
    "| 69 |    | 63 |    |\n",
    "\n",
    "Assuming all whiteness readings to be normally distributed with common variance, test the hypothesis (assuming  $\\alpha=0.05$) of no difference between the four brands as regards mean whiteness readings after washing.\n",
    "\n",
    "This exercise should be done by hand. Then verify your computations with R."
   ]
  },
  {
   "cell_type": "markdown",
   "id": "destroyed-foster",
   "metadata": {},
   "source": [
    "---"
   ]
  },
  {
   "cell_type": "markdown",
   "id": "sorted-mentor",
   "metadata": {},
   "source": [
    "### Exercise 9\n",
    "\n",
    "An experiment was set-up to compare melon varieties. Each variety was grown 6 times under identical conditions with identical feeding patterns. The yields in kg are displayed in the table below:\n",
    "\n",
    "\n",
    "\n",
    "|              | Variety A | Variety B | Variety C | Variety D |\n",
    "|--------------|-------|-------|-------|-------|\n",
    "|              | 25.1  | 40.2  | 18.3  | 28.0  |\n",
    "|              | 17.2  | 35.3  | 22.6  | 28.6  |\n",
    "|              | 26.4  | 32.0  | 25.9  | 33.2  |\n",
    "|              | 16.1  | 36.5  | 15.1  | 31.7  |\n",
    "|              | 22.2  | 43.3  | 11.4  | 30.3  | \n",
    "|              | 15.9  | 37.1  | 23.7  | 27.6  | \n",
    "| **Mean**     | 20.48 | 37.40 | 19.50 | 29.90 | \n",
    "| **Variance** | 22.05 | 15.42 | 30.92 |  4.98 |\n",
    "\n",
    "\n",
    "The Grand Mean is 26.82 and the Grand Variance is 72.08.\n",
    "\n",
    "- Find 95% confidence intervals for each sample mean and for the grand mean. \n",
    "\n",
    "- Given that the total sum of squares is $SS_T = 1657.9$ and the between group sum of squares is $SS_B = 1291.0$, carry out a one-way ANOVA to test the hypothesis, with a 95% confidence level, that all the treatments have the same effect.  \n",
    "\n",
    "- Suggest two meaningful linear orthogonal single degree of freedom contrasts for follow-up comparisons and carry out the corresponding significance tests with a 95% confidence level. Explain in a few words the tests implied by the contrasts. \n",
    "\n",
    "This exercise should be done by hand. Then verify your computations with R."
   ]
  },
  {
   "cell_type": "markdown",
   "id": "particular-status",
   "metadata": {},
   "source": [
    "---"
   ]
  }
 ],
 "metadata": {
  "kernelspec": {
   "display_name": "R",
   "language": "R",
   "name": "ir"
  },
  "language_info": {
   "codemirror_mode": "r",
   "file_extension": ".r",
   "mimetype": "text/x-r-source",
   "name": "R",
   "pygments_lexer": "r",
   "version": "4.3.1"
  }
 },
 "nbformat": 4,
 "nbformat_minor": 5
}
