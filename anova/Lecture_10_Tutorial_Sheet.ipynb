{
 "cells": [
  {
   "cell_type": "markdown",
   "id": "gorgeous-beauty",
   "metadata": {},
   "source": [
    "## Lecture 10 Tutorial Sheet\n",
    "\n",
    "**Two-Way ANOVA: analysis of completely randomised blocked design experiments**"
   ]
  },
  {
   "cell_type": "markdown",
   "id": "bd0096ea-f79d-4465-9eea-9079360592df",
   "metadata": {},
   "source": [
    "Quick recap:\n",
    "$$\n",
    "\\begin{align}\n",
    "\\text{One-way model:}&\\quad & y_{ij} &= \\mu + \\alpha_i + \\epsilon_{ij} \\\\\n",
    "\\text{Additive Two-way model:}&\\quad & y_{ijk} &= \\mu + \\alpha_i + \\beta_j + \\epsilon_{ijk} \\\\\n",
    "\\text{Interacting Two-way model:}&\\quad & y_{ijk} &= \\mu + \\alpha_i + \\beta_j + \\gamma_{ij} + \\epsilon_{ijk}\n",
    "\\end{align}\n",
    "$$"
   ]
  },
  {
   "cell_type": "markdown",
   "id": "neural-modern",
   "metadata": {},
   "source": [
    "---"
   ]
  },
  {
   "cell_type": "markdown",
   "id": "involved-edition",
   "metadata": {},
   "source": [
    "### Exercise 1"
   ]
  },
  {
   "cell_type": "markdown",
   "id": "e44bdfe0-ab1c-40bf-a2b3-e19b5601abf9",
   "metadata": {},
   "source": [
    "Aircraft primer paints are applied to aluminum surfaces by two methods: dipping and spraying. The purpose of using the primer is to improve paint adhesion, and some parts can be primed using either application method. The process engineering group responsible for this operation is interested in learning whether three different primers differ in their adhesion properties. A factorial experiment was performed to investigate the effect of paint primer type and application method on paint adhesion. For each combination of primer type and application method, three specimens were painted, then a finish paint was applied and the adhesion force was measured. The data from the experiment are given below:"
   ]
  },
  {
   "cell_type": "code",
   "execution_count": 1,
   "id": "vocational-habitat",
   "metadata": {},
   "outputs": [
    {
     "data": {
      "text/html": [
       "<table class=\"dataframe\">\n",
       "<caption>A matrix: 4 × 6 of type chr</caption>\n",
       "<tbody>\n",
       "\t<tr><th scope=row>method</th><td>Dipping</td><td>Dipping</td><td>Dipping</td><td>Spraying</td><td>Spraying</td><td>Spraying</td></tr>\n",
       "\t<tr><th scope=row>P1</th><td>4.0    </td><td>4.5    </td><td>4.3    </td><td>5.4     </td><td>4.9     </td><td>5.6     </td></tr>\n",
       "\t<tr><th scope=row>P2</th><td>5.6    </td><td>4.9    </td><td>5.4    </td><td>5.8     </td><td>6.1     </td><td>6.3     </td></tr>\n",
       "\t<tr><th scope=row>P3</th><td>3.8    </td><td>3.7    </td><td>4.0    </td><td>5.5     </td><td>5.0     </td><td>5.0     </td></tr>\n",
       "</tbody>\n",
       "</table>\n"
      ],
      "text/latex": [
       "A matrix: 4 × 6 of type chr\n",
       "\\begin{tabular}{r|llllll}\n",
       "\tmethod & Dipping & Dipping & Dipping & Spraying & Spraying & Spraying\\\\\n",
       "\tP1 & 4.0     & 4.5     & 4.3     & 5.4      & 4.9      & 5.6     \\\\\n",
       "\tP2 & 5.6     & 4.9     & 5.4     & 5.8      & 6.1      & 6.3     \\\\\n",
       "\tP3 & 3.8     & 3.7     & 4.0     & 5.5      & 5.0      & 5.0     \\\\\n",
       "\\end{tabular}\n"
      ],
      "text/markdown": [
       "\n",
       "A matrix: 4 × 6 of type chr\n",
       "\n",
       "| method | Dipping | Dipping | Dipping | Spraying | Spraying | Spraying |\n",
       "| P1 | 4.0     | 4.5     | 4.3     | 5.4      | 4.9      | 5.6      |\n",
       "| P2 | 5.6     | 4.9     | 5.4     | 5.8      | 6.1      | 6.3      |\n",
       "| P3 | 3.8     | 3.7     | 4.0     | 5.5      | 5.0      | 5.0      |\n",
       "\n"
      ],
      "text/plain": [
       "       [,1]    [,2]    [,3]    [,4]     [,5]     [,6]    \n",
       "method Dipping Dipping Dipping Spraying Spraying Spraying\n",
       "P1     4.0     4.5     4.3     5.4      4.9      5.6     \n",
       "P2     5.6     4.9     5.4     5.8      6.1      6.3     \n",
       "P3     3.8     3.7     4.0     5.5      5.0      5.0     "
      ]
     },
     "metadata": {},
     "output_type": "display_data"
    }
   ],
   "source": [
    "data = data.frame(method=c(rep(\"Dipping\",3),rep(\"Spraying\",3)), \n",
    "                  P1 = c(4.0, 4.5, 4.3, 5.4, 4.9, 5.6),\n",
    "                  P2 = c(5.6, 4.9, 5.4, 5.8, 6.1, 6.3),\n",
    "                  P3 = c(3.8, 3.7, 4.0, 5.5, 5.0, 5.0)\n",
    "                 )\n",
    "t(data)"
   ]
  },
  {
   "cell_type": "markdown",
   "id": "interstate-hacker",
   "metadata": {},
   "source": [
    "**1.1.** Visually compare the mean adhesion properties for the three primers and the two application methods. What are your conclusions?"
   ]
  },
  {
   "cell_type": "code",
   "execution_count": 2,
   "id": "26428f48",
   "metadata": {},
   "outputs": [],
   "source": [
    "# write your code here\n",
    "\n"
   ]
  },
  {
   "cell_type": "markdown",
   "id": "upset-sentence",
   "metadata": {},
   "source": [
    "**1.2.** Carry out a two-way ANOVA to test the hypothesis, with a 95% confidence level, that all primers (A factor) and all methods (B factor) have the same effect on the adhesion."
   ]
  },
  {
   "cell_type": "code",
   "execution_count": 3,
   "id": "3192da4c",
   "metadata": {},
   "outputs": [],
   "source": [
    "# write your code here\n",
    "\n"
   ]
  },
  {
   "cell_type": "markdown",
   "id": "registered-blond",
   "metadata": {},
   "source": [
    "**1.3.** Carry out a two-way ANOVA with an interaction to test the hypothesis, with a 95% confidence level, that all primers (A factor) and all methods (B factor) have the same effect on the adhesion. Also test the presence of interactions."
   ]
  },
  {
   "cell_type": "code",
   "execution_count": 4,
   "id": "763938ce",
   "metadata": {},
   "outputs": [],
   "source": [
    "# write your code here\n",
    "\n"
   ]
  },
  {
   "cell_type": "markdown",
   "id": "seven-attribute",
   "metadata": {},
   "source": [
    "**1.4.** Conduct residual analysis of both models. Comment on the plots."
   ]
  },
  {
   "cell_type": "code",
   "execution_count": 5,
   "id": "imposed-testimony",
   "metadata": {},
   "outputs": [],
   "source": [
    "# write your code here\n",
    "\n"
   ]
  },
  {
   "cell_type": "markdown",
   "id": "recovered-independence",
   "metadata": {},
   "source": [
    "**1.5.** Suggest meaningful orthogonal single-degree-of-freedom contrasts for a follow-up comparison and carry out the corresponding significance test. Explain in a few words the tests implied by the contrasts."
   ]
  },
  {
   "cell_type": "code",
   "execution_count": 6,
   "id": "77f4d2a9",
   "metadata": {},
   "outputs": [],
   "source": [
    "# write your code here\n",
    "\n"
   ]
  },
  {
   "cell_type": "markdown",
   "id": "front-execution",
   "metadata": {},
   "source": [
    "---"
   ]
  },
  {
   "cell_type": "markdown",
   "id": "controlling-indiana",
   "metadata": {},
   "source": [
    "### Exercise 2"
   ]
  },
  {
   "cell_type": "markdown",
   "id": "07a5da08-9c4f-43e6-8355-7b72e883cd5f",
   "metadata": {},
   "source": [
    "Suppose you want to determine whether the brand of laundry detergent used and the temperature affects the amount of dirt removed from your laundry. To this end, you buy three different brand of detergent, ``Super``, ``Best``, and ``Exclusive``, and choose three different temperature levels, ``Cold``, ``Warm``, and ``Hot``. Then you divide your laundry randomly into 9 piles of equal size and assign each pile into the combination of detergent brand and temperature. You then further divide each pile into 4 loads of equal size and begin washing. Once the washing is complete you rank the quality of each wash in the scale from 0 (dirty) to 15 (flawless) and record the data:"
   ]
  },
  {
   "cell_type": "code",
   "execution_count": 7,
   "id": "given-index",
   "metadata": {},
   "outputs": [
    {
     "data": {
      "text/html": [
       "<table class=\"dataframe\">\n",
       "<caption>A matrix: 4 × 12 of type chr</caption>\n",
       "<tbody>\n",
       "\t<tr><th scope=row>Water</th><td>Cold</td><td>Cold</td><td>Cold</td><td>Cold</td><td>Warm</td><td>Warm</td><td>Warm</td><td>Warm</td><td>Hot</td><td>Hot</td><td>Hot</td><td>Hot</td></tr>\n",
       "\t<tr><th scope=row>Super</th><td> 4  </td><td> 5  </td><td> 6  </td><td> 5  </td><td> 7  </td><td> 9  </td><td> 8  </td><td>12  </td><td>10 </td><td>12 </td><td>11 </td><td> 9 </td></tr>\n",
       "\t<tr><th scope=row>Best</th><td> 6  </td><td> 6  </td><td> 4  </td><td> 4  </td><td>13  </td><td>15  </td><td>12  </td><td>12  </td><td>12 </td><td>13 </td><td>10 </td><td>13 </td></tr>\n",
       "\t<tr><th scope=row>Exclusive</th><td> 7  </td><td> 9  </td><td> 8  </td><td> 7  </td><td>11  </td><td>13  </td><td>13  </td><td>12  </td><td>10 </td><td>13 </td><td>12 </td><td>11 </td></tr>\n",
       "</tbody>\n",
       "</table>\n"
      ],
      "text/latex": [
       "A matrix: 4 × 12 of type chr\n",
       "\\begin{tabular}{r|llllllllllll}\n",
       "\tWater & Cold & Cold & Cold & Cold & Warm & Warm & Warm & Warm & Hot & Hot & Hot & Hot\\\\\n",
       "\tSuper &  4   &  5   &  6   &  5   &  7   &  9   &  8   & 12   & 10  & 12  & 11  &  9 \\\\\n",
       "\tBest &  6   &  6   &  4   &  4   & 13   & 15   & 12   & 12   & 12  & 13  & 10  & 13 \\\\\n",
       "\tExclusive &  7   &  9   &  8   &  7   & 11   & 13   & 13   & 12   & 10  & 13  & 12  & 11 \\\\\n",
       "\\end{tabular}\n"
      ],
      "text/markdown": [
       "\n",
       "A matrix: 4 × 12 of type chr\n",
       "\n",
       "| Water | Cold | Cold | Cold | Cold | Warm | Warm | Warm | Warm | Hot | Hot | Hot | Hot |\n",
       "| Super |  4   |  5   |  6   |  5   |  7   |  9   |  8   | 12   | 10  | 12  | 11  |  9  |\n",
       "| Best |  6   |  6   |  4   |  4   | 13   | 15   | 12   | 12   | 12  | 13  | 10  | 13  |\n",
       "| Exclusive |  7   |  9   |  8   |  7   | 11   | 13   | 13   | 12   | 10  | 13  | 12  | 11  |\n",
       "\n"
      ],
      "text/plain": [
       "          [,1] [,2] [,3] [,4] [,5] [,6] [,7] [,8] [,9] [,10] [,11] [,12]\n",
       "Water     Cold Cold Cold Cold Warm Warm Warm Warm Hot  Hot   Hot   Hot  \n",
       "Super      4    5    6    5    7    9    8   12   10   12    11     9   \n",
       "Best       6    6    4    4   13   15   12   12   12   13    10    13   \n",
       "Exclusive  7    9    8    7   11   13   13   12   10   13    12    11   "
      ]
     },
     "metadata": {},
     "output_type": "display_data"
    }
   ],
   "source": [
    "data = data.frame(Water =c(rep(\"Cold\",4), rep(\"Warm\",4), rep(\"Hot\",4)), \n",
    "                  Super     = c(4, 5, 6, 5, 7,  9,  8,  12, 10, 12, 11, 9),\n",
    "                  Best      = c(6, 6, 4, 4, 13, 15, 12, 12, 12, 13, 10, 13),\n",
    "                  Exclusive = c(7, 9, 8, 7, 11, 13, 13, 12, 10, 13, 12, 11)\n",
    "                 )\n",
    "t(data)"
   ]
  },
  {
   "cell_type": "markdown",
   "id": "defined-presence",
   "metadata": {},
   "source": [
    "**2.1.** Visually compare the mean washing quality for the three laundry detergents and the three water temperaturs. What are your conclusions?"
   ]
  },
  {
   "cell_type": "code",
   "execution_count": 8,
   "id": "0e8f7af8",
   "metadata": {},
   "outputs": [],
   "source": [
    "# write your code here\n",
    "\n"
   ]
  },
  {
   "cell_type": "markdown",
   "id": "editorial-change",
   "metadata": {},
   "source": [
    "**2.2.** Carry out a two-way ANOVA to test the hypothesis, with a 95% confidence level, that all detergents (A factor) and all temperatures (B factor) have the same effect on the washing quality."
   ]
  },
  {
   "cell_type": "code",
   "execution_count": 9,
   "id": "9a0d650b",
   "metadata": {},
   "outputs": [],
   "source": [
    "# write your code here\n",
    "\n"
   ]
  },
  {
   "cell_type": "markdown",
   "id": "funky-integral",
   "metadata": {},
   "source": [
    "**2.3.** Carry out a two-way ANOVA with an interaction to test the hypothesis, with a 95% confidence level, that all detergents (A factor) and all temperatures (B factor) have the same effect on the washing quality. Also test the presence of interactions."
   ]
  },
  {
   "cell_type": "code",
   "execution_count": 10,
   "id": "d62954f6",
   "metadata": {},
   "outputs": [],
   "source": [
    "# write your code here\n",
    "\n"
   ]
  },
  {
   "cell_type": "markdown",
   "id": "vanilla-wallpaper",
   "metadata": {},
   "source": [
    "**2.4.** Conduct residual analysis of both models. Comment on the plots."
   ]
  },
  {
   "cell_type": "code",
   "execution_count": 11,
   "id": "thrown-secretary",
   "metadata": {},
   "outputs": [],
   "source": [
    "# write your code here\n",
    "\n"
   ]
  },
  {
   "cell_type": "markdown",
   "id": "phantom-blend",
   "metadata": {},
   "source": [
    "**2.5.** Suggest meaningful orthogonal single-degree-of-freedom contrasts for a follow-up comparison and carry out the corresponding significance test. Explain in a few words the tests implied by the contrasts."
   ]
  },
  {
   "cell_type": "code",
   "execution_count": 12,
   "id": "82314084",
   "metadata": {},
   "outputs": [],
   "source": [
    "# write your code here\n",
    "\n"
   ]
  },
  {
   "cell_type": "markdown",
   "id": "black-translation",
   "metadata": {},
   "source": [
    "---"
   ]
  },
  {
   "cell_type": "markdown",
   "id": "mental-pocket",
   "metadata": {},
   "source": [
    "### Exercise 3 (Robust product design)"
   ]
  },
  {
   "cell_type": "markdown",
   "id": "5d729dad-d686-44c8-a121-3c8834b62fe2",
   "metadata": {},
   "source": [
    "An engineer is designing a battery for use in a device that will be subjected to some extreme variations in temperature. The only design parameter that she can select at this point is the plate material for the battery, and she has three possible choices. When the device is manufactured and is shipped to the field, the engineer has no control over the temperature extremes that the device will encounter, and she knows from experience that temperature will probably affect the effective battery life. However, temperature can be controlled in the product development laboratory for the purposes of a test. The engineer decides to test all three plate materials at three temperature levels, 15F, 70F, and 125F, because these temperature levels are consistent with the product end-use environment. Four batteries are tested at each combination of plate material and temperature, and all 36 tests are run in random order. The experiment and the resulting observed battery life data are given below:"
   ]
  },
  {
   "cell_type": "code",
   "execution_count": 13,
   "id": "involved-forestry",
   "metadata": {},
   "outputs": [
    {
     "data": {
      "text/html": [
       "<table class=\"dataframe\">\n",
       "<caption>A matrix: 4 × 12 of type chr</caption>\n",
       "<tbody>\n",
       "\t<tr><th scope=row>Temp</th><td>15F</td><td>15F</td><td>15F</td><td>15F</td><td>70F</td><td>70F</td><td>70F</td><td>70F</td><td>125F</td><td>125F</td><td>125F</td><td>125F</td></tr>\n",
       "\t<tr><th scope=row>M1</th><td>130</td><td> 74</td><td>155</td><td>180</td><td> 34</td><td> 80</td><td> 40</td><td> 75</td><td> 20 </td><td> 82 </td><td> 70 </td><td> 58 </td></tr>\n",
       "\t<tr><th scope=row>M2</th><td>150</td><td>159</td><td>188</td><td>126</td><td>136</td><td>106</td><td>122</td><td>115</td><td> 25 </td><td> 58 </td><td> 70 </td><td> 45 </td></tr>\n",
       "\t<tr><th scope=row>M3</th><td>138</td><td>168</td><td>110</td><td>160</td><td>174</td><td>150</td><td>120</td><td>139</td><td> 96 </td><td> 82 </td><td>104 </td><td> 60 </td></tr>\n",
       "</tbody>\n",
       "</table>\n"
      ],
      "text/latex": [
       "A matrix: 4 × 12 of type chr\n",
       "\\begin{tabular}{r|llllllllllll}\n",
       "\tTemp & 15F & 15F & 15F & 15F & 70F & 70F & 70F & 70F & 125F & 125F & 125F & 125F\\\\\n",
       "\tM1 & 130 &  74 & 155 & 180 &  34 &  80 &  40 &  75 &  20  &  82  &  70  &  58 \\\\\n",
       "\tM2 & 150 & 159 & 188 & 126 & 136 & 106 & 122 & 115 &  25  &  58  &  70  &  45 \\\\\n",
       "\tM3 & 138 & 168 & 110 & 160 & 174 & 150 & 120 & 139 &  96  &  82  & 104  &  60 \\\\\n",
       "\\end{tabular}\n"
      ],
      "text/markdown": [
       "\n",
       "A matrix: 4 × 12 of type chr\n",
       "\n",
       "| Temp | 15F | 15F | 15F | 15F | 70F | 70F | 70F | 70F | 125F | 125F | 125F | 125F |\n",
       "| M1 | 130 |  74 | 155 | 180 |  34 |  80 |  40 |  75 |  20  |  82  |  70  |  58  |\n",
       "| M2 | 150 | 159 | 188 | 126 | 136 | 106 | 122 | 115 |  25  |  58  |  70  |  45  |\n",
       "| M3 | 138 | 168 | 110 | 160 | 174 | 150 | 120 | 139 |  96  |  82  | 104  |  60  |\n",
       "\n"
      ],
      "text/plain": [
       "     [,1] [,2] [,3] [,4] [,5] [,6] [,7] [,8] [,9] [,10] [,11] [,12]\n",
       "Temp 15F  15F  15F  15F  70F  70F  70F  70F  125F 125F  125F  125F \n",
       "M1   130   74  155  180   34   80   40   75   20   82    70    58  \n",
       "M2   150  159  188  126  136  106  122  115   25   58    70    45  \n",
       "M3   138  168  110  160  174  150  120  139   96   82   104    60  "
      ]
     },
     "metadata": {},
     "output_type": "display_data"
    }
   ],
   "source": [
    "data = data.frame(Temp = c(rep(\"15F\",4), rep(\"70F\",4), rep(\"125F\",4)), \n",
    "                  M1 = c(130, 74, 155, 180, 34, 80, 40, 75, 20, 82, 70, 58),\n",
    "                  M2 = c(150, 159, 188, 126, 136, 106, 122, 115, 25, 58, 70, 45),\n",
    "                  M3 = c(138, 168, 110, 160, 174, 150, 120, 139, 96, 82, 104, 60)\n",
    "                 )\n",
    "t(data)"
   ]
  },
  {
   "cell_type": "markdown",
   "id": "christian-colors",
   "metadata": {},
   "source": [
    "In this problem, the engineer wants to answer the following questions:\n",
    "\n",
    "- What effects do material type and temperature have on the life of the battery?\n",
    "\n",
    "- Is there a choice of material that would give uniformly long life regardless of temperature?\n",
    "\n",
    "Use ANOVA methods to help the engineer. Use α = 0.05."
   ]
  },
  {
   "cell_type": "code",
   "execution_count": 14,
   "id": "894435cc",
   "metadata": {},
   "outputs": [],
   "source": [
    "# write your code here\n",
    "\n"
   ]
  },
  {
   "cell_type": "markdown",
   "id": "boxed-elephant",
   "metadata": {},
   "source": [
    "---"
   ]
  },
  {
   "cell_type": "markdown",
   "id": "governmental-gossip",
   "metadata": {},
   "source": [
    "### Exercise 4"
   ]
  },
  {
   "cell_type": "markdown",
   "id": "1175cb1e-e5cd-4e44-88c0-3f72e87a9fdd",
   "metadata": {},
   "source": [
    "A mechanical engineer is studying the thrust force developed by a drill press. He suspects that the drilling speed\n",
    "and the feed rate of the material are the most important factors. He selects four feed rates and uses a high and low drill speed chosen to represent the extreme operating conditions. He obtains the following results:"
   ]
  },
  {
   "cell_type": "code",
   "execution_count": 15,
   "id": "hindu-religion",
   "metadata": {},
   "outputs": [
    {
     "data": {
      "text/html": [
       "<table class=\"dataframe\">\n",
       "<caption>A matrix: 3 × 8 of type dbl</caption>\n",
       "<tbody>\n",
       "\t<tr><th scope=row>FeedRate</th><td>0.015</td><td>0.015</td><td>0.03</td><td>0.03</td><td>0.045</td><td>0.045</td><td>0.06</td><td>0.06</td></tr>\n",
       "\t<tr><th scope=row>S125</th><td>2.700</td><td>2.780</td><td>2.45</td><td>2.49</td><td>2.600</td><td>2.720</td><td>2.75</td><td>2.86</td></tr>\n",
       "\t<tr><th scope=row>S200</th><td>2.830</td><td>2.860</td><td>2.85</td><td>2.80</td><td>2.860</td><td>2.870</td><td>2.94</td><td>2.88</td></tr>\n",
       "</tbody>\n",
       "</table>\n"
      ],
      "text/latex": [
       "A matrix: 3 × 8 of type dbl\n",
       "\\begin{tabular}{r|llllllll}\n",
       "\tFeedRate & 0.015 & 0.015 & 0.03 & 0.03 & 0.045 & 0.045 & 0.06 & 0.06\\\\\n",
       "\tS125 & 2.700 & 2.780 & 2.45 & 2.49 & 2.600 & 2.720 & 2.75 & 2.86\\\\\n",
       "\tS200 & 2.830 & 2.860 & 2.85 & 2.80 & 2.860 & 2.870 & 2.94 & 2.88\\\\\n",
       "\\end{tabular}\n"
      ],
      "text/markdown": [
       "\n",
       "A matrix: 3 × 8 of type dbl\n",
       "\n",
       "| FeedRate | 0.015 | 0.015 | 0.03 | 0.03 | 0.045 | 0.045 | 0.06 | 0.06 |\n",
       "| S125 | 2.700 | 2.780 | 2.45 | 2.49 | 2.600 | 2.720 | 2.75 | 2.86 |\n",
       "| S200 | 2.830 | 2.860 | 2.85 | 2.80 | 2.860 | 2.870 | 2.94 | 2.88 |\n",
       "\n"
      ],
      "text/plain": [
       "         [,1]  [,2]  [,3] [,4] [,5]  [,6]  [,7] [,8]\n",
       "FeedRate 0.015 0.015 0.03 0.03 0.045 0.045 0.06 0.06\n",
       "S125     2.700 2.780 2.45 2.49 2.600 2.720 2.75 2.86\n",
       "S200     2.830 2.860 2.85 2.80 2.860 2.870 2.94 2.88"
      ]
     },
     "metadata": {},
     "output_type": "display_data"
    }
   ],
   "source": [
    "data = data.frame(FeedRate = c(rep(0.015,2), rep(0.030,2), rep(0.045,2), rep(0.060,2)), \n",
    "                  S125 = c(2.70, 2.78, 2.45, 2.49, 2.60, 2.72, 2.75, 2.86),\n",
    "                  S200 = c(2.83, 2.86, 2.85, 2.80, 2.86, 2.87, 2.94, 2.88)\n",
    "                 )\n",
    "t(data)"
   ]
  },
  {
   "cell_type": "markdown",
   "id": "chemical-albert",
   "metadata": {},
   "source": [
    "Analyse the data and draw conclusions. Use α = 0.05."
   ]
  },
  {
   "cell_type": "code",
   "execution_count": 16,
   "id": "78b2c1aa",
   "metadata": {},
   "outputs": [],
   "source": [
    "# write your code here\n",
    "\n"
   ]
  },
  {
   "cell_type": "markdown",
   "id": "isolated-patrol",
   "metadata": {},
   "source": [
    "---"
   ]
  },
  {
   "cell_type": "markdown",
   "id": "liable-whale",
   "metadata": {},
   "source": [
    "### Exercise 5"
   ]
  },
  {
   "cell_type": "markdown",
   "id": "fd7fee72-420c-4a37-8f04-52d104909374",
   "metadata": {},
   "source": [
    "An engineer is interested in the effects of cyclic loading (Factor A) and environmental conditions (Factor B) on fatigue crack growth at a constant 22 MPa stress for a particular material. The data from this experiment are shown below (the response is crack growth rate):"
   ]
  },
  {
   "cell_type": "code",
   "execution_count": 17,
   "id": "assisted-raleigh",
   "metadata": {},
   "outputs": [
    {
     "data": {
      "text/html": [
       "<table class=\"dataframe\">\n",
       "<caption>A matrix: 4 × 12 of type chr</caption>\n",
       "<tbody>\n",
       "\t<tr><th scope=row>Enviroment</th><td>Air  </td><td>Air  </td><td>Air  </td><td>Air  </td><td>Water</td><td>Water</td><td>Water</td><td>Water</td><td>Salted water</td><td>Salted water</td><td>Salted water</td><td>Salted water</td></tr>\n",
       "\t<tr><th scope=row>F1</th><td>2.29 </td><td>2.47 </td><td>2.48 </td><td>2.12 </td><td>2.65 </td><td>2.68 </td><td>2.06 </td><td>2.38 </td><td>2.24        </td><td>2.71        </td><td>2.81        </td><td>2.08        </td></tr>\n",
       "\t<tr><th scope=row>F2</th><td> 2.06</td><td> 2.05</td><td> 2.23</td><td> 2.03</td><td> 3.20</td><td> 3.18</td><td> 3.96</td><td> 3.64</td><td>11.00       </td><td>11.00       </td><td> 9.06       </td><td>11.30       </td></tr>\n",
       "\t<tr><th scope=row>F3</th><td> 1.90</td><td> 1.93</td><td> 1.75</td><td> 2.06</td><td> 3.10</td><td> 3.24</td><td> 3.98</td><td> 3.24</td><td> 9.96       </td><td>10.01       </td><td> 9.36       </td><td>10.40       </td></tr>\n",
       "</tbody>\n",
       "</table>\n"
      ],
      "text/latex": [
       "A matrix: 4 × 12 of type chr\n",
       "\\begin{tabular}{r|llllllllllll}\n",
       "\tEnviroment & Air   & Air   & Air   & Air   & Water & Water & Water & Water & Salted water & Salted water & Salted water & Salted water\\\\\n",
       "\tF1 & 2.29  & 2.47  & 2.48  & 2.12  & 2.65  & 2.68  & 2.06  & 2.38  & 2.24         & 2.71         & 2.81         & 2.08        \\\\\n",
       "\tF2 &  2.06 &  2.05 &  2.23 &  2.03 &  3.20 &  3.18 &  3.96 &  3.64 & 11.00        & 11.00        &  9.06        & 11.30       \\\\\n",
       "\tF3 &  1.90 &  1.93 &  1.75 &  2.06 &  3.10 &  3.24 &  3.98 &  3.24 &  9.96        & 10.01        &  9.36        & 10.40       \\\\\n",
       "\\end{tabular}\n"
      ],
      "text/markdown": [
       "\n",
       "A matrix: 4 × 12 of type chr\n",
       "\n",
       "| Enviroment | Air   | Air   | Air   | Air   | Water | Water | Water | Water | Salted water | Salted water | Salted water | Salted water |\n",
       "| F1 | 2.29  | 2.47  | 2.48  | 2.12  | 2.65  | 2.68  | 2.06  | 2.38  | 2.24         | 2.71         | 2.81         | 2.08         |\n",
       "| F2 |  2.06 |  2.05 |  2.23 |  2.03 |  3.20 |  3.18 |  3.96 |  3.64 | 11.00        | 11.00        |  9.06        | 11.30        |\n",
       "| F3 |  1.90 |  1.93 |  1.75 |  2.06 |  3.10 |  3.24 |  3.98 |  3.24 |  9.96        | 10.01        |  9.36        | 10.40        |\n",
       "\n"
      ],
      "text/plain": [
       "           [,1]  [,2]  [,3]  [,4]  [,5]  [,6]  [,7]  [,8]  [,9]        \n",
       "Enviroment Air   Air   Air   Air   Water Water Water Water Salted water\n",
       "F1         2.29  2.47  2.48  2.12  2.65  2.68  2.06  2.38  2.24        \n",
       "F2          2.06  2.05  2.23  2.03  3.20  3.18  3.96  3.64 11.00       \n",
       "F3          1.90  1.93  1.75  2.06  3.10  3.24  3.98  3.24  9.96       \n",
       "           [,10]        [,11]        [,12]       \n",
       "Enviroment Salted water Salted water Salted water\n",
       "F1         2.71         2.81         2.08        \n",
       "F2         11.00         9.06        11.30       \n",
       "F3         10.01         9.36        10.40       "
      ]
     },
     "metadata": {},
     "output_type": "display_data"
    }
   ],
   "source": [
    "data = data.frame(Enviroment = c(rep(\"Air\",4), rep(\"Water\",4), rep(\"Salted water\",4)), \n",
    "                  F1 = c(2.29, 2.47, 2.48, 2.12, 2.65, 2.68, 2.06, 2.38, 2.24, 2.71, 2.81, 2.08),\n",
    "                  F2 = c(2.06, 2.05, 2.23, 2.03, 3.20, 3.18, 3.96, 3.64, 11.00, 11.00, 9.06, 11.30),\n",
    "                  F3 = c(1.90, 1.93, 1.75, 2.06, 3.10, 3.24, 3.98, 3.24, 9.96, 10.01, 9.36, 10.40)\n",
    "                 )\n",
    "t(data)"
   ]
  },
  {
   "cell_type": "markdown",
   "id": "classical-brake",
   "metadata": {},
   "source": [
    "- Analyse the data from this experiment (use α = 0.05).\n",
    "- Analyse the residuals. \n",
    "- Repeat the analyses using log-transform of the response. Comment on the results."
   ]
  },
  {
   "cell_type": "code",
   "execution_count": 18,
   "id": "69881b51",
   "metadata": {},
   "outputs": [],
   "source": [
    "# write your code here\n",
    "\n"
   ]
  },
  {
   "cell_type": "markdown",
   "id": "registered-cleaner",
   "metadata": {},
   "source": [
    "---"
   ]
  },
  {
   "cell_type": "markdown",
   "id": "alpine-demonstration",
   "metadata": {},
   "source": [
    "### Exercise 6 (Three-way design)"
   ]
  },
  {
   "cell_type": "markdown",
   "id": "510d2234-cc08-48e8-9896-d5d75f72b204",
   "metadata": {},
   "source": [
    "A soft drink bottler is interested in obtaining more uniform fill heights in the bottles produced by his manufacturing process. The filling machine theoretically fills each bottle to the correct target height, but in practice, there is variation around this target, and the bottler would like to understand the sources of this variability better and eventually reduce it. \n",
    "\n",
    "The process engineer can control three variables during the filling process: the percent carbonation (A), the operating pressure in the filler (B), and the bottles produced per minute or the line speed (C). The pressure and speed are easy to control, but the percent carbonation is more difficult to control during actual manufacturing because it varies with product temperature. However, for purposes of an experiment, the engineer can control carbonation at three levels: 10, 12, and 14 percent. She chooses two levels for pressure (25 and 30 psi) and two levels for line speed (200 and 250 bpm). She decides to run two replicates of a factorial design in these\n",
    "three factors, with all 24 runs taken in random order. The response variable observed is the average deviation from the target fill height observed in a production run of bottles at each set of conditions. The data that resulted from this experiment are shown below:"
   ]
  },
  {
   "cell_type": "code",
   "execution_count": 19,
   "id": "declared-mattress",
   "metadata": {},
   "outputs": [
    {
     "data": {
      "text/html": [
       "<table class=\"dataframe\">\n",
       "<caption>A matrix: 5 × 8 of type chr</caption>\n",
       "<tbody>\n",
       "\t<tr><th scope=row>Pressure</th><td>25psi</td><td>25psi</td><td>25psi</td><td>25psi</td><td>30psi</td><td>30psi</td><td>30psi</td><td>30psi</td></tr>\n",
       "\t<tr><th scope=row>Speed</th><td>200  </td><td>200  </td><td>250  </td><td>250  </td><td>200  </td><td>200  </td><td>250  </td><td>250  </td></tr>\n",
       "\t<tr><th scope=row>Carb10</th><td>-3   </td><td>-1   </td><td>-1   </td><td> 0   </td><td>-1   </td><td> 0   </td><td> 1   </td><td> 1   </td></tr>\n",
       "\t<tr><th scope=row>Carb12</th><td>0    </td><td>1    </td><td>2    </td><td>1    </td><td>2    </td><td>3    </td><td>6    </td><td>5    </td></tr>\n",
       "\t<tr><th scope=row>Carb14</th><td> 5   </td><td> 4   </td><td> 7   </td><td> 6   </td><td> 7   </td><td> 9   </td><td>10   </td><td>11   </td></tr>\n",
       "</tbody>\n",
       "</table>\n"
      ],
      "text/latex": [
       "A matrix: 5 × 8 of type chr\n",
       "\\begin{tabular}{r|llllllll}\n",
       "\tPressure & 25psi & 25psi & 25psi & 25psi & 30psi & 30psi & 30psi & 30psi\\\\\n",
       "\tSpeed & 200   & 200   & 250   & 250   & 200   & 200   & 250   & 250  \\\\\n",
       "\tCarb10 & -3    & -1    & -1    &  0    & -1    &  0    &  1    &  1   \\\\\n",
       "\tCarb12 & 0     & 1     & 2     & 1     & 2     & 3     & 6     & 5    \\\\\n",
       "\tCarb14 &  5    &  4    &  7    &  6    &  7    &  9    & 10    & 11   \\\\\n",
       "\\end{tabular}\n"
      ],
      "text/markdown": [
       "\n",
       "A matrix: 5 × 8 of type chr\n",
       "\n",
       "| Pressure | 25psi | 25psi | 25psi | 25psi | 30psi | 30psi | 30psi | 30psi |\n",
       "| Speed | 200   | 200   | 250   | 250   | 200   | 200   | 250   | 250   |\n",
       "| Carb10 | -3    | -1    | -1    |  0    | -1    |  0    |  1    |  1    |\n",
       "| Carb12 | 0     | 1     | 2     | 1     | 2     | 3     | 6     | 5     |\n",
       "| Carb14 |  5    |  4    |  7    |  6    |  7    |  9    | 10    | 11    |\n",
       "\n"
      ],
      "text/plain": [
       "         [,1]  [,2]  [,3]  [,4]  [,5]  [,6]  [,7]  [,8] \n",
       "Pressure 25psi 25psi 25psi 25psi 30psi 30psi 30psi 30psi\n",
       "Speed    200   200   250   250   200   200   250   250  \n",
       "Carb10   -3    -1    -1     0    -1     0     1     1   \n",
       "Carb12   0     1     2     1     2     3     6     5    \n",
       "Carb14    5     4     7     6     7     9    10    11   "
      ]
     },
     "metadata": {},
     "output_type": "display_data"
    }
   ],
   "source": [
    "data = data.frame(Pressure = c(rep(\"25psi\",4), rep(\"30psi\",4)), \n",
    "                  Speed  = c(200, 200, 250, 250, 200, 200, 250, 250), \n",
    "                  Carb10 = c(-3, -1, -1,  0, -1,  0,  1,  1),\n",
    "                  Carb12 = c( 0,  1,  2,  1,  2,  3,  6,  5),\n",
    "                  Carb14 = c( 5,  4,  7,  6,  7,  9, 10, 11)\n",
    "                 )\n",
    "t(data)"
   ]
  },
  {
   "cell_type": "markdown",
   "id": "subject-assault",
   "metadata": {},
   "source": [
    "Help the engineer to find the best filling regime.\n",
    "\n",
    "*Answer: the engineer decides to recommend the low level of operating pressure (25 psi) and the high level of line speed (250 bpm, which will maximize the production rate).*"
   ]
  },
  {
   "cell_type": "code",
   "execution_count": 20,
   "id": "de55d845",
   "metadata": {},
   "outputs": [],
   "source": [
    "# write your code here\n",
    "\n"
   ]
  },
  {
   "cell_type": "markdown",
   "id": "honest-lying",
   "metadata": {},
   "source": [
    "---"
   ]
  },
  {
   "cell_type": "markdown",
   "id": "9b24146c-4463-4d87-8cab-816cfdeb45e5",
   "metadata": {},
   "source": [
    "### Exercise 7"
   ]
  },
  {
   "cell_type": "markdown",
   "id": "boolean-consent",
   "metadata": {},
   "source": [
    "Show that residuals in a two-way ANOVA model with an interaction satisfy\n",
    "\n",
    "$$\n",
    "{\\rm E}(e_{ijk})=0 \\qquad\n",
    "{\\rm Cov}(e_{ijk}, e_{lst})=\\delta_{il} \\delta_{js} \\bigg( \\delta_{kt} - \\frac1n \\bigg)\\sigma^2 \n",
    "$$\n",
    "\n",
    "where $\\delta_{il}$, $\\delta_{js}$, and $\\delta_{kt}$ are the Kronecker delta symbols: $\\delta_{ab}=1$ if $a=b$ and $\\delta_{ab}=0$ otherwise."
   ]
  },
  {
   "cell_type": "markdown",
   "id": "particular-status",
   "metadata": {},
   "source": [
    "---"
   ]
  }
 ],
 "metadata": {
  "kernelspec": {
   "display_name": "R",
   "language": "R",
   "name": "ir"
  },
  "language_info": {
   "codemirror_mode": "r",
   "file_extension": ".r",
   "mimetype": "text/x-r-source",
   "name": "R",
   "pygments_lexer": "r",
   "version": "4.3.1"
  }
 },
 "nbformat": 4,
 "nbformat_minor": 5
}
