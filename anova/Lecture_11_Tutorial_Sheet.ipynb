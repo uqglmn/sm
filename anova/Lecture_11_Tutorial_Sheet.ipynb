{
 "cells": [
  {
   "cell_type": "markdown",
   "id": "gorgeous-beauty",
   "metadata": {},
   "source": [
    "## Lecture 11 Tutorial Sheet\n",
    "\n",
    "**Nested ANOVA: analysis of hierarchical design experiments**"
   ]
  },
  {
   "cell_type": "markdown",
   "id": "340cd7b8-4474-444a-a379-473e4508231a",
   "metadata": {},
   "source": [
    "The nested two-way ANOVA model: $y_{ijk} = \\mu + \\alpha_i + \\beta_{j(i)} + \\epsilon_{ijk}$"
   ]
  },
  {
   "cell_type": "markdown",
   "id": "neural-modern",
   "metadata": {},
   "source": [
    "---"
   ]
  },
  {
   "cell_type": "markdown",
   "id": "bored-surrey",
   "metadata": {},
   "source": [
    "### Exercise 1"
   ]
  },
  {
   "cell_type": "markdown",
   "id": "15c68194-6ec7-43d6-bf84-47b7df42466e",
   "metadata": {},
   "source": [
    "A production engineer studied the effects of machine model (factor A) and operator (factor B) on the output in a bottling plant: \n",
    "\n",
    "- Three bottling machines were used, each a different model, and\n",
    "- Twelve operators were employed. \n",
    "\n",
    "Four operators were assigned to a machine and worked six-hour shifts each. Data on the number of cases produced by each machine and operator were collected for a week. The table below shows the number of cases produced per hour for each day during the week:"
   ]
  },
  {
   "cell_type": "code",
   "execution_count": 1,
   "id": "black-tension",
   "metadata": {},
   "outputs": [
    {
     "data": {
      "text/html": [
       "<table class=\"dataframe\">\n",
       "<caption>A matrix: 5 × 15 of type chr</caption>\n",
       "<tbody>\n",
       "\t<tr><th scope=row>machine</th><td>M1</td><td>M1</td><td>M1</td><td>M1</td><td>M1</td><td>M2</td><td>M2</td><td>M2</td><td>M2</td><td>M2</td><td>M3</td><td>M3</td><td>M3</td><td>M3</td><td>M3</td></tr>\n",
       "\t<tr><th scope=row>O1</th><td>65</td><td>58</td><td>63</td><td>57</td><td>66</td><td>74</td><td>81</td><td>76</td><td>80</td><td>68</td><td>69</td><td>83</td><td>74</td><td>78</td><td>80</td></tr>\n",
       "\t<tr><th scope=row>O2</th><td>68</td><td>62</td><td>75</td><td>64</td><td>70</td><td>69</td><td>76</td><td>80</td><td>78</td><td>73</td><td>63</td><td>70</td><td>72</td><td>68</td><td>75</td></tr>\n",
       "\t<tr><th scope=row>O3</th><td>56</td><td>65</td><td>58</td><td>70</td><td>64</td><td>52</td><td>56</td><td>62</td><td>58</td><td>51</td><td>81</td><td>72</td><td>73</td><td>76</td><td>70</td></tr>\n",
       "\t<tr><th scope=row>O4</th><td>45</td><td>56</td><td>54</td><td>48</td><td>60</td><td>52</td><td>56</td><td>62</td><td>58</td><td>51</td><td>67</td><td>79</td><td>73</td><td>77</td><td>71</td></tr>\n",
       "</tbody>\n",
       "</table>\n"
      ],
      "text/latex": [
       "A matrix: 5 × 15 of type chr\n",
       "\\begin{tabular}{r|lllllllllllllll}\n",
       "\tmachine & M1 & M1 & M1 & M1 & M1 & M2 & M2 & M2 & M2 & M2 & M3 & M3 & M3 & M3 & M3\\\\\n",
       "\tO1 & 65 & 58 & 63 & 57 & 66 & 74 & 81 & 76 & 80 & 68 & 69 & 83 & 74 & 78 & 80\\\\\n",
       "\tO2 & 68 & 62 & 75 & 64 & 70 & 69 & 76 & 80 & 78 & 73 & 63 & 70 & 72 & 68 & 75\\\\\n",
       "\tO3 & 56 & 65 & 58 & 70 & 64 & 52 & 56 & 62 & 58 & 51 & 81 & 72 & 73 & 76 & 70\\\\\n",
       "\tO4 & 45 & 56 & 54 & 48 & 60 & 52 & 56 & 62 & 58 & 51 & 67 & 79 & 73 & 77 & 71\\\\\n",
       "\\end{tabular}\n"
      ],
      "text/markdown": [
       "\n",
       "A matrix: 5 × 15 of type chr\n",
       "\n",
       "| machine | M1 | M1 | M1 | M1 | M1 | M2 | M2 | M2 | M2 | M2 | M3 | M3 | M3 | M3 | M3 |\n",
       "| O1 | 65 | 58 | 63 | 57 | 66 | 74 | 81 | 76 | 80 | 68 | 69 | 83 | 74 | 78 | 80 |\n",
       "| O2 | 68 | 62 | 75 | 64 | 70 | 69 | 76 | 80 | 78 | 73 | 63 | 70 | 72 | 68 | 75 |\n",
       "| O3 | 56 | 65 | 58 | 70 | 64 | 52 | 56 | 62 | 58 | 51 | 81 | 72 | 73 | 76 | 70 |\n",
       "| O4 | 45 | 56 | 54 | 48 | 60 | 52 | 56 | 62 | 58 | 51 | 67 | 79 | 73 | 77 | 71 |\n",
       "\n"
      ],
      "text/plain": [
       "        [,1] [,2] [,3] [,4] [,5] [,6] [,7] [,8] [,9] [,10] [,11] [,12] [,13]\n",
       "machine M1   M1   M1   M1   M1   M2   M2   M2   M2   M2    M3    M3    M3   \n",
       "O1      65   58   63   57   66   74   81   76   80   68    69    83    74   \n",
       "O2      68   62   75   64   70   69   76   80   78   73    63    70    72   \n",
       "O3      56   65   58   70   64   52   56   62   58   51    81    72    73   \n",
       "O4      45   56   54   48   60   52   56   62   58   51    67    79    73   \n",
       "        [,14] [,15]\n",
       "machine M3    M3   \n",
       "O1      78    80   \n",
       "O2      68    75   \n",
       "O3      76    70   \n",
       "O4      77    71   "
      ]
     },
     "metadata": {},
     "output_type": "display_data"
    }
   ],
   "source": [
    "data = data.frame(machine = c(rep(\"M1\",5),rep(\"M2\",5),rep(\"M3\",5)),\n",
    "                  O1 = c(65, 58, 63, 57, 66, 74, 81, 76, 80, 68, 69, 83, 74, 78, 80),\n",
    "                  O2 = c(68, 62, 75, 64, 70, 69, 76, 80, 78, 73, 63, 70, 72, 68, 75),\n",
    "                  O3 = c(56, 65, 58, 70, 64, 52, 56, 62, 58, 51, 81, 72, 73, 76, 70),\n",
    "                  O4 = c(45, 56, 54, 48, 60, 52, 56, 62, 58, 51, 67, 79, 73, 77, 71)               \n",
    "                )\n",
    "t(data)"
   ]
  },
  {
   "cell_type": "markdown",
   "id": "seasonal-latex",
   "metadata": {},
   "source": [
    "This experiment has two factors, ``machine`` and ``operator``: \n",
    "\n",
    "- The first factor has $a = 3$ levels (``M1``, ``M2``, and ``M3``)\n",
    "- The second factor has $b = 4$ levels (``O1``, ``O2``, ``O3``, and ``O4``). \n",
    "\n",
    "There are $n = 5$ replications per each machine and operator combination. This is a nested fixed-factor two-way design, since there are 12 operators assigned to 3 bottling machines: \n",
    "\n",
    "- Operators are nested within machines, i.e. operator 1 of machine 1 and operator 1 of machine 2 are different persons.\n",
    "\n",
    "**Task.** Help the production engineer to investigate the significance of machine model and operator on the output in a bottling plant."
   ]
  },
  {
   "cell_type": "code",
   "execution_count": 2,
   "id": "61da25b8",
   "metadata": {},
   "outputs": [],
   "source": [
    "# write your code here\n",
    "\n"
   ]
  },
  {
   "cell_type": "markdown",
   "id": "higher-friendship",
   "metadata": {},
   "source": [
    "---"
   ]
  },
  {
   "cell_type": "markdown",
   "id": "sunrise-inflation",
   "metadata": {},
   "source": [
    "### Exercise 2\n",
    "\n",
    "A rocket propellant manufacturer is studying the burning rate of propellant from three production processes:\n",
    "- Four batches of propellant are randomly selected from the output of each process, and\n",
    "- Three determinations of burning rate are made on each batch.\n",
    "\n",
    "The results are as follows:"
   ]
  },
  {
   "cell_type": "code",
   "execution_count": 3,
   "id": "bright-hayes",
   "metadata": {},
   "outputs": [
    {
     "data": {
      "text/html": [
       "<table class=\"dataframe\">\n",
       "<caption>A matrix: 4 × 12 of type chr</caption>\n",
       "<tbody>\n",
       "\t<tr><th scope=row>Batch</th><td>1 </td><td>1 </td><td>1 </td><td>2 </td><td>2 </td><td>2 </td><td>3 </td><td>3 </td><td>3 </td><td>4 </td><td>4 </td><td>4 </td></tr>\n",
       "\t<tr><th scope=row>Process1</th><td>25</td><td>30</td><td>26</td><td>19</td><td>28</td><td>20</td><td>15</td><td>17</td><td>14</td><td>15</td><td>16</td><td>13</td></tr>\n",
       "\t<tr><th scope=row>Process2</th><td>19</td><td>17</td><td>14</td><td>23</td><td>24</td><td>21</td><td>18</td><td>21</td><td>17</td><td>35</td><td>27</td><td>25</td></tr>\n",
       "\t<tr><th scope=row>Process3</th><td>14</td><td>15</td><td>20</td><td>35</td><td>21</td><td>24</td><td>38</td><td>54</td><td>50</td><td>25</td><td>29</td><td>33</td></tr>\n",
       "</tbody>\n",
       "</table>\n"
      ],
      "text/latex": [
       "A matrix: 4 × 12 of type chr\n",
       "\\begin{tabular}{r|llllllllllll}\n",
       "\tBatch & 1  & 1  & 1  & 2  & 2  & 2  & 3  & 3  & 3  & 4  & 4  & 4 \\\\\n",
       "\tProcess1 & 25 & 30 & 26 & 19 & 28 & 20 & 15 & 17 & 14 & 15 & 16 & 13\\\\\n",
       "\tProcess2 & 19 & 17 & 14 & 23 & 24 & 21 & 18 & 21 & 17 & 35 & 27 & 25\\\\\n",
       "\tProcess3 & 14 & 15 & 20 & 35 & 21 & 24 & 38 & 54 & 50 & 25 & 29 & 33\\\\\n",
       "\\end{tabular}\n"
      ],
      "text/markdown": [
       "\n",
       "A matrix: 4 × 12 of type chr\n",
       "\n",
       "| Batch | 1  | 1  | 1  | 2  | 2  | 2  | 3  | 3  | 3  | 4  | 4  | 4  |\n",
       "| Process1 | 25 | 30 | 26 | 19 | 28 | 20 | 15 | 17 | 14 | 15 | 16 | 13 |\n",
       "| Process2 | 19 | 17 | 14 | 23 | 24 | 21 | 18 | 21 | 17 | 35 | 27 | 25 |\n",
       "| Process3 | 14 | 15 | 20 | 35 | 21 | 24 | 38 | 54 | 50 | 25 | 29 | 33 |\n",
       "\n"
      ],
      "text/plain": [
       "         [,1] [,2] [,3] [,4] [,5] [,6] [,7] [,8] [,9] [,10] [,11] [,12]\n",
       "Batch    1    1    1    2    2    2    3    3    3    4     4     4    \n",
       "Process1 25   30   26   19   28   20   15   17   14   15    16    13   \n",
       "Process2 19   17   14   23   24   21   18   21   17   35    27    25   \n",
       "Process3 14   15   20   35   21   24   38   54   50   25    29    33   "
      ]
     },
     "metadata": {},
     "output_type": "display_data"
    }
   ],
   "source": [
    "data = data.frame(Batch = as.factor(c(1,1,1,2,2,2,3,3,3,4,4,4)),\n",
    "                  Process1 = c(25,30,26,19,28,20,15,17,14,15,16,13),\n",
    "                  Process2 = c(19,17,14,23,24,21,18,21,17,35,27,25),\n",
    "                  Process3 = c(14,15,20,35,21,24,38,54,50,25,29,33)\n",
    "                 )\n",
    "t(data)"
   ]
  },
  {
   "cell_type": "markdown",
   "id": "efd93c70",
   "metadata": {},
   "source": [
    "**Task.** Analyze the data and draw conclusions."
   ]
  },
  {
   "cell_type": "code",
   "execution_count": 4,
   "id": "4f5b019f-de56-493e-87c2-c70998f981a7",
   "metadata": {},
   "outputs": [],
   "source": [
    "# write your code here\n",
    "\n"
   ]
  },
  {
   "cell_type": "markdown",
   "id": "connected-specialist",
   "metadata": {},
   "source": [
    "---"
   ]
  },
  {
   "cell_type": "markdown",
   "id": "developmental-trader",
   "metadata": {},
   "source": [
    "### Exercise 3\n",
    "\n",
    "To simplify production scheduling, an industrial engineer is studying the possibility of assigning one time standard to a particular class of jobs, believing that differences between jobs are negligible. To see if this simplification is possible, the engineer set up the following experiment: \n",
    "\n",
    "- Six jobs are randomly selected.\n",
    "- Each job is given to a different group of three operators.\n",
    "- Each operator completes the job twice at different times during the week.\n",
    "  \n",
    "The following results are obtained:"
   ]
  },
  {
   "cell_type": "code",
   "execution_count": 5,
   "id": "elementary-ebony",
   "metadata": {},
   "outputs": [
    {
     "data": {
      "text/html": [
       "<table class=\"dataframe\">\n",
       "<caption>A matrix: 4 × 12 of type chr</caption>\n",
       "<tbody>\n",
       "\t<tr><th scope=row>Job</th><td>1    </td><td>2    </td><td>3    </td><td>4    </td><td>5    </td><td>6    </td><td>1    </td><td>2    </td><td>3    </td><td>4    </td><td>5    </td><td>6    </td></tr>\n",
       "\t<tr><th scope=row>Operator1</th><td>158.3</td><td>154.6</td><td>162.5</td><td>160.0</td><td>156.3</td><td>163.7</td><td>159.4</td><td>154.9</td><td>162.6</td><td>158.7</td><td>158.1</td><td>161.0</td></tr>\n",
       "\t<tr><th scope=row>Operator2</th><td>159.2</td><td>157.7</td><td>161.0</td><td>157.5</td><td>158.3</td><td>162.3</td><td>159.6</td><td>156.8</td><td>158.9</td><td>158.9</td><td>156.9</td><td>160.3</td></tr>\n",
       "\t<tr><th scope=row>Operator3</th><td>158.9</td><td>154.8</td><td>160.5</td><td>161.1</td><td>157.7</td><td>162.6</td><td>157.8</td><td>156.3</td><td>159.5</td><td>158.5</td><td>156.9</td><td>161.8</td></tr>\n",
       "</tbody>\n",
       "</table>\n"
      ],
      "text/latex": [
       "A matrix: 4 × 12 of type chr\n",
       "\\begin{tabular}{r|llllllllllll}\n",
       "\tJob & 1     & 2     & 3     & 4     & 5     & 6     & 1     & 2     & 3     & 4     & 5     & 6    \\\\\n",
       "\tOperator1 & 158.3 & 154.6 & 162.5 & 160.0 & 156.3 & 163.7 & 159.4 & 154.9 & 162.6 & 158.7 & 158.1 & 161.0\\\\\n",
       "\tOperator2 & 159.2 & 157.7 & 161.0 & 157.5 & 158.3 & 162.3 & 159.6 & 156.8 & 158.9 & 158.9 & 156.9 & 160.3\\\\\n",
       "\tOperator3 & 158.9 & 154.8 & 160.5 & 161.1 & 157.7 & 162.6 & 157.8 & 156.3 & 159.5 & 158.5 & 156.9 & 161.8\\\\\n",
       "\\end{tabular}\n"
      ],
      "text/markdown": [
       "\n",
       "A matrix: 4 × 12 of type chr\n",
       "\n",
       "| Job | 1     | 2     | 3     | 4     | 5     | 6     | 1     | 2     | 3     | 4     | 5     | 6     |\n",
       "| Operator1 | 158.3 | 154.6 | 162.5 | 160.0 | 156.3 | 163.7 | 159.4 | 154.9 | 162.6 | 158.7 | 158.1 | 161.0 |\n",
       "| Operator2 | 159.2 | 157.7 | 161.0 | 157.5 | 158.3 | 162.3 | 159.6 | 156.8 | 158.9 | 158.9 | 156.9 | 160.3 |\n",
       "| Operator3 | 158.9 | 154.8 | 160.5 | 161.1 | 157.7 | 162.6 | 157.8 | 156.3 | 159.5 | 158.5 | 156.9 | 161.8 |\n",
       "\n"
      ],
      "text/plain": [
       "          [,1]  [,2]  [,3]  [,4]  [,5]  [,6]  [,7]  [,8]  [,9]  [,10] [,11]\n",
       "Job       1     2     3     4     5     6     1     2     3     4     5    \n",
       "Operator1 158.3 154.6 162.5 160.0 156.3 163.7 159.4 154.9 162.6 158.7 158.1\n",
       "Operator2 159.2 157.7 161.0 157.5 158.3 162.3 159.6 156.8 158.9 158.9 156.9\n",
       "Operator3 158.9 154.8 160.5 161.1 157.7 162.6 157.8 156.3 159.5 158.5 156.9\n",
       "          [,12]\n",
       "Job       6    \n",
       "Operator1 161.0\n",
       "Operator2 160.3\n",
       "Operator3 161.8"
      ]
     },
     "metadata": {},
     "output_type": "display_data"
    }
   ],
   "source": [
    "data = data.frame(Job = as.factor(c(1:6,1:6)),\n",
    "                  Operator1 = c(158.3,154.6,162.5,160,156.3,163.7,159.4,154.9,162.6,158.7,158.1,161.0),\n",
    "                  Operator2 = c(159.2,157.7,161.0,157.5,158.3,162.3,159.6,156.8,158.9,158.9,156.9,160.3),\n",
    "                  Operator3 = c(158.9,154.8,160.5,161.1,157.7,162.6,157.8,156.3,159.5,158.5,156.9,161.8)\n",
    "                 )\n",
    "t(data)"
   ]
  },
  {
   "cell_type": "markdown",
   "id": "02098c52",
   "metadata": {},
   "source": [
    "**Task.** What are your conclusions about the use of a common time standard for all jobs in this class? What value would you use for the standard?"
   ]
  },
  {
   "cell_type": "code",
   "execution_count": 6,
   "id": "1855435a",
   "metadata": {},
   "outputs": [],
   "source": [
    "# write your code here\n",
    "\n"
   ]
  },
  {
   "cell_type": "markdown",
   "id": "parental-robin",
   "metadata": {},
   "source": [
    "---"
   ]
  },
  {
   "cell_type": "markdown",
   "id": "associate-angola",
   "metadata": {},
   "source": [
    "### Exercise 4\n",
    "\n",
    "A process engineer is testing the yield of a product manufactured on three machines. Each machine can be operated at two power settings. Furthermore, a machine has three stations on which the product is formed. An experiment is conducted in which each machine is tested at both power settings, and three observations on yield are taken from each station. The runs are made in random order, and the results are shown below."
   ]
  },
  {
   "cell_type": "code",
   "execution_count": 7,
   "id": "instant-witch",
   "metadata": {
    "scrolled": true
   },
   "outputs": [
    {
     "data": {
      "text/html": [
       "<table class=\"dataframe\">\n",
       "<caption>A matrix: 5 × 18 of type chr</caption>\n",
       "<tbody>\n",
       "\t<tr><th scope=row>Station</th><td>1   </td><td>1   </td><td>1   </td><td>1   </td><td>1   </td><td>1   </td><td>2   </td><td>2   </td><td>2   </td><td>2   </td><td>2   </td><td>2   </td><td>3   </td><td>3   </td><td>3   </td><td>3   </td><td>3   </td><td>3   </td></tr>\n",
       "\t<tr><th scope=row>Power</th><td>1   </td><td>1   </td><td>1   </td><td>2   </td><td>2   </td><td>2   </td><td>1   </td><td>1   </td><td>1   </td><td>2   </td><td>2   </td><td>2   </td><td>1   </td><td>1   </td><td>1   </td><td>2   </td><td>2   </td><td>2   </td></tr>\n",
       "\t<tr><th scope=row>Machine1</th><td>34.1</td><td>30.3</td><td>31.6</td><td>24.3</td><td>26.3</td><td>27.1</td><td>33.7</td><td>34.9</td><td>35.0</td><td>28.1</td><td>29.3</td><td>28.6</td><td>36.2</td><td>36.8</td><td>37.1</td><td>25.7</td><td>26.1</td><td>24.9</td></tr>\n",
       "\t<tr><th scope=row>Machine2</th><td>31.1</td><td>33.5</td><td>34.0</td><td>24.1</td><td>25.0</td><td>26.3</td><td>33.1</td><td>34.7</td><td>33.9</td><td>24.1</td><td>25.1</td><td>27.9</td><td>32.8</td><td>35.1</td><td>34.3</td><td>26.0</td><td>27.1</td><td>23.9</td></tr>\n",
       "\t<tr><th scope=row>Machine3</th><td>32.9</td><td>33.0</td><td>33.1</td><td>24.2</td><td>26.1</td><td>25.3</td><td>33.8</td><td>33.4</td><td>32.8</td><td>23.2</td><td>27.4</td><td>28.0</td><td>33.6</td><td>32.8</td><td>31.7</td><td>24.7</td><td>22.0</td><td>24.8</td></tr>\n",
       "</tbody>\n",
       "</table>\n"
      ],
      "text/latex": [
       "A matrix: 5 × 18 of type chr\n",
       "\\begin{tabular}{r|llllllllllllllllll}\n",
       "\tStation & 1    & 1    & 1    & 1    & 1    & 1    & 2    & 2    & 2    & 2    & 2    & 2    & 3    & 3    & 3    & 3    & 3    & 3   \\\\\n",
       "\tPower & 1    & 1    & 1    & 2    & 2    & 2    & 1    & 1    & 1    & 2    & 2    & 2    & 1    & 1    & 1    & 2    & 2    & 2   \\\\\n",
       "\tMachine1 & 34.1 & 30.3 & 31.6 & 24.3 & 26.3 & 27.1 & 33.7 & 34.9 & 35.0 & 28.1 & 29.3 & 28.6 & 36.2 & 36.8 & 37.1 & 25.7 & 26.1 & 24.9\\\\\n",
       "\tMachine2 & 31.1 & 33.5 & 34.0 & 24.1 & 25.0 & 26.3 & 33.1 & 34.7 & 33.9 & 24.1 & 25.1 & 27.9 & 32.8 & 35.1 & 34.3 & 26.0 & 27.1 & 23.9\\\\\n",
       "\tMachine3 & 32.9 & 33.0 & 33.1 & 24.2 & 26.1 & 25.3 & 33.8 & 33.4 & 32.8 & 23.2 & 27.4 & 28.0 & 33.6 & 32.8 & 31.7 & 24.7 & 22.0 & 24.8\\\\\n",
       "\\end{tabular}\n"
      ],
      "text/markdown": [
       "\n",
       "A matrix: 5 × 18 of type chr\n",
       "\n",
       "| Station | 1    | 1    | 1    | 1    | 1    | 1    | 2    | 2    | 2    | 2    | 2    | 2    | 3    | 3    | 3    | 3    | 3    | 3    |\n",
       "| Power | 1    | 1    | 1    | 2    | 2    | 2    | 1    | 1    | 1    | 2    | 2    | 2    | 1    | 1    | 1    | 2    | 2    | 2    |\n",
       "| Machine1 | 34.1 | 30.3 | 31.6 | 24.3 | 26.3 | 27.1 | 33.7 | 34.9 | 35.0 | 28.1 | 29.3 | 28.6 | 36.2 | 36.8 | 37.1 | 25.7 | 26.1 | 24.9 |\n",
       "| Machine2 | 31.1 | 33.5 | 34.0 | 24.1 | 25.0 | 26.3 | 33.1 | 34.7 | 33.9 | 24.1 | 25.1 | 27.9 | 32.8 | 35.1 | 34.3 | 26.0 | 27.1 | 23.9 |\n",
       "| Machine3 | 32.9 | 33.0 | 33.1 | 24.2 | 26.1 | 25.3 | 33.8 | 33.4 | 32.8 | 23.2 | 27.4 | 28.0 | 33.6 | 32.8 | 31.7 | 24.7 | 22.0 | 24.8 |\n",
       "\n"
      ],
      "text/plain": [
       "         [,1] [,2] [,3] [,4] [,5] [,6] [,7] [,8] [,9] [,10] [,11] [,12] [,13]\n",
       "Station  1    1    1    1    1    1    2    2    2    2     2     2     3    \n",
       "Power    1    1    1    2    2    2    1    1    1    2     2     2     1    \n",
       "Machine1 34.1 30.3 31.6 24.3 26.3 27.1 33.7 34.9 35.0 28.1  29.3  28.6  36.2 \n",
       "Machine2 31.1 33.5 34.0 24.1 25.0 26.3 33.1 34.7 33.9 24.1  25.1  27.9  32.8 \n",
       "Machine3 32.9 33.0 33.1 24.2 26.1 25.3 33.8 33.4 32.8 23.2  27.4  28.0  33.6 \n",
       "         [,14] [,15] [,16] [,17] [,18]\n",
       "Station  3     3     3     3     3    \n",
       "Power    1     1     2     2     2    \n",
       "Machine1 36.8  37.1  25.7  26.1  24.9 \n",
       "Machine2 35.1  34.3  26.0  27.1  23.9 \n",
       "Machine3 32.8  31.7  24.7  22.0  24.8 "
      ]
     },
     "metadata": {},
     "output_type": "display_data"
    }
   ],
   "source": [
    "data = data.frame(Station  = as.factor(c(rep(1,6),rep(2,6),rep(3,6))),\n",
    "                  Power    = as.factor(rep(c(1,1,1,2,2,2),3)),\n",
    "                  Machine1 = c(34.1,30.3,31.6,24.3,26.3,27.1,33.7,34.9,35.0,28.1,29.3,28.6,36.2,36.8,37.1,25.7,26.1,24.9),\n",
    "                  Machine2 = c(31.1,33.5,34.0,24.1,25.0,26.3,33.1,34.7,33.9,24.1,25.1,27.9,32.8,35.1,34.3,26.0,27.1,23.9),\n",
    "                  Machine3 = c(32.9,33.0,33.1,24.2,26.1,25.3,33.8,33.4,32.8,23.2,27.4,28.0,33.6,32.8,31.7,24.7,22.0,24.8)\n",
    "                 )\n",
    "t(data)"
   ]
  },
  {
   "cell_type": "markdown",
   "id": "f38c6cca",
   "metadata": {},
   "source": [
    "**Task.** Analyze this experiment, assuming that ``Power`` and ``Station`` are nested withing ``Machine``. "
   ]
  },
  {
   "cell_type": "code",
   "execution_count": 8,
   "id": "d1feb5c9",
   "metadata": {},
   "outputs": [],
   "source": [
    "# write your code here\n",
    "\n"
   ]
  },
  {
   "cell_type": "markdown",
   "id": "overhead-publisher",
   "metadata": {},
   "source": [
    "---"
   ]
  }
 ],
 "metadata": {
  "kernelspec": {
   "display_name": "R",
   "language": "R",
   "name": "ir"
  },
  "language_info": {
   "codemirror_mode": "r",
   "file_extension": ".r",
   "mimetype": "text/x-r-source",
   "name": "R",
   "pygments_lexer": "r",
   "version": "4.3.1"
  }
 },
 "nbformat": 4,
 "nbformat_minor": 5
}
