{
 "cells": [
  {
   "cell_type": "markdown",
   "id": "corporate-smell",
   "metadata": {},
   "source": [
    "# Ref/Def Assignment 3 - ANOVA\n",
    "\n",
    "5PAM2024 - Statistical Modelling\n",
    "\n",
    "Name Surname Student ID"
   ]
  },
  {
   "cell_type": "markdown",
   "id": "proof-oxygen",
   "metadata": {},
   "source": [
    "---"
   ]
  },
  {
   "cell_type": "markdown",
   "id": "smart-salmon",
   "metadata": {},
   "source": [
    "A controlled trial was set up to investigate the gains in weight of male rats from diets with different sources (chicken, pork, wheat and soybean) and different levels (low and high) of protein. The data were recorded in relative units (greater values – bigger gains), and are given in a CSV file in the following form:\n",
    "\n",
    "$$\n",
    "\\begin{array}{lccc}\n",
    "& \\text{Chicken} & \\text{Pork} & \\text{Wheat} & \\text{Soybean} \\\\ \\hline\n",
    "& y_{111} & y_{211} & y_{311} & y_{411} \\\\\n",
    "\\text{Low Protein} & \\vdots & \\vdots & \\vdots & \\vdots \\\\\n",
    "& y_{11n} & y_{21n} & y_{31n} & y_{41n} \\\\ \\hline\n",
    "& y_{121} & y_{221} & y_{321} & y_{421} \\\\\n",
    "\\text{High Protein} & \\vdots & \\vdots & \\vdots & \\vdots \\\\\n",
    "& y_{12n} & y_{22n} & y_{32n} & y_{42n} \\\\ \\hline\n",
    "\\end{array}\n",
    "$$\n",
    "\n",
    "\n",
    "Your tasks are:\n",
    "\n",
    "- to investigate if there are statistically significant differences in weight gain\n",
    "    - between groups with different protein sources, and\n",
    "    - between blocks with different protein levels\n",
    "- to use linear contrasts to investigate if there are statistically significant differences in weight gain\n",
    "    - between meat based (chicken and pork) and plant based (wheat and soybean) groups, and\n",
    "    - between chicken and pork based groups\n",
    "\n",
    "\n",
    "You should approach these tasks using additive and interacting two-way ANOVA models. Use α=5%. All computations must be done manually. You can use built-in statistical functions to verify your results and for graphical analysis only."
   ]
  },
  {
   "cell_type": "markdown",
   "id": "alone-february",
   "metadata": {},
   "source": [
    "---"
   ]
  },
  {
   "cell_type": "markdown",
   "id": "extensive-looking",
   "metadata": {},
   "source": [
    "## 1. Additive Two-way ANOVA"
   ]
  },
  {
   "cell_type": "markdown",
   "id": "gorgeous-hamburg",
   "metadata": {},
   "source": [
    "### 1.1. Analysis of the group and block effects"
   ]
  },
  {
   "cell_type": "code",
   "execution_count": 1,
   "id": "dried-methodology",
   "metadata": {},
   "outputs": [],
   "source": [
    "# Test the siginificance of group and block effects - 2 marks"
   ]
  },
  {
   "cell_type": "markdown",
   "id": "liked-classics",
   "metadata": {},
   "source": [
    "### 1.2. Residual analysis"
   ]
  },
  {
   "cell_type": "code",
   "execution_count": 2,
   "id": "commercial-bracelet",
   "metadata": {},
   "outputs": [],
   "source": [
    "# Is the assumption of normality of equal variances met? - 1 mark"
   ]
  },
  {
   "cell_type": "markdown",
   "id": "based-foundation",
   "metadata": {},
   "source": [
    "### 1.3. A follow-up analysis"
   ]
  },
  {
   "cell_type": "code",
   "execution_count": 3,
   "id": "multiple-savannah",
   "metadata": {},
   "outputs": [],
   "source": [
    "# Conduct a linear contrasts analysis - 2 marks"
   ]
  },
  {
   "cell_type": "markdown",
   "id": "silver-genre",
   "metadata": {},
   "source": [
    "---"
   ]
  },
  {
   "cell_type": "markdown",
   "id": "surgical-assessment",
   "metadata": {},
   "source": [
    "## 2. Interacting Two-way ANOVA"
   ]
  },
  {
   "cell_type": "markdown",
   "id": "worst-distributor",
   "metadata": {},
   "source": [
    "### 2.1. Analysis of the group, block and interaction effects"
   ]
  },
  {
   "cell_type": "code",
   "execution_count": 5,
   "id": "appreciated-classroom",
   "metadata": {},
   "outputs": [],
   "source": [
    "# Test the siginificance of group, block and interaction effects - 2 marks"
   ]
  },
  {
   "cell_type": "markdown",
   "id": "sudden-baker",
   "metadata": {},
   "source": [
    "### 2.2. Residual analysis"
   ]
  },
  {
   "cell_type": "code",
   "execution_count": 6,
   "id": "registered-pastor",
   "metadata": {},
   "outputs": [],
   "source": [
    "# Is the assumption of normality of equal variances met? - 1 mark"
   ]
  },
  {
   "cell_type": "markdown",
   "id": "valued-stupid",
   "metadata": {},
   "source": [
    "### 2.3. A follow-up analysis"
   ]
  },
  {
   "cell_type": "code",
   "execution_count": 7,
   "id": "lyric-denial",
   "metadata": {},
   "outputs": [],
   "source": [
    "# Conduct a linear contrasts analysis - 2 marks"
   ]
  },
  {
   "cell_type": "markdown",
   "id": "worst-mills",
   "metadata": {},
   "source": [
    "---"
   ]
  },
  {
   "cell_type": "markdown",
   "id": "16a8dd58",
   "metadata": {},
   "source": [
    "## Memo"
   ]
  },
  {
   "cell_type": "markdown",
   "id": "0cb36ee9",
   "metadata": {},
   "source": [
    "- 10% of  marks are allocated for presentation quality of your work.\n",
    "- Don't forget to verify your work. Restart the kernel and re-run the whole notebook.\n",
    "- Make a pdf copy of this notebook and submit together with the notebook."
   ]
  },
  {
   "cell_type": "markdown",
   "id": "388aca2c",
   "metadata": {},
   "source": [
    "---"
   ]
  }
 ],
 "metadata": {
  "kernelspec": {
   "display_name": "R",
   "language": "R",
   "name": "ir"
  },
  "language_info": {
   "codemirror_mode": "r",
   "file_extension": ".r",
   "mimetype": "text/x-r-source",
   "name": "R",
   "pygments_lexer": "r",
   "version": "4.3.1"
  }
 },
 "nbformat": 4,
 "nbformat_minor": 5
}
